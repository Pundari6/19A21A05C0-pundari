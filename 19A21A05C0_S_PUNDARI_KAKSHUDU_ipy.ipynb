{
  "nbformat": 4,
  "nbformat_minor": 0,
  "metadata": {
    "colab": {
      "name": "19A21A05C0 - S. PUNDARI KAKSHUDU.ipy",
      "provenance": [],
      "authorship_tag": "ABX9TyPQsuona50Gvl6EQ3xp+qoL",
      "include_colab_link": true
    },
    "kernelspec": {
      "display_name": "Python 3",
      "name": "python3"
    },
    "language_info": {
      "name": "python"
    }
  },
  "cells": [
    {
      "cell_type": "markdown",
      "metadata": {
        "id": "view-in-github",
        "colab_type": "text"
      },
      "source": [
        "<a href=\"https://colab.research.google.com/github/Pundari6/19A21A05C0-pundari/blob/main/19A21A05C0_S_PUNDARI_KAKSHUDU_ipy.ipynb\" target=\"_parent\"><img src=\"https://colab.research.google.com/assets/colab-badge.svg\" alt=\"Open In Colab\"/></a>"
      ]
    },
    {
      "cell_type": "markdown",
      "metadata": {
        "id": "uSZAGZMA3saC"
      },
      "source": [
        "# 1a.Running instructions in interactive interpreter and a python script"
      ]
    },
    {
      "cell_type": "code",
      "metadata": {
        "colab": {
          "base_uri": "https://localhost:8080/"
        },
        "id": "0zvExcuG4DmR",
        "outputId": "50c34663-2a98-4d4c-83e3-c4760324a094"
      },
      "source": [
        "print(\"hello,pundari\")\n"
      ],
      "execution_count": null,
      "outputs": [
        {
          "output_type": "stream",
          "text": [
            "hello,pundari\n"
          ],
          "name": "stdout"
        }
      ]
    },
    {
      "cell_type": "markdown",
      "metadata": {
        "id": "bmhO98yZ5hyH"
      },
      "source": [
        "# 1b.write a program to purposfully raise indentation error and correct it"
      ]
    },
    {
      "cell_type": "code",
      "metadata": {
        "colab": {
          "base_uri": "https://localhost:8080/",
          "height": 130
        },
        "id": "Ktks29Fp5J5I",
        "outputId": "be415c51-ef10-4afb-c4fd-e4e72a42bc73"
      },
      "source": [
        "#error code\n",
        "if True:\n",
        "print(\"true\")\n",
        "else\n",
        "print(\"false\")"
      ],
      "execution_count": null,
      "outputs": [
        {
          "output_type": "error",
          "ename": "IndentationError",
          "evalue": "ignored",
          "traceback": [
            "\u001b[0;36m  File \u001b[0;32m\"<ipython-input-44-7ab919c451a4>\"\u001b[0;36m, line \u001b[0;32m2\u001b[0m\n\u001b[0;31m    print(\"true\")\u001b[0m\n\u001b[0m        ^\u001b[0m\n\u001b[0;31mIndentationError\u001b[0m\u001b[0;31m:\u001b[0m expected an indented block\n"
          ]
        }
      ]
    },
    {
      "cell_type": "code",
      "metadata": {
        "colab": {
          "base_uri": "https://localhost:8080/",
          "height": 130
        },
        "id": "eHqsZjJm7hnF",
        "outputId": "ea0b1f04-b4bb-4ab4-fde2-366676c41b6a"
      },
      "source": [
        "#error code\n",
        "if True:\n",
        "  print(\"True1\")\n",
        "   print(\"True2\")\n",
        " else:\n",
        "   print(\"False\")\n",
        "  "
      ],
      "execution_count": null,
      "outputs": [
        {
          "output_type": "error",
          "ename": "IndentationError",
          "evalue": "ignored",
          "traceback": [
            "\u001b[0;36m  File \u001b[0;32m\"<ipython-input-26-2d3ed7694e49>\"\u001b[0;36m, line \u001b[0;32m3\u001b[0m\n\u001b[0;31m    print(\"True2\")\u001b[0m\n\u001b[0m    ^\u001b[0m\n\u001b[0;31mIndentationError\u001b[0m\u001b[0;31m:\u001b[0m unexpected indent\n"
          ]
        }
      ]
    },
    {
      "cell_type": "code",
      "metadata": {
        "id": "V7QNMj7b7hUX"
      },
      "source": [
        "#correct code\n",
        "if True:\n",
        "  print(\"True\")\n",
        "else:    \n",
        "    print(\"False\") "
      ],
      "execution_count": null,
      "outputs": []
    },
    {
      "cell_type": "code",
      "metadata": {
        "id": "qQZG_XFB94lb"
      },
      "source": [
        "#correct code\n",
        "if True:\n",
        "  print(\"True1\")\n",
        "  print(\"True2\") \n",
        "else:\n",
        "  print(\"False\")  "
      ],
      "execution_count": null,
      "outputs": []
    },
    {
      "cell_type": "markdown",
      "metadata": {
        "id": "nHA78_Ru2Y9z"
      },
      "source": [
        "#2a. write a program to compute distance between two points taking input from the user"
      ]
    },
    {
      "cell_type": "code",
      "metadata": {
        "colab": {
          "base_uri": "https://localhost:8080/"
        },
        "id": "BAmdC8x8OLi_",
        "outputId": "09534fde-5c78-47df-d716-6919e81339a5"
      },
      "source": [
        "import math\n",
        "x1=int(input(\"enter x1 value\"))\n",
        "x2=int(input(\"enter x2 value\"))\n",
        "y1=int(input(\"enter y1 value\"))\n",
        "y2=int(input(\"enter y2 value\"))\n",
        " \n",
        "d=math.sqrt(((x2-x1)**2)+((y2-y1)**2))\n",
        "print(\"distance of two points:\",d)"
      ],
      "execution_count": null,
      "outputs": [
        {
          "output_type": "stream",
          "text": [
            "enter x1 value10\n",
            "enter x2 value5\n",
            "enter y1 value8\n",
            "enter y2 value6\n",
            "distance of two points: 5.385164807134504\n"
          ],
          "name": "stdout"
        }
      ]
    },
    {
      "cell_type": "markdown",
      "metadata": {
        "id": "i5sfL13b-nAl"
      },
      "source": [
        "# 2b. write a program add.py that takes 2 numbers as command line argumemts and prints its sum \n"
      ]
    },
    {
      "cell_type": "code",
      "metadata": {
        "colab": {
          "base_uri": "https://localhost:8080/",
          "height": 232
        },
        "id": "2T-y2zq3z2sY",
        "outputId": "9a4ef620-4ba7-4970-a1c2-83b9da778149"
      },
      "source": [
        "import sys\n",
        "a=int(sys.argv[1])\n",
        "b=int(sys.argv[2])\n",
        "\n",
        "sum=a+b\n",
        "print(\"sum of two numbers is:\",sum)"
      ],
      "execution_count": null,
      "outputs": [
        {
          "output_type": "error",
          "ename": "ValueError",
          "evalue": "ignored",
          "traceback": [
            "\u001b[0;31m---------------------------------------------------------------------------\u001b[0m",
            "\u001b[0;31mValueError\u001b[0m                                Traceback (most recent call last)",
            "\u001b[0;32m<ipython-input-43-8addbaf8adbf>\u001b[0m in \u001b[0;36m<module>\u001b[0;34m()\u001b[0m\n\u001b[1;32m      1\u001b[0m \u001b[0;32mimport\u001b[0m \u001b[0msys\u001b[0m\u001b[0;34m\u001b[0m\u001b[0;34m\u001b[0m\u001b[0m\n\u001b[0;32m----> 2\u001b[0;31m \u001b[0ma\u001b[0m\u001b[0;34m=\u001b[0m\u001b[0mint\u001b[0m\u001b[0;34m(\u001b[0m\u001b[0msys\u001b[0m\u001b[0;34m.\u001b[0m\u001b[0margv\u001b[0m\u001b[0;34m[\u001b[0m\u001b[0;36m1\u001b[0m\u001b[0;34m]\u001b[0m\u001b[0;34m)\u001b[0m\u001b[0;34m\u001b[0m\u001b[0;34m\u001b[0m\u001b[0m\n\u001b[0m\u001b[1;32m      3\u001b[0m \u001b[0mb\u001b[0m\u001b[0;34m=\u001b[0m\u001b[0mint\u001b[0m\u001b[0;34m(\u001b[0m\u001b[0msys\u001b[0m\u001b[0;34m.\u001b[0m\u001b[0margv\u001b[0m\u001b[0;34m[\u001b[0m\u001b[0;36m2\u001b[0m\u001b[0;34m]\u001b[0m\u001b[0;34m)\u001b[0m\u001b[0;34m\u001b[0m\u001b[0;34m\u001b[0m\u001b[0m\n\u001b[1;32m      4\u001b[0m \u001b[0;34m\u001b[0m\u001b[0m\n\u001b[1;32m      5\u001b[0m \u001b[0msum\u001b[0m\u001b[0;34m=\u001b[0m\u001b[0ma\u001b[0m\u001b[0;34m+\u001b[0m\u001b[0mb\u001b[0m\u001b[0;34m\u001b[0m\u001b[0;34m\u001b[0m\u001b[0m\n",
            "\u001b[0;31mValueError\u001b[0m: invalid literal for int() with base 10: '-f'"
          ]
        }
      ]
    },
    {
      "cell_type": "markdown",
      "metadata": {
        "id": "ud4BPn-tB27H"
      },
      "source": [
        "# 3a.write a program for checking whether the given number is even number or not"
      ]
    },
    {
      "cell_type": "code",
      "metadata": {
        "colab": {
          "base_uri": "https://localhost:8080/"
        },
        "id": "ZcDrJuqTCS2J",
        "outputId": "3cd32b38-8c81-476b-a8fc-caace27c24a7"
      },
      "source": [
        "#to check given number is even or odd\n",
        "n=int(input(\"enter a number\"))\n",
        "if n%2==0:\n",
        "  print(\"given number is even\")\n",
        "else: \n",
        "  print(\"given number is odd \")"
      ],
      "execution_count": null,
      "outputs": [
        {
          "output_type": "stream",
          "text": [
            "enter a number4\n",
            "given number is even\n"
          ],
          "name": "stdout"
        }
      ]
    },
    {
      "cell_type": "markdown",
      "metadata": {
        "id": "V6JVjGcpEG2y"
      },
      "source": [
        "# 3b. using a loop , write a program that prints out the decimal equivalents of 1/2,1/3, 1/4....1/10\n"
      ]
    },
    {
      "cell_type": "code",
      "metadata": {
        "colab": {
          "base_uri": "https://localhost:8080/"
        },
        "id": "qxmXaTABE2gT",
        "outputId": "216fa3b4-930a-4793-ecbd-008607902c23"
      },
      "source": [
        "#prints out the decimal equivalents of 1/2,1/3,1/4....1/10\n",
        "n=int(input(\"enter a number\"))\n",
        "for i in range(2,n):\n",
        " de=1/i\n",
        " print(\"1/\"+str(i)+\"=\",de)"
      ],
      "execution_count": null,
      "outputs": [
        {
          "output_type": "stream",
          "text": [
            "enter a number10\n",
            "1/2= 0.5\n",
            "1/3= 0.3333333333333333\n",
            "1/4= 0.25\n",
            "1/5= 0.2\n",
            "1/6= 0.16666666666666666\n",
            "1/7= 0.14285714285714285\n",
            "1/8= 0.125\n",
            "1/9= 0.1111111111111111\n"
          ],
          "name": "stdout"
        }
      ]
    },
    {
      "cell_type": "markdown",
      "metadata": {
        "id": "eE0fIrbzHlzg"
      },
      "source": [
        "# 3c. write a program using a for loop that loops over  a sequence . what is sequence?"
      ]
    },
    {
      "cell_type": "code",
      "metadata": {
        "colab": {
          "base_uri": "https://localhost:8080/"
        },
        "id": "2oOEUJAKIHo7",
        "outputId": "8f86c3f8-7200-4d28-affd-705e473324af"
      },
      "source": [
        "arr=[4,\"abc\",-45,'C',10.5,True,5,10.6,\"xyz\"]\n",
        "print(\"given array:\",arr)\n",
        "for x in arr:\n",
        "  print(x)"
      ],
      "execution_count": null,
      "outputs": [
        {
          "output_type": "stream",
          "text": [
            "given array: [4, 'abc', -45, 'C', 10.5, True, 5, 10.6, 'xyz']\n",
            "4\n",
            "abc\n",
            "-45\n",
            "C\n",
            "10.5\n",
            "True\n",
            "5\n",
            "10.6\n",
            "xyz\n"
          ],
          "name": "stdout"
        }
      ]
    },
    {
      "cell_type": "markdown",
      "metadata": {
        "id": "GHBnyd-lI3MO"
      },
      "source": [
        "# 3d. write a program using a loop that asks the user for a number ,and prints a countdown from that number to zero \n"
      ]
    },
    {
      "cell_type": "code",
      "metadata": {
        "colab": {
          "base_uri": "https://localhost:8080/"
        },
        "id": "AF23O09IJ3SX",
        "outputId": "24ca55e6-ce92-4bec-9662-4eab8f711315"
      },
      "source": [
        "n=int(input(\"enter a value of n\"))\n",
        "while n>=0:\n",
        "  print(n)\n",
        "  n-=1\n"
      ],
      "execution_count": null,
      "outputs": [
        {
          "output_type": "stream",
          "text": [
            "enter a value of n10\n",
            "10\n",
            "9\n",
            "8\n",
            "7\n",
            "6\n",
            "5\n",
            "4\n",
            "3\n",
            "2\n",
            "1\n",
            "0\n"
          ],
          "name": "stdout"
        }
      ]
    },
    {
      "cell_type": "markdown",
      "metadata": {
        "id": "hDiIbPO5KXlR"
      },
      "source": [
        "# 4a.find the sum of all the primes below two million"
      ]
    },
    {
      "cell_type": "code",
      "metadata": {
        "colab": {
          "base_uri": "https://localhost:8080/"
        },
        "id": "Lra7tJj9LOs2",
        "outputId": "fa9ea0fb-4af5-4098-9b7c-44f1a4018f7c"
      },
      "source": [
        "#sum of all the primes of the given number below\n",
        "n=int(input(\"Enter a ending number:\"))\n",
        "st=\"\"\n",
        "sum=0\n",
        "for i in range(2,n):\n",
        "  state=True\n",
        "  for j in range(2,i):\n",
        "    if(i%j)==0:\n",
        "      state=False\n",
        "      break;\n",
        "      if state==True:\n",
        "        st+=\"\"+st(i)\n",
        "        sum+=i\n",
        "print(\"prime Numbers:\")   \n",
        "print(st)     \n",
        "print(\"sum of the prime numbers: \",sum )"
      ],
      "execution_count": null,
      "outputs": [
        {
          "output_type": "stream",
          "text": [
            "Enter a ending number:3\n",
            "prime Numbers:\n",
            "\n",
            "sum of the prime numbers:  0\n"
          ],
          "name": "stdout"
        }
      ]
    },
    {
      "cell_type": "markdown",
      "metadata": {
        "id": "OeAV5Ge6NjOa"
      },
      "source": [
        "# 4b. each term in the fiboncci sequence is generated by adding the previous two terms .by starting with 1 and 2 ,the first 10 terms will be 1,2,3,5,8,13,21,34,55,89,......"
      ]
    },
    {
      "cell_type": "code",
      "metadata": {
        "colab": {
          "base_uri": "https://localhost:8080/"
        },
        "id": "SpSt8CjhO2m1",
        "outputId": "ba5fffc3-df5e-41bd-be1c-c0ed0310277f"
      },
      "source": [
        "#fibonacci series \n",
        "n=int(input(\"enter a value of n:\")) \n",
        "a=0\n",
        "b=1\n",
        "c=a+b\n",
        "while c<n:\n",
        "  print(c,end=' ')\n",
        "  a=b\n",
        "  b=c\n",
        "  c=a+b"
      ],
      "execution_count": null,
      "outputs": [
        {
          "output_type": "stream",
          "text": [
            "enter a value of n:1000\n",
            "1 2 3 5 8 13 21 34 55 89 144 233 377 610 987 "
          ],
          "name": "stdout"
        }
      ]
    },
    {
      "cell_type": "markdown",
      "metadata": {
        "id": "FhNcJ1J_QGHu"
      },
      "source": [
        "# 4c.by considering the terms in the fibonacci sequence whose values donot execeed four million,find the sum of the even-valued terms "
      ]
    },
    {
      "cell_type": "code",
      "metadata": {
        "colab": {
          "base_uri": "https://localhost:8080/"
        },
        "id": "3kx3bBMKQiIW",
        "outputId": "161243dc-02e4-4e39-e3d4-52c64f543641"
      },
      "source": [
        "n=int(input(\"enter value of n: \" ))\n",
        "\n",
        "a=0\n",
        "b=1\n",
        "c=a+b\n",
        "sum=0\n",
        "print(\"even numbers in fibonacci series:\",end='')\n",
        "while c<=n:\n",
        "  if c%2==0:\n",
        "   print(c,end='')\n",
        "  sum+=c\n",
        "  a=b\n",
        "  b=c\n",
        "  c=a+b\n",
        "  print(\"\\n sum of fibonacci series is:\",sum)"
      ],
      "execution_count": null,
      "outputs": [
        {
          "output_type": "stream",
          "text": [
            "enter value of n: 4000000\n",
            "even numbers in fibonacci series:\n",
            " sum of fibonacci series is: 1\n",
            "2\n",
            " sum of fibonacci series is: 3\n",
            "\n",
            " sum of fibonacci series is: 6\n",
            "\n",
            " sum of fibonacci series is: 11\n",
            "8\n",
            " sum of fibonacci series is: 19\n",
            "\n",
            " sum of fibonacci series is: 32\n",
            "\n",
            " sum of fibonacci series is: 53\n",
            "34\n",
            " sum of fibonacci series is: 87\n",
            "\n",
            " sum of fibonacci series is: 142\n",
            "\n",
            " sum of fibonacci series is: 231\n",
            "144\n",
            " sum of fibonacci series is: 375\n",
            "\n",
            " sum of fibonacci series is: 608\n",
            "\n",
            " sum of fibonacci series is: 985\n",
            "610\n",
            " sum of fibonacci series is: 1595\n",
            "\n",
            " sum of fibonacci series is: 2582\n",
            "\n",
            " sum of fibonacci series is: 4179\n",
            "2584\n",
            " sum of fibonacci series is: 6763\n",
            "\n",
            " sum of fibonacci series is: 10944\n",
            "\n",
            " sum of fibonacci series is: 17709\n",
            "10946\n",
            " sum of fibonacci series is: 28655\n",
            "\n",
            " sum of fibonacci series is: 46366\n",
            "\n",
            " sum of fibonacci series is: 75023\n",
            "46368\n",
            " sum of fibonacci series is: 121391\n",
            "\n",
            " sum of fibonacci series is: 196416\n",
            "\n",
            " sum of fibonacci series is: 317809\n",
            "196418\n",
            " sum of fibonacci series is: 514227\n",
            "\n",
            " sum of fibonacci series is: 832038\n",
            "\n",
            " sum of fibonacci series is: 1346267\n",
            "832040\n",
            " sum of fibonacci series is: 2178307\n",
            "\n",
            " sum of fibonacci series is: 3524576\n",
            "\n",
            " sum of fibonacci series is: 5702885\n",
            "3524578\n",
            " sum of fibonacci series is: 9227463\n"
          ],
          "name": "stdout"
        }
      ]
    },
    {
      "cell_type": "markdown",
      "metadata": {
        "id": "XR3GQPZi8jbT"
      },
      "source": [
        "# 5a. write a program to count the numbers of characters in the string and store them in a dictionary data structure"
      ]
    },
    {
      "cell_type": "code",
      "metadata": {
        "colab": {
          "base_uri": "https://localhost:8080/"
        },
        "id": "KZ1GQQoJ9M4s",
        "outputId": "687b3e7f-5d4a-4ab5-a528-1f16df9160e1"
      },
      "source": [
        "name=input(\"enter a name: \")\n",
        "dic={}\n",
        "for ch in name:\n",
        "  keys=dic.keys()\n",
        "\n",
        "  if(ch in keys):\n",
        "    dic[ch]=dic[ch]+1\n",
        "  else:\n",
        "      dic[ch]=1\n",
        "print(\" dictionary is:\",dic)      "
      ],
      "execution_count": null,
      "outputs": [
        {
          "output_type": "stream",
          "text": [
            "enter a name: Pundari\n",
            " dictionary is: {'P': 1, 'u': 1, 'n': 1, 'd': 1, 'a': 1, 'r': 1, 'i': 1}\n"
          ],
          "name": "stdout"
        }
      ]
    },
    {
      "cell_type": "markdown",
      "metadata": {
        "id": "dMzEWC9h-yPt"
      },
      "source": [
        "# 5b. write a program to use split and join methods in the string and trace a birthday with a dictionary data structure"
      ]
    },
    {
      "cell_type": "code",
      "metadata": {
        "colab": {
          "base_uri": "https://localhost:8080/"
        },
        "id": "xB1xUHk7_WM6",
        "outputId": "753f4af7-178d-468d-c765-ebc0460c9df0"
      },
      "source": [
        "dob={\"pundari\":\"06-oct-2002\",\"harsha\":\"12-09-2001\"}\n",
        "name=input(\"which person dob you want: \")\n",
        "l=name.split()\n",
        "birth=\"\"\n",
        "for i in l:\n",
        "  if i in dob.keys():\n",
        "    pers=i\n",
        "print(\"\".join([pers,\"Birthday is\",dob[pers]]))   "
      ],
      "execution_count": null,
      "outputs": [
        {
          "output_type": "stream",
          "text": [
            "which person dob you want: pundari\n",
            "pundariBirthday is06-oct-2002\n"
          ],
          "name": "stdout"
        }
      ]
    },
    {
      "cell_type": "markdown",
      "metadata": {
        "id": "NLS70AK6ByAC"
      },
      "source": [
        "# 6a.write a program combine lists that combines in to a dictionary"
      ]
    },
    {
      "cell_type": "code",
      "metadata": {
        "colab": {
          "base_uri": "https://localhost:8080/"
        },
        "id": "SOvZTwA3CEuc",
        "outputId": "ee782231-4fb0-49b1-b2df-299db37bbf3a"
      },
      "source": [
        "subj=[\"DAA\",\"OS\",\"DBMS\",\"P&S\",\"PPL\",\"SE\"]\n",
        "marks=[85,96,78,68,98,56]\n",
        "print(\"given lists are: \")\n",
        "print(\" subject Names:\",subj)\n",
        "print(\"Mark values:\",marks)\n",
        "dic=dict(zip(subj,marks))\n",
        "print(\"\\n Dictionary:\",dic)"
      ],
      "execution_count": null,
      "outputs": [
        {
          "output_type": "stream",
          "text": [
            "given lists are: \n",
            " subject Names: ['DAA', 'OS', 'DBMS', 'P&S', 'PPL', 'SE']\n",
            "Mark values: [85, 96, 78, 68, 98, 56]\n",
            "\n",
            " Dictionary: {'DAA': 85, 'OS': 96, 'DBMS': 78, 'P&S': 68, 'PPL': 98, 'SE': 56}\n"
          ],
          "name": "stdout"
        }
      ]
    },
    {
      "cell_type": "markdown",
      "metadata": {
        "id": "ysup0CxMD8j3"
      },
      "source": [
        "# 6b.write a program to count frequency of characters in a given file . can you use character frequency to tell whether the given file is a python program file , c program file or a text file?"
      ]
    },
    {
      "cell_type": "code",
      "metadata": {
        "colab": {
          "base_uri": "https://localhost:8080/",
          "height": 642
        },
        "id": "zO9Z0yHDEttP",
        "outputId": "54c62cb8-f97b-47aa-ad1c-7a63dc07f8bf"
      },
      "source": [
        "filetypes=['.py','.c','.txt']\n",
        "fn=input(\"Enter the file name: \")\n",
        "f=open(fn,\" r\")\n",
        "count=dict()\n",
        "\n",
        "print(\"Given file is\",end='' )\n",
        "for ft in filetypes:\n",
        "  if(ft in fn):\n",
        "    if(ft=='.py'):\n",
        "      print(\"Python file\")\n",
        "    elif (ft=='.c'): \n",
        "        print(\"C File\")\n",
        "    elif (ft=='.txt'):  \n",
        "        print(\"Text File\")\n",
        "for line in f:\n",
        "   for ch in line:\n",
        "    if ch in count:\n",
        "       count[ch]=count[ch]+1\n",
        "    else:\n",
        "      count[ch]=1\n",
        "print(count)\n",
        "f.close()           "
      ],
      "execution_count": null,
      "outputs": [
        {
          "output_type": "stream",
          "text": [
            "Enter the file name: OS ASSIGNMENT.txt\n"
          ],
          "name": "stdout"
        },
        {
          "output_type": "error",
          "ename": "ValueError",
          "evalue": "ignored",
          "traceback": [
            "\u001b[0;31m---------------------------------------------------------------------------\u001b[0m",
            "\u001b[0;31mValueError\u001b[0m                                Traceback (most recent call last)",
            "\u001b[0;32m<ipython-input-21-696ba7ad499d>\u001b[0m in \u001b[0;36m<module>\u001b[0;34m()\u001b[0m\n\u001b[1;32m      1\u001b[0m \u001b[0mfiletypes\u001b[0m\u001b[0;34m=\u001b[0m\u001b[0;34m[\u001b[0m\u001b[0;34m'.py'\u001b[0m\u001b[0;34m,\u001b[0m\u001b[0;34m'.c'\u001b[0m\u001b[0;34m,\u001b[0m\u001b[0;34m'.txt'\u001b[0m\u001b[0;34m]\u001b[0m\u001b[0;34m\u001b[0m\u001b[0;34m\u001b[0m\u001b[0m\n\u001b[1;32m      2\u001b[0m \u001b[0mfn\u001b[0m\u001b[0;34m=\u001b[0m\u001b[0minput\u001b[0m\u001b[0;34m(\u001b[0m\u001b[0;34m\"Enter the file name: \"\u001b[0m\u001b[0;34m)\u001b[0m\u001b[0;34m\u001b[0m\u001b[0;34m\u001b[0m\u001b[0m\n\u001b[0;32m----> 3\u001b[0;31m \u001b[0mf\u001b[0m\u001b[0;34m=\u001b[0m\u001b[0mopen\u001b[0m\u001b[0;34m(\u001b[0m\u001b[0mfn\u001b[0m\u001b[0;34m,\u001b[0m\u001b[0;34m\" r\"\u001b[0m\u001b[0;34m)\u001b[0m\u001b[0;34m\u001b[0m\u001b[0;34m\u001b[0m\u001b[0m\n\u001b[0m\u001b[1;32m      4\u001b[0m \u001b[0mcount\u001b[0m\u001b[0;34m=\u001b[0m\u001b[0mdict\u001b[0m\u001b[0;34m(\u001b[0m\u001b[0;34m)\u001b[0m\u001b[0;34m\u001b[0m\u001b[0;34m\u001b[0m\u001b[0m\n\u001b[1;32m      5\u001b[0m \u001b[0;34m\u001b[0m\u001b[0m\n",
            "\u001b[0;31mValueError\u001b[0m: invalid mode: ' r'"
          ]
        }
      ]
    },
    {
      "cell_type": "markdown",
      "metadata": {
        "id": "zYdiF_50IVMx"
      },
      "source": [
        "# 7a. write a program to print each line of a file in reverse order "
      ]
    },
    {
      "cell_type": "code",
      "metadata": {
        "colab": {
          "base_uri": "https://localhost:8080/",
          "height": 642
        },
        "id": "FU6uF-8iIlBB",
        "outputId": "d507ca89-e7ce-46d4-aff6-dd00c5cef3fe"
      },
      "source": [
        "obj=open(\"abc.txt\",\"r\")\n",
        "if obj:\n",
        "  st=obj.read()\n",
        "  print(\"File content is:\\n\",st)\n",
        "obj.close() \n",
        "\n",
        "print()\n",
        "lines=st.split('\\n')\n",
        "\n",
        "for ln in lines:\n",
        "   i=lcn(ln)-1\n",
        "   while(i>=0):\n",
        "    print(ln[i],end='')\n",
        "    i=i-1\n",
        "print()     \n"
      ],
      "execution_count": null,
      "outputs": [
        {
          "output_type": "error",
          "ename": "FileNotFoundError",
          "evalue": "ignored",
          "traceback": [
            "\u001b[0;31m---------------------------------------------------------------------------\u001b[0m",
            "\u001b[0;31mFileNotFoundError\u001b[0m                         Traceback (most recent call last)",
            "\u001b[0;32m<ipython-input-31-eb9dad510916>\u001b[0m in \u001b[0;36m<module>\u001b[0;34m()\u001b[0m\n\u001b[0;32m----> 1\u001b[0;31m \u001b[0mobj\u001b[0m\u001b[0;34m=\u001b[0m\u001b[0mopen\u001b[0m\u001b[0;34m(\u001b[0m\u001b[0;34m\"abc.txt\"\u001b[0m\u001b[0;34m,\u001b[0m\u001b[0;34m\"r\"\u001b[0m\u001b[0;34m)\u001b[0m\u001b[0;34m\u001b[0m\u001b[0;34m\u001b[0m\u001b[0m\n\u001b[0m\u001b[1;32m      2\u001b[0m \u001b[0;32mif\u001b[0m \u001b[0mobj\u001b[0m\u001b[0;34m:\u001b[0m\u001b[0;34m\u001b[0m\u001b[0;34m\u001b[0m\u001b[0m\n\u001b[1;32m      3\u001b[0m   \u001b[0mst\u001b[0m\u001b[0;34m=\u001b[0m\u001b[0mobj\u001b[0m\u001b[0;34m.\u001b[0m\u001b[0mread\u001b[0m\u001b[0;34m(\u001b[0m\u001b[0;34m)\u001b[0m\u001b[0;34m\u001b[0m\u001b[0;34m\u001b[0m\u001b[0m\n\u001b[1;32m      4\u001b[0m   \u001b[0mprint\u001b[0m\u001b[0;34m(\u001b[0m\u001b[0;34m\"File content is:\\n\"\u001b[0m\u001b[0;34m,\u001b[0m\u001b[0mst\u001b[0m\u001b[0;34m)\u001b[0m\u001b[0;34m\u001b[0m\u001b[0;34m\u001b[0m\u001b[0m\n\u001b[1;32m      5\u001b[0m \u001b[0mobj\u001b[0m\u001b[0;34m.\u001b[0m\u001b[0mclose\u001b[0m\u001b[0;34m(\u001b[0m\u001b[0;34m)\u001b[0m\u001b[0;34m\u001b[0m\u001b[0;34m\u001b[0m\u001b[0m\n",
            "\u001b[0;31mFileNotFoundError\u001b[0m: [Errno 2] No such file or directory: 'abc.txt'"
          ]
        }
      ]
    },
    {
      "cell_type": "markdown",
      "metadata": {
        "id": "8LUQo4Q0KiSD"
      },
      "source": [
        "# 7b.write a program to compute the number of characters ,words,and lines in a file"
      ]
    },
    {
      "cell_type": "code",
      "metadata": {
        "colab": {
          "base_uri": "https://localhost:8080/",
          "height": 642
        },
        "id": "H1V3ukHHK-9F",
        "outputId": "81b633e9-4588-4530-d1df-03bc0960f3c6"
      },
      "source": [
        "nc=nw=nc=0\n",
        "file=open(\"abc.txt\",\"r\")\n",
        "\n",
        "nl=nw=nc=0\n",
        "print(\"File content:\\n\")\n",
        "for line in file:\n",
        "  ln=line.strip(\"\\n\") \n",
        "  print(ln)\n",
        "  words=ln.split()\n",
        "  nl+=1\n",
        "  nw+=len(words)\n",
        "  nc+=len(line)\n",
        "  file.close()\n",
        "\n",
        "print(\"\\n No.of lines:\",nl,\"words\",nw,\"characters\",nc)  \n",
        "   "
      ],
      "execution_count": null,
      "outputs": [
        {
          "output_type": "error",
          "ename": "FileNotFoundError",
          "evalue": "ignored",
          "traceback": [
            "\u001b[0;31m---------------------------------------------------------------------------\u001b[0m",
            "\u001b[0;31mFileNotFoundError\u001b[0m                         Traceback (most recent call last)",
            "\u001b[0;32m<ipython-input-32-d5b5cbdd359d>\u001b[0m in \u001b[0;36m<module>\u001b[0;34m()\u001b[0m\n\u001b[1;32m      1\u001b[0m \u001b[0mnc\u001b[0m\u001b[0;34m=\u001b[0m\u001b[0mnw\u001b[0m\u001b[0;34m=\u001b[0m\u001b[0mnc\u001b[0m\u001b[0;34m=\u001b[0m\u001b[0;36m0\u001b[0m\u001b[0;34m\u001b[0m\u001b[0;34m\u001b[0m\u001b[0m\n\u001b[0;32m----> 2\u001b[0;31m \u001b[0mfile\u001b[0m\u001b[0;34m=\u001b[0m\u001b[0mopen\u001b[0m\u001b[0;34m(\u001b[0m\u001b[0;34m\"abc.txt\"\u001b[0m\u001b[0;34m,\u001b[0m\u001b[0;34m\"r\"\u001b[0m\u001b[0;34m)\u001b[0m\u001b[0;34m\u001b[0m\u001b[0;34m\u001b[0m\u001b[0m\n\u001b[0m\u001b[1;32m      3\u001b[0m \u001b[0;34m\u001b[0m\u001b[0m\n\u001b[1;32m      4\u001b[0m \u001b[0mnl\u001b[0m\u001b[0;34m=\u001b[0m\u001b[0mnw\u001b[0m\u001b[0;34m=\u001b[0m\u001b[0mnc\u001b[0m\u001b[0;34m=\u001b[0m\u001b[0;36m0\u001b[0m\u001b[0;34m\u001b[0m\u001b[0;34m\u001b[0m\u001b[0m\n\u001b[1;32m      5\u001b[0m \u001b[0mprint\u001b[0m\u001b[0;34m(\u001b[0m\u001b[0;34m\"File content:\\n\"\u001b[0m\u001b[0;34m)\u001b[0m\u001b[0;34m\u001b[0m\u001b[0;34m\u001b[0m\u001b[0m\n",
            "\u001b[0;31mFileNotFoundError\u001b[0m: [Errno 2] No such file or directory: 'abc.txt'"
          ]
        }
      ]
    },
    {
      "cell_type": "markdown",
      "metadata": {
        "id": "07tCZR0dM2i6"
      },
      "source": [
        "# 8a.write a function ball coincide that takes two balls as parameters and computes if they are colliding. your function should return a boolean representing whether or not the balls are colliding "
      ]
    },
    {
      "cell_type": "code",
      "metadata": {
        "colab": {
          "base_uri": "https://localhost:8080/"
        },
        "id": "C1Tufp6lM1Zh",
        "outputId": "2634748c-514f-46dd-ffff-75b82e4900d5"
      },
      "source": [
        "import math\n",
        "def collide(ball_tup1,ball_tup2):\n",
        "  x1,y1,r1=ball_tup1\n",
        "  x2,y2,r2=ball_tup2\n",
        "\n",
        "  print(\"Ball-01:\",ball_tup1)\n",
        "  print(\"Ball_02:\",ball_tup2)\n",
        "\n",
        "  d=math.sqrt((x2-x1)**2+(y2-y1)**2)\n",
        "  print(\"Centroid distance of two balls:\",d)\n",
        "  print(\"Sum of Radius Ball-01& ball-02 is:{}+{}={} \".format(r1,r2,r1+r2))\n",
        "\n",
        "  if d<=r1+r2:\n",
        "    return True\n",
        "  else:\n",
        "    return False\n",
        "\n",
        "b1=(-2,-4,3)     \n",
        "b2=(4,6,3) \n",
        "\n",
        "if collide(b1,b2):\n",
        "  print(\"Balls are  collide......\")\n",
        "else:\n",
        "  print(\"Balls are Not Collide...... \")  "
      ],
      "execution_count": null,
      "outputs": [
        {
          "output_type": "stream",
          "text": [
            "Ball-01: (-2, -4, 3)\n",
            "Ball_02: (4, 6, 3)\n",
            "Centroid distance of two balls: 11.661903789690601\n",
            "Sum of Radius Ball-01& ball-02 is:3+3=6 \n",
            "Balls are Not Collide...... \n"
          ],
          "name": "stdout"
        }
      ]
    },
    {
      "cell_type": "markdown",
      "metadata": {
        "id": "i3F45-y_qjgr"
      },
      "source": [
        "# 8b. find mean,median,mode for the given set of numbers ina list"
      ]
    },
    {
      "cell_type": "code",
      "metadata": {
        "id": "Jf3EfJx_qhEb",
        "colab": {
          "base_uri": "https://localhost:8080/",
          "height": 1000
        },
        "outputId": "2310acbf-52fd-46e1-c33e-e787ba9ba2df"
      },
      "source": [
        "def list_mean(num_list):\n",
        "  return sum(num_list)/len(num_list)\n",
        "\n",
        "def list_median(num_list):\n",
        "  num_list.sort()  \n",
        "  n=len(num_list)  \n",
        "  mid=n/2\n",
        "  if (n%2==1):\n",
        "    return num_list[mid]\n",
        "  else:\n",
        "    mid\n",
        "    return (num_list[mid-1]+num_list[mid] )/2\n",
        "\n",
        "def list_mode(num_list):\n",
        "  num_list.sort()   \n",
        "  temp=[]\n",
        "\n",
        "  i=0\n",
        "  while i<len(num_list):\n",
        "    temp.append(num_list.count(num_list[i]))\n",
        "    i+=1\n",
        "\n",
        "  dic=dict(zip(num_list,temp)) \n",
        "  mode={k for(k,v) in dic.items() if v==max(temp)} \n",
        "  return mode\n",
        "lst=[1,1,2,2,2,3,4,5,3]\n",
        "\n",
        "print(\"given list is:\",lst)\n",
        "print(\"Mean of the given list is:\",list_mean(lst))\n",
        "print(\"median of the given list is:\",list_median(lst))\n",
        "print(\"Mode of the given list is:\",list_mode(lst))"
      ],
      "execution_count": null,
      "outputs": [
        {
          "output_type": "stream",
          "text": [
            "given list is: [1, 1, 2, 2, 2, 3, 4, 5, 3]\n",
            "Mean of the given list is: 2.5555555555555554\n"
          ],
          "name": "stdout"
        },
        {
          "output_type": "error",
          "ename": "TypeError",
          "evalue": "ignored",
          "traceback": [
            "\u001b[0;31m---------------------------------------------------------------------------\u001b[0m",
            "\u001b[0;31mTypeError\u001b[0m                                 Traceback (most recent call last)",
            "\u001b[0;32m<ipython-input-22-78a7700fff04>\u001b[0m in \u001b[0;36m<module>\u001b[0;34m()\u001b[0m\n\u001b[1;32m     28\u001b[0m \u001b[0mprint\u001b[0m\u001b[0;34m(\u001b[0m\u001b[0;34m\"given list is:\"\u001b[0m\u001b[0;34m,\u001b[0m\u001b[0mlst\u001b[0m\u001b[0;34m)\u001b[0m\u001b[0;34m\u001b[0m\u001b[0;34m\u001b[0m\u001b[0m\n\u001b[1;32m     29\u001b[0m \u001b[0mprint\u001b[0m\u001b[0;34m(\u001b[0m\u001b[0;34m\"Mean of the given list is:\"\u001b[0m\u001b[0;34m,\u001b[0m\u001b[0mlist_mean\u001b[0m\u001b[0;34m(\u001b[0m\u001b[0mlst\u001b[0m\u001b[0;34m)\u001b[0m\u001b[0;34m)\u001b[0m\u001b[0;34m\u001b[0m\u001b[0;34m\u001b[0m\u001b[0m\n\u001b[0;32m---> 30\u001b[0;31m \u001b[0mprint\u001b[0m\u001b[0;34m(\u001b[0m\u001b[0;34m\"median of the given list is:\"\u001b[0m\u001b[0;34m,\u001b[0m\u001b[0mlist_median\u001b[0m\u001b[0;34m(\u001b[0m\u001b[0mlst\u001b[0m\u001b[0;34m)\u001b[0m\u001b[0;34m)\u001b[0m\u001b[0;34m\u001b[0m\u001b[0;34m\u001b[0m\u001b[0m\n\u001b[0m\u001b[1;32m     31\u001b[0m \u001b[0mprint\u001b[0m\u001b[0;34m(\u001b[0m\u001b[0;34m\"Mode of the given list is:\"\u001b[0m\u001b[0;34m,\u001b[0m\u001b[0mlist_mode\u001b[0m\u001b[0;34m(\u001b[0m\u001b[0mlst\u001b[0m\u001b[0;34m)\u001b[0m\u001b[0;34m)\u001b[0m\u001b[0;34m\u001b[0m\u001b[0;34m\u001b[0m\u001b[0m\n",
            "\u001b[0;32m<ipython-input-22-78a7700fff04>\u001b[0m in \u001b[0;36mlist_median\u001b[0;34m(num_list)\u001b[0m\n\u001b[1;32m      7\u001b[0m   \u001b[0mmid\u001b[0m\u001b[0;34m=\u001b[0m\u001b[0mn\u001b[0m\u001b[0;34m/\u001b[0m\u001b[0;36m2\u001b[0m\u001b[0;34m\u001b[0m\u001b[0;34m\u001b[0m\u001b[0m\n\u001b[1;32m      8\u001b[0m   \u001b[0;32mif\u001b[0m \u001b[0;34m(\u001b[0m\u001b[0mn\u001b[0m\u001b[0;34m%\u001b[0m\u001b[0;36m2\u001b[0m\u001b[0;34m==\u001b[0m\u001b[0;36m1\u001b[0m\u001b[0;34m)\u001b[0m\u001b[0;34m:\u001b[0m\u001b[0;34m\u001b[0m\u001b[0;34m\u001b[0m\u001b[0m\n\u001b[0;32m----> 9\u001b[0;31m     \u001b[0;32mreturn\u001b[0m \u001b[0mnum_list\u001b[0m\u001b[0;34m[\u001b[0m\u001b[0mmid\u001b[0m\u001b[0;34m]\u001b[0m\u001b[0;34m\u001b[0m\u001b[0;34m\u001b[0m\u001b[0m\n\u001b[0m\u001b[1;32m     10\u001b[0m   \u001b[0;32melse\u001b[0m\u001b[0;34m:\u001b[0m\u001b[0;34m\u001b[0m\u001b[0;34m\u001b[0m\u001b[0m\n\u001b[1;32m     11\u001b[0m     \u001b[0mmid\u001b[0m\u001b[0;34m\u001b[0m\u001b[0;34m\u001b[0m\u001b[0m\n",
            "\u001b[0;31mTypeError\u001b[0m: list indices must be integers or slices, not float"
          ]
        }
      ]
    },
    {
      "cell_type": "markdown",
      "metadata": {
        "id": "GLv0Wm6dz3Rx"
      },
      "source": [
        "# 9a.write a function nearly equals to test whether two strings are nearly equal . two strings a amd b are nearly equal when a can be generated by a single mutation on b"
      ]
    },
    {
      "cell_type": "code",
      "metadata": {
        "colab": {
          "base_uri": "https://localhost:8080/"
        },
        "id": "wq09kAT50K4i",
        "outputId": "c8af872d-b2e0-4d1f-c8d9-c1858452f009"
      },
      "source": [
        "def nearly_eq(str1,str2):\n",
        "  count=0\n",
        "  i=j=0\n",
        "  while (i<len(str1) and j<len(str2)):\n",
        "    if (str1[i]!=str2[j]):\n",
        "      count+=1\n",
        "      if (len(str1)>len(str2)):\n",
        "        i+=1\n",
        "      elif (len(str1)==len(str2)):\n",
        "        pass\n",
        "      else:\n",
        "        i-=1\n",
        "      if (count>1) :\n",
        "        return False\n",
        "      i+=1\n",
        "      j+=1\n",
        "\n",
        "    if (count<2):\n",
        "     return True    \n",
        "s1=input(\"Enter string 1:\")  \n",
        "s2=input(\"Enter string 2:\")\n",
        "bln=nearly_eq(s1,s2)  \n",
        "if (bln): \n",
        "     print(\"strings are nearly equal\")\n",
        "else:\n",
        "    print(\"Strings are Not   Equal\")\n"
      ],
      "execution_count": null,
      "outputs": [
        {
          "output_type": "stream",
          "text": [
            "Enter string 1:Pund\n",
            "Enter string 2:Pund\n",
            "strings are nearly equal\n"
          ],
          "name": "stdout"
        }
      ]
    },
    {
      "cell_type": "markdown",
      "metadata": {
        "id": "5Dc6AeMg6V6f"
      },
      "source": [
        "# 9b.write a function dup to find all dupliacates in the list"
      ]
    },
    {
      "cell_type": "code",
      "metadata": {
        "colab": {
          "base_uri": "https://localhost:8080/"
        },
        "id": "rUo2rSyg6jWe",
        "outputId": "ddd61c60-c25c-40b4-8b60-01128d462035"
      },
      "source": [
        "def dups(numlist):\n",
        "  temp=[]\n",
        "  for i in numlist:\n",
        "    cnt=numlist.count(i)\n",
        "    if(cnt>1 and (i not in temp)):\n",
        "      temp.append(i)\n",
        "  print(\"Duplicates in the list:\",temp)\n",
        "lst=[1,2,6,9,1,3,5,2,1] \n",
        "print(\"given elements in the list:\",lst)  \n",
        "dups(lst)\n",
        "  "
      ],
      "execution_count": null,
      "outputs": [
        {
          "output_type": "stream",
          "text": [
            "given elements in the list: [1, 2, 6, 9, 1, 3, 5, 2, 1]\n",
            "Duplicates in the list: [1, 2]\n"
          ],
          "name": "stdout"
        }
      ]
    },
    {
      "cell_type": "markdown",
      "metadata": {
        "id": "bhpgOa5j7uQP"
      },
      "source": [
        "# 9c.write a function unique to find all the unique elememts of a list"
      ]
    },
    {
      "cell_type": "code",
      "metadata": {
        "colab": {
          "base_uri": "https://localhost:8080/"
        },
        "id": "dG7nFzvL7_UM",
        "outputId": "f063f432-eb94-44d0-dd8a-0f673bdac682"
      },
      "source": [
        "def unique(numlist):\n",
        "  temp=[]\n",
        "  for i in numlist:\n",
        "    cnt=numlist.count(i)\n",
        "    if cnt==1:\n",
        "      temp.append(i)\n",
        "  print(\"unique elements in the list \",temp)\n",
        "lst=[1,2,6,9,1,3,5,2,1]  \n",
        "print(\" Given elements in the list\",lst)\n",
        "unique(lst)"
      ],
      "execution_count": null,
      "outputs": [
        {
          "output_type": "stream",
          "text": [
            " Given elements in the list [1, 2, 6, 9, 1, 3, 5, 2, 1]\n",
            "unique elements in the list  [6, 9, 3, 5]\n"
          ],
          "name": "stdout"
        }
      ]
    },
    {
      "cell_type": "markdown",
      "metadata": {
        "id": "6BUy2YXe9ZDH"
      },
      "source": [
        "# 10a.write a function cumulative product to compute cumulative product of a list of numbers"
      ]
    },
    {
      "cell_type": "code",
      "metadata": {
        "colab": {
          "base_uri": "https://localhost:8080/"
        },
        "id": "_5eLIUZX9vgz",
        "outputId": "c0978044-f5a8-47ae-e428-c37514e70255"
      },
      "source": [
        "def cum_prod(numlist):\n",
        " prod=1\n",
        " temp=[]\n",
        " for i in numlist:\n",
        "   prod*=i\n",
        "   temp.append(prod)\n",
        " return temp\n",
        "\n",
        "lst=[1,2,4,5,3 ] \n",
        "print(\"given list is:\",lst)\n",
        "print(\"cumulative product list is\",cum_prod(lst))\n"
      ],
      "execution_count": null,
      "outputs": [
        {
          "output_type": "stream",
          "text": [
            "given list is: [1, 2, 4, 5, 3]\n",
            "cumulative product list is [1, 2, 8, 40, 120]\n"
          ],
          "name": "stdout"
        }
      ]
    },
    {
      "cell_type": "markdown",
      "metadata": {
        "id": "mq5Pmat3DjJS"
      },
      "source": [
        "# 10b . write a function reverse to reverse a list.without using a reverse function."
      ]
    },
    {
      "cell_type": "code",
      "metadata": {
        "colab": {
          "base_uri": "https://localhost:8080/"
        },
        "id": "z5l5ksK9Duv9",
        "outputId": "8ae486fb-f53b-43de-8bbf-16675d7b44c6"
      },
      "source": [
        "def reverse_list(numlist):\n",
        "  i=0\n",
        "  j=len(numlist)-1\n",
        "  while(i<=j):\n",
        "    temp=numlist[i]\n",
        "    numlist[i]=numlist[j]\n",
        "    numlist[j]=temp\n",
        "    j-=1\n",
        "    i+=1\n",
        "  return numlist\n",
        "lst=[1,2,3,4]  \n",
        "print(\"Given list is:\",lst)\n",
        "reverse_list(lst)\n",
        "print(\"reverse of the given list:\",lst)"
      ],
      "execution_count": null,
      "outputs": [
        {
          "output_type": "stream",
          "text": [
            "Given list is: [1, 2, 3, 4]\n",
            "reverse of the given list: [4, 3, 2, 1]\n"
          ],
          "name": "stdout"
        }
      ]
    },
    {
      "cell_type": "markdown",
      "metadata": {
        "id": "_jbEtjcGQWEk"
      },
      "source": [
        "# 10c.write function to compute gcd of two numbers ,each function should not exceed one line"
      ]
    },
    {
      "cell_type": "code",
      "metadata": {
        "colab": {
          "base_uri": "https://localhost:8080/"
        },
        "id": "GiAqkc_PSA1G",
        "outputId": "715b8a58-10ec-47a2-bcce-fe336868fcb7"
      },
      "source": [
        "gcd=lambda a,b: a if b==0 else gcd(a,a%b)\n",
        "lcm=lambda a,b: (a*b)/gcd(a,b)\n",
        "\n",
        "x=3\n",
        "y=24\n",
        "print(\"the given numbers :\",x,y)\n",
        "print(\"gcd is\",gcd(x,y))\n",
        "print(\"lcm is\",lcm(x,y))"
      ],
      "execution_count": null,
      "outputs": [
        {
          "output_type": "stream",
          "text": [
            "the given numbers : 3 24\n",
            "gcd is 3\n",
            "lcm is 24.0\n"
          ],
          "name": "stdout"
        }
      ]
    },
    {
      "cell_type": "markdown",
      "metadata": {
        "id": "F0zq5gWWSkNV"
      },
      "source": [
        "# 11 a. write a program that defines a matrix amd prints"
      ]
    },
    {
      "cell_type": "code",
      "metadata": {
        "colab": {
          "base_uri": "https://localhost:8080/"
        },
        "id": "RZQ196VoSu_e",
        "outputId": "ec894516-8d53-4d72-96fd-bb688b65f29a"
      },
      "source": [
        "matA=[[]]\n",
        "rows=int(input(\"enter row size of matrix:\"))\n",
        "cols=int(input(\"enter colomn size of matrix:\"))\n",
        "\n",
        "matA=[[int(input(\"enter[%d,%d]value:\"%(i,j)))for j in range (cols)]for i in range(rows)]\n",
        "print(\"matrix is:\")\n",
        "for i in range(rows):\n",
        "  for j in range(cols):\n",
        "    print(matA[i][j],end='\\t')\n",
        "  print()  "
      ],
      "execution_count": null,
      "outputs": [
        {
          "output_type": "stream",
          "text": [
            "enter row size of matrix:3\n",
            "enter colomn size of matrix:2\n",
            "enter[0,0]value:7\n",
            "enter[0,1]value:2\n",
            "enter[1,0]value:1\n",
            "enter[1,1]value:6\n",
            "enter[2,0]value:3\n",
            "enter[2,1]value:5\n",
            "matrix is:\n",
            "7\t2\t\n",
            "1\t6\t\n",
            "3\t5\t\n"
          ],
          "name": "stdout"
        }
      ]
    },
    {
      "cell_type": "markdown",
      "metadata": {
        "id": "nUhW41nVUvmA"
      },
      "source": [
        "# 11b. write a program to perform additiom of two square matrices"
      ]
    },
    {
      "cell_type": "code",
      "metadata": {
        "colab": {
          "base_uri": "https://localhost:8080/"
        },
        "id": "ImOfeDfciYr8",
        "outputId": "c0ad68fa-ae47-4bd7-afee-83cc200801f1"
      },
      "source": [
        "def matRead(r,c):\n",
        "  return [[int(input(\"[%d,%d]value:\"%(i,j)))for j in range(c)]for i in range(r)]\n",
        "\n",
        "def matDisp(mat,r,c):\n",
        "  for  i in range(r):\n",
        "    for j in range(c):\n",
        "      print(mat[i][j],end='\\t')  \n",
        "    print()  \n",
        "\n",
        "matA=[[]]\n",
        "matB=[[]]\n",
        "matSum=[[]]\n",
        "rows=int(input(\"enter row size of the matrix\"))\n",
        "cols=int(input(\"enter column size of the matrix\"))\n",
        "if rows==cols:\n",
        "  print(\"enter matrix A elements\")\n",
        "  matA=matRead(rows,cols)\n",
        "  print(\"enter matrix b elements\")\n",
        "  matB=matRead(rows,cols)\n",
        "  print(\"matrix A is:\")\n",
        "  matDisp(matA,rows,cols)\n",
        "  print(\"matrix B is':\")\n",
        "\n",
        "  matDisp(matB,rows,cols)\n",
        "  matSum=[[matA[i][j]+matB[i][j]for j in range(cols)]for i in range(rows)]\n",
        "  print(\"Sum of matrices is :\")\n",
        "  matDisp(matSum,rows,cols)\n",
        "else:\n",
        "  print(\"Matrices Additom is not possible\")\n"
      ],
      "execution_count": null,
      "outputs": [
        {
          "output_type": "stream",
          "text": [
            "enter row size of the matrix2\n",
            "enter column size of the matrix2\n",
            "enter matrix A elements\n",
            "[0,0]value:1\n",
            "[0,1]value:2\n",
            "[1,0]value:3\n",
            "[1,1]value:4\n",
            "enter matrix b elements\n",
            "[0,0]value:1\n",
            "[0,1]value:2\n",
            "[1,0]value:3\n",
            "[1,1]value:4\n",
            "matrix A is:\n",
            "1\t2\t\n",
            "3\t4\t\n",
            "matrix B is':\n",
            "1\t2\t\n",
            "3\t4\t\n",
            "Sum of matrices is :\n",
            "2\t4\t\n",
            "6\t8\t\n"
          ],
          "name": "stdout"
        }
      ]
    },
    {
      "cell_type": "markdown",
      "metadata": {
        "id": "nDgk3gwfeXSa"
      },
      "source": [
        "# 11 c.Write a program to perform multiplication of two square matrices "
      ]
    },
    {
      "cell_type": "code",
      "metadata": {
        "id": "0eDjR1AwmrmH"
      },
      "source": [
        "def matRead(r,c):\n",
        "  return[[int(input(\"[%d,%d]value:\"%(i,j)))for j in range(c)]for i in range(r)]\n",
        "\n",
        "def matDisp(mat,r,c):\n",
        "  for i in range(r):\n",
        "    for j in range(c): \n",
        "      print(mat[i][j],end='\\t') \n",
        "    print()  \n",
        "\n",
        "matA=[[]] \n",
        "matB=[[]]  \n",
        "matMul=[[]] \n",
        "rows=int(input(\"enter row size of the matrix\"))\n",
        "cols=int(input(\"enter columns size of the matrix\"))\n",
        "\n",
        "if rows==cols:\n",
        "  print(\"enter matrix A\")\n",
        "  matA=matRead(rows,cols)\n",
        "  print(\"enter matrix B\")\n",
        "  matB=matRead(rows,cols)\n",
        "   \n",
        "  matMul=[[0 for j in range(cols)]for i in range(rows)]\n",
        "  for i in range(rows):\n",
        "    for j in range(cols):\n",
        "      for k in range(cols):\n",
        "        matMul[i][j]+=matA[cok]\n",
        "\n",
        "\n",
        "\n",
        "\n",
        "\n"
      ],
      "execution_count": null,
      "outputs": []
    }
  ]
}