{
  "nbformat": 4,
  "nbformat_minor": 0,
  "metadata": {
    "colab": {
      "name": " 19A21A05C0 - S. PUNDARI KAKSHUDU.ipy",
      "provenance": [],
      "include_colab_link": true
    },
    "kernelspec": {
      "display_name": "Python 3",
      "name": "python3"
    },
    "language_info": {
      "name": "python"
    }
  },
  "cells": [
    {
      "cell_type": "markdown",
      "metadata": {
        "id": "view-in-github",
        "colab_type": "text"
      },
      "source": [
        "<a href=\"https://colab.research.google.com/github/Pundari6/19A21A05C0-pundari/blob/main/19A21A05C0_S_PUNDARI_KAKSHUDU_ipy.ipynb\" target=\"_parent\"><img src=\"https://colab.research.google.com/assets/colab-badge.svg\" alt=\"Open In Colab\"/></a>"
      ]
    },
    {
      "cell_type": "markdown",
      "metadata": {
        "id": "TIaTuYl1auqZ"
      },
      "source": [
        "# Name : S.Pundari Kakshudu\n",
        "\n",
        "# Sec : C.S.E.- B\n",
        "\n",
        "# NO :19A21A05C0"
      ]
    },
    {
      "cell_type": "markdown",
      "metadata": {
        "id": "sa7qx5UJ77pY"
      },
      "source": [
        "# **Exercise 1 - Basics**\n",
        "\n",
        "# **AIM:**\n",
        "\n",
        "# a) Running instructions in Interactive interpreter and a Python Script"
      ]
    },
    {
      "cell_type": "markdown",
      "metadata": {
        "id": "STRtvkLLFESv"
      },
      "source": [
        "# Description"
      ]
    },
    {
      "cell_type": "markdown",
      "metadata": {
        "id": "5MbYY5KLPWiW"
      },
      "source": [
        "Python is a high-level, interpreted, interactive and object-oriented \n",
        "scripting language. \n",
        "Python is designed to be highly readable.  It uses English keywords frequently where as other languages use \n",
        "punctuation, and it has fewer syntactical constructions than other languages. \n",
        "\n",
        "* Python is Interpreted \n",
        "\n",
        "* Python is Interactive \n",
        "\n",
        "* Python is Object-Oriented\n",
        "\n",
        "* Python is a Beginner's Language\n",
        "\n",
        "**Python Programming Running Python Scripts**\n",
        "\n",
        "Running Python in THREE ways: \n",
        "\n",
        "a) Running Python Interpreter \n",
        "\n",
        "b) Running Python Scripts in IDLE \n",
        "\n",
        "c) Running python scripts in Command Prompt \n",
        "\n",
        "**a) Running Python Interpreter:**\n",
        "Python comes with an interactive interpreter. When you type python in your shell or command prompt, the python interpreter becomes active with a >>> prompt and waits for your commands\n",
        "\n",
        "b) **Running Python Scripts in IDLE:**\n",
        ". Go to File menu click on New File (CTRL+N) and write the \n",
        "code and save first.py\n",
        "\n",
        "c) **Running python scripts in Command Prompt: ** **bold text**\n",
        "· Before going to run we have to check the PATH in environment \n",
        "variables. \n",
        "\n"
      ]
    },
    {
      "cell_type": "markdown",
      "metadata": {
        "id": "ABObUWKoE9-f"
      },
      "source": [
        "# code"
      ]
    },
    {
      "cell_type": "code",
      "metadata": {
        "colab": {
          "base_uri": "https://localhost:8080/"
        },
        "id": "0zvExcuG4DmR",
        "outputId": "50c34663-2a98-4d4c-83e3-c4760324a094"
      },
      "source": [
        "print(\"hello,pundari\")\n"
      ],
      "execution_count": null,
      "outputs": [
        {
          "output_type": "stream",
          "text": [
            "hello,pundari\n"
          ],
          "name": "stdout"
        }
      ]
    },
    {
      "cell_type": "markdown",
      "metadata": {
        "id": "bmhO98yZ5hyH"
      },
      "source": [
        "# AIM \n",
        "# B. write a program to purposfully raise indentation error and correct it"
      ]
    },
    {
      "cell_type": "markdown",
      "metadata": {
        "id": "GDy8p5qMUFJj"
      },
      "source": [
        "**DESCRIPTION:**"
      ]
    },
    {
      "cell_type": "markdown",
      "metadata": {
        "id": "o1bGJDsJULwP"
      },
      "source": [
        "**Indentation** \n",
        "* Python does not support braces to indicate blocks of code for class and \n",
        "function definitions or flow control. \n",
        "\n",
        "* Blocks of code are denoted by line indentation.\n",
        "\n",
        "* All the continuous lines indented with same number of spaces would form a block. \n",
        "\n",
        "* Python strictly follow indentation rules to indicate the blocks. \n"
      ]
    },
    {
      "cell_type": "markdown",
      "metadata": {
        "id": "3YY_D-N3FuYq"
      },
      "source": [
        "# code"
      ]
    },
    {
      "cell_type": "code",
      "metadata": {
        "colab": {
          "base_uri": "https://localhost:8080/",
          "height": 130
        },
        "id": "Ktks29Fp5J5I",
        "outputId": "be415c51-ef10-4afb-c4fd-e4e72a42bc73"
      },
      "source": [
        "#error code\n",
        "if True:\n",
        "print(\"true\")\n",
        "else\n",
        "print(\"false\")"
      ],
      "execution_count": null,
      "outputs": [
        {
          "output_type": "error",
          "ename": "IndentationError",
          "evalue": "ignored",
          "traceback": [
            "\u001b[0;36m  File \u001b[0;32m\"<ipython-input-44-7ab919c451a4>\"\u001b[0;36m, line \u001b[0;32m2\u001b[0m\n\u001b[0;31m    print(\"true\")\u001b[0m\n\u001b[0m        ^\u001b[0m\n\u001b[0;31mIndentationError\u001b[0m\u001b[0;31m:\u001b[0m expected an indented block\n"
          ]
        }
      ]
    },
    {
      "cell_type": "code",
      "metadata": {
        "colab": {
          "base_uri": "https://localhost:8080/",
          "height": 130
        },
        "id": "eHqsZjJm7hnF",
        "outputId": "ea0b1f04-b4bb-4ab4-fde2-366676c41b6a"
      },
      "source": [
        "#error code\n",
        "if True:\n",
        "  print(\"True1\")\n",
        "   print(\"True2\")\n",
        " else:\n",
        "   print(\"False\")\n",
        "  "
      ],
      "execution_count": null,
      "outputs": [
        {
          "output_type": "error",
          "ename": "IndentationError",
          "evalue": "ignored",
          "traceback": [
            "\u001b[0;36m  File \u001b[0;32m\"<ipython-input-26-2d3ed7694e49>\"\u001b[0;36m, line \u001b[0;32m3\u001b[0m\n\u001b[0;31m    print(\"True2\")\u001b[0m\n\u001b[0m    ^\u001b[0m\n\u001b[0;31mIndentationError\u001b[0m\u001b[0;31m:\u001b[0m unexpected indent\n"
          ]
        }
      ]
    },
    {
      "cell_type": "code",
      "metadata": {
        "id": "V7QNMj7b7hUX"
      },
      "source": [
        "#correct code\n",
        "if True:\n",
        "  print(\"True\")\n",
        "else:    \n",
        "    print(\"False\") "
      ],
      "execution_count": null,
      "outputs": []
    },
    {
      "cell_type": "code",
      "metadata": {
        "id": "qQZG_XFB94lb",
        "colab": {
          "base_uri": "https://localhost:8080/"
        },
        "outputId": "0d9a5bad-80ba-44ee-9efb-976a50e0da14"
      },
      "source": [
        "#correct code\n",
        "if True:\n",
        "  print(\"True1\")\n",
        "  print(\"True2\") \n",
        "else:\n",
        "  print(\"False\")  "
      ],
      "execution_count": null,
      "outputs": [
        {
          "output_type": "stream",
          "name": "stdout",
          "text": [
            "True1\n",
            "True2\n"
          ]
        }
      ]
    },
    {
      "cell_type": "markdown",
      "metadata": {
        "id": "i-d1pgpP-91b"
      },
      "source": [
        "# **Exercise 2 - Operations**\n",
        "**AIM:**\n",
        "\n",
        "# a) Write a program to compute distance between two points taking input from the user(PythagoreanTheorem)"
      ]
    },
    {
      "cell_type": "markdown",
      "metadata": {
        "id": "JY-GlwscVfJW"
      },
      "source": [
        "# DESCRIPTION\n",
        " **Taking Input From the User:**\n",
        "A function is defined as a block of organized, reusable code used to perform a single, related action. Python has many built-in functions; you can also create your own. \n",
        "\n",
        "Python has an input function which lets you ask a user for some text input. You call this function to tell the program to stop and wait for the user to key in the data.\n",
        "\n",
        " In Python 2, you have a built-in function raw_input(), whereas in Python 3, you have input(). The program will resume once the user presses the ENTER or RETURN key.\n",
        "\n",
        " **Input Function**\n",
        "\n",
        "input(prompt=None,/). \n",
        "\n",
        "Read a string from standard input. The trailing newline is stripped. \n",
        "\n",
        "The prompt string, if given, is printed to standard output without a trailing newline before reading input. \n",
        "\n",
        "If the user hits EOF (*nix: Ctrl-D, Windows: Ctrl Z+Return), raise EOFError."
      ]
    },
    {
      "cell_type": "markdown",
      "metadata": {
        "id": "r8E6RPfzGtmB"
      },
      "source": [
        "# CODE"
      ]
    },
    {
      "cell_type": "code",
      "metadata": {
        "id": "BAmdC8x8OLi_"
      },
      "source": [
        "import math\n",
        "x1=int(input(\"enter x1 value\"))\n",
        "x2=int(input(\"enter x2 value\"))\n",
        "y1=int(input(\"enter y1 value\"))\n",
        "y2=int(input(\"enter y2 value\"))\n",
        " \n",
        "d=math.sqrt(((x2-x1)**2)+((y2-y1)**2))\n",
        "print(\"distance of two points:\",d)"
      ],
      "execution_count": null,
      "outputs": []
    },
    {
      "cell_type": "markdown",
      "metadata": {
        "id": "i5sfL13b-nAl"
      },
      "source": [
        "# AIM\n",
        "# 2b. write a program add.py that takes 2 numbers as command line argumemts and prints its sum \n"
      ]
    },
    {
      "cell_type": "markdown",
      "metadata": {
        "id": "9FKsoofk-XDZ"
      },
      "source": [
        "# DESCRIPTION\n",
        "The arguments that are given after the name of the program in the command line shell of the operating system are known as Command Line Arguments. Python provides various ways of dealing with these types of arguments. The three most common are: \n",
        "\n",
        "Using sys.argv\n",
        "\n",
        "Using getopt module\n",
        "\n",
        "Using argparse module\n",
        "\n",
        "Using sys.argv\n",
        "\n",
        "The sys module provides functions and variables used to manipulate different parts of the Python runtime environment. This module provides access to some variables used or maintained by the interpreter and to functions that interact strongly with the interpreter.\n",
        "\n",
        "One such variable is sys.argv which is a simple list structure. It’s main purpose are:\n",
        "\n",
        "* It is a list of command line arguments.\n",
        "\n",
        "* len(sys.argv) provides the number of command line arguments.\n",
        "\n",
        "* sys.argv[0] is the name of the current Python script. "
      ]
    },
    {
      "cell_type": "markdown",
      "metadata": {
        "id": "ZYYdL3BVG-WZ"
      },
      "source": [
        "# CODE"
      ]
    },
    {
      "cell_type": "code",
      "metadata": {
        "colab": {
          "base_uri": "https://localhost:8080/",
          "height": 232
        },
        "id": "2T-y2zq3z2sY",
        "outputId": "9a4ef620-4ba7-4970-a1c2-83b9da778149"
      },
      "source": [
        "import sys\n",
        "a=int(sys.argv[1])\n",
        "b=int(sys.argv[2])\n",
        "\n",
        "sum=a+b\n",
        "print(\"sum of two numbers is:\",sum)"
      ],
      "execution_count": null,
      "outputs": [
        {
          "output_type": "error",
          "ename": "ValueError",
          "evalue": "ignored",
          "traceback": [
            "\u001b[0;31m---------------------------------------------------------------------------\u001b[0m",
            "\u001b[0;31mValueError\u001b[0m                                Traceback (most recent call last)",
            "\u001b[0;32m<ipython-input-43-8addbaf8adbf>\u001b[0m in \u001b[0;36m<module>\u001b[0;34m()\u001b[0m\n\u001b[1;32m      1\u001b[0m \u001b[0;32mimport\u001b[0m \u001b[0msys\u001b[0m\u001b[0;34m\u001b[0m\u001b[0;34m\u001b[0m\u001b[0m\n\u001b[0;32m----> 2\u001b[0;31m \u001b[0ma\u001b[0m\u001b[0;34m=\u001b[0m\u001b[0mint\u001b[0m\u001b[0;34m(\u001b[0m\u001b[0msys\u001b[0m\u001b[0;34m.\u001b[0m\u001b[0margv\u001b[0m\u001b[0;34m[\u001b[0m\u001b[0;36m1\u001b[0m\u001b[0;34m]\u001b[0m\u001b[0;34m)\u001b[0m\u001b[0;34m\u001b[0m\u001b[0;34m\u001b[0m\u001b[0m\n\u001b[0m\u001b[1;32m      3\u001b[0m \u001b[0mb\u001b[0m\u001b[0;34m=\u001b[0m\u001b[0mint\u001b[0m\u001b[0;34m(\u001b[0m\u001b[0msys\u001b[0m\u001b[0;34m.\u001b[0m\u001b[0margv\u001b[0m\u001b[0;34m[\u001b[0m\u001b[0;36m2\u001b[0m\u001b[0;34m]\u001b[0m\u001b[0;34m)\u001b[0m\u001b[0;34m\u001b[0m\u001b[0;34m\u001b[0m\u001b[0m\n\u001b[1;32m      4\u001b[0m \u001b[0;34m\u001b[0m\u001b[0m\n\u001b[1;32m      5\u001b[0m \u001b[0msum\u001b[0m\u001b[0;34m=\u001b[0m\u001b[0ma\u001b[0m\u001b[0;34m+\u001b[0m\u001b[0mb\u001b[0m\u001b[0;34m\u001b[0m\u001b[0;34m\u001b[0m\u001b[0m\n",
            "\u001b[0;31mValueError\u001b[0m: invalid literal for int() with base 10: '-f'"
          ]
        }
      ]
    },
    {
      "cell_type": "markdown",
      "metadata": {
        "id": "F5GzL8vnDq1p"
      },
      "source": [
        "# **Exercise - 3 Control Flow**\n",
        "\n",
        "**AIM:**\n",
        "\n",
        "# a) Write a Program for checking whether the given number is an even number or not."
      ]
    },
    {
      "cell_type": "markdown",
      "metadata": {
        "id": "DXChifIZTB-1"
      },
      "source": [
        "# DESCRIPTION\n",
        "**if..else Statement**\n",
        "When there is an alternate operation in control flow, use an else statement alongside with if statement. The general format is\n",
        "\n",
        "if condition:\n",
        "\n",
        "        true statement\n",
        "\n",
        "else:\n",
        "\n",
        "         false statement"
      ]
    },
    {
      "cell_type": "markdown",
      "metadata": {
        "id": "lZF1SVMtHczK"
      },
      "source": [
        "# PROGRAM"
      ]
    },
    {
      "cell_type": "code",
      "metadata": {
        "colab": {
          "base_uri": "https://localhost:8080/"
        },
        "id": "ZcDrJuqTCS2J",
        "outputId": "3cd32b38-8c81-476b-a8fc-caace27c24a7"
      },
      "source": [
        "#to check given number is even or odd\n",
        "n=int(input(\"enter a number\"))\n",
        "if n%2==0:\n",
        "  print(\"given number is even\")\n",
        "else: \n",
        "  print(\"given number is odd \")"
      ],
      "execution_count": null,
      "outputs": [
        {
          "output_type": "stream",
          "text": [
            "enter a number4\n",
            "given number is even\n"
          ],
          "name": "stdout"
        }
      ]
    },
    {
      "cell_type": "markdown",
      "metadata": {
        "id": "V6JVjGcpEG2y"
      },
      "source": [
        "# AIM\n",
        "# 3b. using a loop , write a program that prints out the decimal equivalents of 1/2,1/3, 1/4....1/10\n"
      ]
    },
    {
      "cell_type": "markdown",
      "metadata": {
        "id": "0B2Ez61JVpj6"
      },
      "source": [
        "# DESCRIPTION\n",
        "**For Loop:**\n",
        "For loops can iterate over a sequence of numbers using the \"range\" and \"xrange\" functions. The difference between range and xrange is that the range function returns a new list with numbers of that specified range, whereas xrange returns an iterator, which is more efficient. \n",
        "\n",
        "The general format is\n",
        "\n",
        "for x in range(start,stop,step):\n",
        "\n",
        "statements"
      ]
    },
    {
      "cell_type": "markdown",
      "metadata": {
        "id": "OKRUELBGHuT7"
      },
      "source": [
        "# CODE"
      ]
    },
    {
      "cell_type": "code",
      "metadata": {
        "colab": {
          "base_uri": "https://localhost:8080/"
        },
        "id": "qxmXaTABE2gT",
        "outputId": "216fa3b4-930a-4793-ecbd-008607902c23"
      },
      "source": [
        "#prints out the decimal equivalents of 1/2,1/3,1/4....1/10\n",
        "n=int(input(\"enter a number\"))\n",
        "for i in range(2,n):\n",
        " de=1/i\n",
        " print(\"1/\"+str(i)+\"=\",de)"
      ],
      "execution_count": null,
      "outputs": [
        {
          "output_type": "stream",
          "text": [
            "enter a number10\n",
            "1/2= 0.5\n",
            "1/3= 0.3333333333333333\n",
            "1/4= 0.25\n",
            "1/5= 0.2\n",
            "1/6= 0.16666666666666666\n",
            "1/7= 0.14285714285714285\n",
            "1/8= 0.125\n",
            "1/9= 0.1111111111111111\n"
          ],
          "name": "stdout"
        }
      ]
    },
    {
      "cell_type": "markdown",
      "metadata": {
        "id": "eE0fIrbzHlzg"
      },
      "source": [
        "# AIM\n",
        "# 3c. write a program using a for loop that loops over  a sequence . what is sequence?"
      ]
    },
    {
      "cell_type": "markdown",
      "metadata": {
        "id": "4_jTcjB4NZPW"
      },
      "source": [
        "**DESCRIPTION:**\n",
        "\n",
        "**For Loop:**\n",
        "For loops can iterate over a sequence of numbers using the \"range\" and \"xrange\" functions. The difference between range and xrange is that the range function returns a new list with numbers of that specified range, whereas xrange returns an iterator, which is more efficient. \n",
        "\n",
        "The general format is\n",
        "\n",
        "for x in range(start,stop,step):\n",
        "\n",
        "statements"
      ]
    },
    {
      "cell_type": "markdown",
      "metadata": {
        "id": "dvtcJH24ICQM"
      },
      "source": [
        "# CODE"
      ]
    },
    {
      "cell_type": "code",
      "metadata": {
        "colab": {
          "base_uri": "https://localhost:8080/"
        },
        "id": "2oOEUJAKIHo7",
        "outputId": "8f86c3f8-7200-4d28-affd-705e473324af"
      },
      "source": [
        "arr=[4,\"abc\",-45,'C',10.5,True,5,10.6,\"xyz\"]\n",
        "print(\"given array:\",arr)\n",
        "for x in arr:\n",
        "  print(x)"
      ],
      "execution_count": null,
      "outputs": [
        {
          "output_type": "stream",
          "text": [
            "given array: [4, 'abc', -45, 'C', 10.5, True, 5, 10.6, 'xyz']\n",
            "4\n",
            "abc\n",
            "-45\n",
            "C\n",
            "10.5\n",
            "True\n",
            "5\n",
            "10.6\n",
            "xyz\n"
          ],
          "name": "stdout"
        }
      ]
    },
    {
      "cell_type": "markdown",
      "metadata": {
        "id": "GHBnyd-lI3MO"
      },
      "source": [
        "# AIM\n",
        "# 3d. write a program using a loop that asks the user for a number ,and prints a countdown from that number to zero \n"
      ]
    },
    {
      "cell_type": "markdown",
      "metadata": {
        "id": "nLJhgNMsX3hr"
      },
      "source": [
        "**DESCRIPTION:**\n",
        "\n",
        " While Loop is used to execute a block of statements repeatedly until a given condition is satisfied. And when the condition becomes false, the line immediately after the loop in the program is executed. While loop falls under the category of indefinite iteration\n",
        "\n",
        " The syntax for a while loop is: \n",
        " \n",
        " while [ condition]"
      ]
    },
    {
      "cell_type": "markdown",
      "metadata": {
        "id": "Yi5aa2kYIVj2"
      },
      "source": [
        "# CODE"
      ]
    },
    {
      "cell_type": "code",
      "metadata": {
        "colab": {
          "base_uri": "https://localhost:8080/"
        },
        "id": "AF23O09IJ3SX",
        "outputId": "24ca55e6-ce92-4bec-9662-4eab8f711315"
      },
      "source": [
        "n=int(input(\"enter a value of n\"))\n",
        "while n>=0:\n",
        "  print(n)\n",
        "  n-=1\n"
      ],
      "execution_count": null,
      "outputs": [
        {
          "output_type": "stream",
          "text": [
            "enter a value of n10\n",
            "10\n",
            "9\n",
            "8\n",
            "7\n",
            "6\n",
            "5\n",
            "4\n",
            "3\n",
            "2\n",
            "1\n",
            "0\n"
          ],
          "name": "stdout"
        }
      ]
    },
    {
      "cell_type": "markdown",
      "metadata": {
        "id": "MlpDrHCNueaY"
      },
      "source": [
        "# **Exercise 4 - Control Flow - Continued**"
      ]
    },
    {
      "cell_type": "markdown",
      "metadata": {
        "id": "hDiIbPO5KXlR"
      },
      "source": [
        "# AIM\n",
        "# 4a.find the sum of all the primes below two million"
      ]
    },
    {
      "cell_type": "markdown",
      "metadata": {
        "id": "MQqwOlADY0rH"
      },
      "source": [
        "**DESCRIPTION:**\n",
        "\n",
        "A Fibonacci sequence is the integer sequence of 0, 1, 1, 2, 3, 5, 8....\n",
        "\n",
        "The first two terms are 0 and 1. All other terms are obtained by adding the preceding two terms. This means to say the nth term is the sum of (n-1)th and (n-2)th term\n",
        "\n",
        "Here, we store the number of terms in nterms. We initialize the first term to 0 and the second term to 1.\n",
        "\n",
        "If the number of terms is more than 2, we use a while loop to find the next term in the sequence by adding the preceding two terms. We then interchange the variables (update it) and continue on with the process."
      ]
    },
    {
      "cell_type": "markdown",
      "metadata": {
        "id": "ZLEdQw1IIrMj"
      },
      "source": [
        "# CODE"
      ]
    },
    {
      "cell_type": "code",
      "metadata": {
        "colab": {
          "base_uri": "https://localhost:8080/"
        },
        "id": "kfpM42c5vstt",
        "outputId": "4b1c9501-cd6c-4bef-dd98-d334787bcc17"
      },
      "source": [
        "n=int(input(\"enter an Ending Number: \"));\n",
        "st=\"\"\n",
        "sum=0\n",
        "for i in range(2,n):\n",
        "    state=True\n",
        "    for j in range(2,i):\n",
        "        if(i%j)==0:\n",
        "            state=False\n",
        "            break;\n",
        "    if state==True:\n",
        "            st+=\" \"+str(i)\n",
        "            sum+=i\n",
        "\n",
        "print(\"prime Numbers: \")\n",
        "print(st)\n",
        "print(\"Sum of the prime Numbers: \",sum)"
      ],
      "execution_count": null,
      "outputs": [
        {
          "output_type": "stream",
          "name": "stdout",
          "text": [
            "enter an Ending Number: 150\n",
            "prime Numbers: \n",
            " 2 3 5 7 11 13 17 19 23 29 31 37 41 43 47 53 59 61 67 71 73 79 83 89 97 101 103 107 109 113 127 131 137 139 149\n",
            "Sum of the prime Numbers:  2276\n"
          ]
        }
      ]
    },
    {
      "cell_type": "markdown",
      "metadata": {
        "id": "OeAV5Ge6NjOa"
      },
      "source": [
        "# AIM\n",
        "# 4b. each term in the fiboncci sequence is generated by adding the previous two terms .by starting with 1 and 2 ,the first 10 terms will be 1,2,3,5,8,13,21,34,55,89,......"
      ]
    },
    {
      "cell_type": "markdown",
      "metadata": {
        "id": "lTc6Zt86ZjF0"
      },
      "source": [
        "**DESCRIPTION:**\n",
        "\n",
        "A Fibonacci sequence is the integer sequence of 0, 1, 1, 2, 3, 5, 8....\n",
        "\n",
        "The first two terms are 0 and 1. All other terms are obtained by adding the preceding two terms. This means to say the nth term is the sum of (n-1)th and (n-2)th term\n",
        "\n",
        "Here, we store the number of terms in nterms. We initialize the first term to 0 and the second term to 1.\n",
        "\n",
        "If the number of terms is more than 2, we use a while loop to find the next term in the sequence by adding the preceding two terms. We then interchange the variables (update it) and continue on with the process."
      ]
    },
    {
      "cell_type": "markdown",
      "metadata": {
        "id": "FelFWD5JJF7a"
      },
      "source": [
        "# CODE"
      ]
    },
    {
      "cell_type": "code",
      "metadata": {
        "colab": {
          "base_uri": "https://localhost:8080/"
        },
        "id": "SpSt8CjhO2m1",
        "outputId": "ba5fffc3-df5e-41bd-be1c-c0ed0310277f"
      },
      "source": [
        "#fibonacci series \n",
        "n=int(input(\"enter a value of n:\")) \n",
        "a=0\n",
        "b=1\n",
        "c=a+b\n",
        "while c<n:\n",
        "  print(c,end=' ')\n",
        "  a=b\n",
        "  b=c\n",
        "  c=a+b"
      ],
      "execution_count": null,
      "outputs": [
        {
          "output_type": "stream",
          "text": [
            "enter a value of n:1000\n",
            "1 2 3 5 8 13 21 34 55 89 144 233 377 610 987 "
          ],
          "name": "stdout"
        }
      ]
    },
    {
      "cell_type": "markdown",
      "metadata": {
        "id": "FhNcJ1J_QGHu"
      },
      "source": [
        "#AIM\n",
        "# 4c.by considering the terms in the fibonacci sequence whose values donot execeed four million,find the sum of the even-valued terms "
      ]
    },
    {
      "cell_type": "markdown",
      "metadata": {
        "id": "xj6ViOfJJWzM"
      },
      "source": [
        "**DESCRIPTION:**\n",
        "\n",
        "A Fibonacci sequence is the integer sequence of 0, 1, 1, 2, 3, 5, 8....\n",
        "\n",
        "The first two terms are 0 and 1. All other terms are obtained by adding the preceding two terms. This means to say the nth term is the sum of (n-1)th and (n-2)th term\n",
        "\n",
        "Here, we store the number of terms in nterms. We initialize the first term to 0 and the second term to 1.\n",
        "\n",
        "If the number of terms is more than 2, we use a while loop to find the next term in the sequence by adding the preceding two terms. We then interchange the variables (update it) and continue on with the process."
      ]
    },
    {
      "cell_type": "code",
      "metadata": {
        "colab": {
          "base_uri": "https://localhost:8080/"
        },
        "id": "3kx3bBMKQiIW",
        "outputId": "161243dc-02e4-4e39-e3d4-52c64f543641"
      },
      "source": [
        "n=int(input(\"enter value of n: \" ))\n",
        "\n",
        "a=0\n",
        "b=1\n",
        "c=a+b\n",
        "sum=0\n",
        "print(\"even numbers in fibonacci series:\",end='')\n",
        "while c<=n:\n",
        "  if c%2==0:\n",
        "   print(c,end='')\n",
        "  sum+=c\n",
        "  a=b\n",
        "  b=c\n",
        "  c=a+b\n",
        "  print(\"\\n sum of fibonacci series is:\",sum)"
      ],
      "execution_count": null,
      "outputs": [
        {
          "output_type": "stream",
          "text": [
            "enter value of n: 4000000\n",
            "even numbers in fibonacci series:\n",
            " sum of fibonacci series is: 1\n",
            "2\n",
            " sum of fibonacci series is: 3\n",
            "\n",
            " sum of fibonacci series is: 6\n",
            "\n",
            " sum of fibonacci series is: 11\n",
            "8\n",
            " sum of fibonacci series is: 19\n",
            "\n",
            " sum of fibonacci series is: 32\n",
            "\n",
            " sum of fibonacci series is: 53\n",
            "34\n",
            " sum of fibonacci series is: 87\n",
            "\n",
            " sum of fibonacci series is: 142\n",
            "\n",
            " sum of fibonacci series is: 231\n",
            "144\n",
            " sum of fibonacci series is: 375\n",
            "\n",
            " sum of fibonacci series is: 608\n",
            "\n",
            " sum of fibonacci series is: 985\n",
            "610\n",
            " sum of fibonacci series is: 1595\n",
            "\n",
            " sum of fibonacci series is: 2582\n",
            "\n",
            " sum of fibonacci series is: 4179\n",
            "2584\n",
            " sum of fibonacci series is: 6763\n",
            "\n",
            " sum of fibonacci series is: 10944\n",
            "\n",
            " sum of fibonacci series is: 17709\n",
            "10946\n",
            " sum of fibonacci series is: 28655\n",
            "\n",
            " sum of fibonacci series is: 46366\n",
            "\n",
            " sum of fibonacci series is: 75023\n",
            "46368\n",
            " sum of fibonacci series is: 121391\n",
            "\n",
            " sum of fibonacci series is: 196416\n",
            "\n",
            " sum of fibonacci series is: 317809\n",
            "196418\n",
            " sum of fibonacci series is: 514227\n",
            "\n",
            " sum of fibonacci series is: 832038\n",
            "\n",
            " sum of fibonacci series is: 1346267\n",
            "832040\n",
            " sum of fibonacci series is: 2178307\n",
            "\n",
            " sum of fibonacci series is: 3524576\n",
            "\n",
            " sum of fibonacci series is: 5702885\n",
            "3524578\n",
            " sum of fibonacci series is: 9227463\n"
          ],
          "name": "stdout"
        }
      ]
    },
    {
      "cell_type": "markdown",
      "metadata": {
        "id": "RvzOOXzrFtha"
      },
      "source": [
        "## **Exercise - 5 - DS**"
      ]
    },
    {
      "cell_type": "markdown",
      "metadata": {
        "id": "XR3GQPZi8jbT"
      },
      "source": [
        "# AIM\n",
        "# 5a. write a program to count the numbers of characters in the string and store them in a dictionary data structure"
      ]
    },
    {
      "cell_type": "markdown",
      "metadata": {
        "id": "7hWtmYvLbnMC"
      },
      "source": [
        "**DESCRIPTION:**\n",
        "\n",
        "Given a string, the task is to find the frequencies of all the characters in that string and return a dictionary with key as the character and its value as its frequency in the given string.\n",
        "\n",
        "Method #1 : Naive method\n",
        "\n",
        "Simply iterate through the string and form a key in dictionary of newly occurred element or if element is already occurred, increase its value by 1.\n",
        "\n",
        "Method #2 : Using collections.Counter()\n",
        "\n",
        "The most suggested method that could be used to find all occurrences is this method, this actually gets all element frequency and could also be used to print single element frequency if required."
      ]
    },
    {
      "cell_type": "markdown",
      "metadata": {
        "id": "8Hqcqhd-JzB5"
      },
      "source": [
        "# CODE"
      ]
    },
    {
      "cell_type": "code",
      "metadata": {
        "colab": {
          "base_uri": "https://localhost:8080/"
        },
        "id": "KZ1GQQoJ9M4s",
        "outputId": "687b3e7f-5d4a-4ab5-a528-1f16df9160e1"
      },
      "source": [
        "name=input(\"enter a name: \")\n",
        "dic={}\n",
        "for ch in name:\n",
        "  keys=dic.keys()\n",
        "\n",
        "  if(ch in keys):\n",
        "    dic[ch]=dic[ch]+1\n",
        "  else:\n",
        "      dic[ch]=1\n",
        "print(\" dictionary is:\",dic)      "
      ],
      "execution_count": null,
      "outputs": [
        {
          "output_type": "stream",
          "text": [
            "enter a name: Pundari\n",
            " dictionary is: {'P': 1, 'u': 1, 'n': 1, 'd': 1, 'a': 1, 'r': 1, 'i': 1}\n"
          ],
          "name": "stdout"
        }
      ]
    },
    {
      "cell_type": "markdown",
      "metadata": {
        "id": "dMzEWC9h-yPt"
      },
      "source": [
        "#AIM\n",
        "# 5b. write a program to use split and join methods in the string and trace a birthday with a dictionary data structure"
      ]
    },
    {
      "cell_type": "markdown",
      "metadata": {
        "id": "INTW2KKIdU0d"
      },
      "source": [
        "**DESCRIPTION:**\n",
        "\n",
        "Python program to Split a string based on a delimiter and join the string using another delimiter.\n",
        "\n",
        "Split a string can be quite useful sometimes, especially when you need only certain parts of strings. A simple yet effective example is splitting the First-name and Last-name of a person. Another application is CSV(Comma Separated Files). We use split to get data from CSV and join to write data to CSV.\n",
        "\n",
        "In Python, we can use the function split() to split a string and \n",
        "\n",
        "join() to join a string. "
      ]
    },
    {
      "cell_type": "markdown",
      "metadata": {
        "id": "eqMZMFXfKXCQ"
      },
      "source": [
        "# CODE"
      ]
    },
    {
      "cell_type": "code",
      "metadata": {
        "colab": {
          "base_uri": "https://localhost:8080/"
        },
        "id": "xB1xUHk7_WM6",
        "outputId": "753f4af7-178d-468d-c765-ebc0460c9df0"
      },
      "source": [
        "dob={\"pundari\":\"06-oct-2002\",\"harsha\":\"12-09-2001\"}\n",
        "name=input(\"which person dob you want: \")\n",
        "l=name.split()\n",
        "birth=\"\"\n",
        "for i in l:\n",
        "  if i in dob.keys():\n",
        "    pers=i\n",
        "print(\"\".join([pers,\"Birthday is\",dob[pers]]))   "
      ],
      "execution_count": null,
      "outputs": [
        {
          "output_type": "stream",
          "text": [
            "which person dob you want: pundari\n",
            "pundariBirthday is06-oct-2002\n"
          ],
          "name": "stdout"
        }
      ]
    },
    {
      "cell_type": "markdown",
      "metadata": {
        "id": "KQpysg1ozVoA"
      },
      "source": [
        "## **Exercise - 6 DS - Continued**\n",
        "\n",
        "**AIM:**\n",
        "\n",
        "# a) Write a program combinelists that combines these lists into a dictionary."
      ]
    },
    {
      "cell_type": "markdown",
      "metadata": {
        "id": "HJ4-8A_9eL_0"
      },
      "source": [
        "**DESCRIPTION:**\n",
        "\n",
        "For this, simply declare a dictionary, and then run nested loop for both the lists and assign key and value pairs to from list values to dictionary.\n",
        "\n",
        "Most pythonic and generic method to perform this very task is by using zip(). This function pairs the list element with other list element at corresponding index in form of key-value pairs."
      ]
    },
    {
      "cell_type": "markdown",
      "metadata": {
        "id": "qN7dM_G-Km0e"
      },
      "source": [
        "# CODE"
      ]
    },
    {
      "cell_type": "code",
      "metadata": {
        "colab": {
          "base_uri": "https://localhost:8080/"
        },
        "id": "SOvZTwA3CEuc",
        "outputId": "ee782231-4fb0-49b1-b2df-299db37bbf3a"
      },
      "source": [
        "subj=[\"DAA\",\"OS\",\"DBMS\",\"P&S\",\"PPL\",\"SE\"]\n",
        "marks=[85,96,78,68,98,56]\n",
        "print(\"given lists are: \")\n",
        "print(\" subject Names:\",subj)\n",
        "print(\"Mark values:\",marks)\n",
        "dic=dict(zip(subj,marks))\n",
        "print(\"\\n Dictionary:\",dic)"
      ],
      "execution_count": null,
      "outputs": [
        {
          "output_type": "stream",
          "text": [
            "given lists are: \n",
            " subject Names: ['DAA', 'OS', 'DBMS', 'P&S', 'PPL', 'SE']\n",
            "Mark values: [85, 96, 78, 68, 98, 56]\n",
            "\n",
            " Dictionary: {'DAA': 85, 'OS': 96, 'DBMS': 78, 'P&S': 68, 'PPL': 98, 'SE': 56}\n"
          ],
          "name": "stdout"
        }
      ]
    },
    {
      "cell_type": "markdown",
      "metadata": {
        "id": "ysup0CxMD8j3"
      },
      "source": [
        "#AIM\n",
        "# 6b.write a program to count frequency of characters in a given file . can you use character frequency to tell whether the given file is a python program file , c program file or a text file?"
      ]
    },
    {
      "cell_type": "markdown",
      "metadata": {
        "id": "FVUBD4xKwcYe"
      },
      "source": [
        "**DESCRIPTION:**\n",
        "\n",
        "approaches to count the number of times a letter appears in a text file in Python.\n",
        "\n",
        "Method 1: Using the in-built count() method.\n",
        "\n",
        "**Approach:**\n",
        "\n",
        "1. Read the file.\n",
        "2. Store the content of the file in a variable.\n",
        "3. Use the count() method with the argument as a letter whose frequency is required.\n",
        "4. Display the count of the letter."
      ]
    },
    {
      "cell_type": "code",
      "metadata": {
        "id": "FTGl9PUA3_xK",
        "colab": {
          "base_uri": "https://localhost:8080/",
          "height": 246
        },
        "outputId": "a3f9cf26-0740-4828-929d-6c1e8e89823e"
      },
      "source": [
        "filetypes=['.py','.c','.txt']\n",
        "fn=input(\"Enter the file name:\")\n",
        "f=open(fn,\"r\")\n",
        "count=dict()\n",
        "print(\"Given file is\",end=\"\")\n",
        "for ft in filetypes:\n",
        "  if(ft in fn):\n",
        "    if(ft=='.py'):\n",
        "      print(\"Python file\")\n",
        "    elif(ft=='.c'):\n",
        "      print(\"C File\")\n",
        "    elif(ft=='.txt'):\n",
        "       print(\"Text File\")\n",
        "for line in f:\n",
        "  for ch in line:\n",
        "    if ch in count:\n",
        "      count[ch]=count[ch]+1\n",
        "    else:\n",
        "      count[ch]=1\n",
        "print(count)\n",
        "f.close()"
      ],
      "execution_count": null,
      "outputs": [
        {
          "name": "stdout",
          "output_type": "stream",
          "text": [
            "Enter the file name:abc\n"
          ]
        },
        {
          "output_type": "error",
          "ename": "FileNotFoundError",
          "evalue": "ignored",
          "traceback": [
            "\u001b[0;31m---------------------------------------------------------------------------\u001b[0m",
            "\u001b[0;31mFileNotFoundError\u001b[0m                         Traceback (most recent call last)",
            "\u001b[0;32m<ipython-input-9-40147542e393>\u001b[0m in \u001b[0;36m<module>\u001b[0;34m()\u001b[0m\n\u001b[1;32m      1\u001b[0m \u001b[0mfiletypes\u001b[0m\u001b[0;34m=\u001b[0m\u001b[0;34m[\u001b[0m\u001b[0;34m'.py'\u001b[0m\u001b[0;34m,\u001b[0m\u001b[0;34m'.c'\u001b[0m\u001b[0;34m,\u001b[0m\u001b[0;34m'.txt'\u001b[0m\u001b[0;34m]\u001b[0m\u001b[0;34m\u001b[0m\u001b[0;34m\u001b[0m\u001b[0m\n\u001b[1;32m      2\u001b[0m \u001b[0mfn\u001b[0m\u001b[0;34m=\u001b[0m\u001b[0minput\u001b[0m\u001b[0;34m(\u001b[0m\u001b[0;34m\"Enter the file name:\"\u001b[0m\u001b[0;34m)\u001b[0m\u001b[0;34m\u001b[0m\u001b[0;34m\u001b[0m\u001b[0m\n\u001b[0;32m----> 3\u001b[0;31m \u001b[0mf\u001b[0m\u001b[0;34m=\u001b[0m\u001b[0mopen\u001b[0m\u001b[0;34m(\u001b[0m\u001b[0mfn\u001b[0m\u001b[0;34m,\u001b[0m\u001b[0;34m\"r\"\u001b[0m\u001b[0;34m)\u001b[0m\u001b[0;34m\u001b[0m\u001b[0;34m\u001b[0m\u001b[0m\n\u001b[0m\u001b[1;32m      4\u001b[0m \u001b[0mcount\u001b[0m\u001b[0;34m=\u001b[0m\u001b[0mdict\u001b[0m\u001b[0;34m(\u001b[0m\u001b[0;34m)\u001b[0m\u001b[0;34m\u001b[0m\u001b[0;34m\u001b[0m\u001b[0m\n\u001b[1;32m      5\u001b[0m \u001b[0mprint\u001b[0m\u001b[0;34m(\u001b[0m\u001b[0;34m\"Given file is\"\u001b[0m\u001b[0;34m,\u001b[0m\u001b[0mend\u001b[0m\u001b[0;34m=\u001b[0m\u001b[0;34m\"\"\u001b[0m\u001b[0;34m)\u001b[0m\u001b[0;34m\u001b[0m\u001b[0;34m\u001b[0m\u001b[0m\n",
            "\u001b[0;31mFileNotFoundError\u001b[0m: [Errno 2] No such file or directory: 'abc'"
          ]
        }
      ]
    },
    {
      "cell_type": "markdown",
      "metadata": {
        "id": "A2wjNe5s98gl"
      },
      "source": [
        "## **Exercise - 7 Files**\n",
        "\n",
        "**AIM**\n",
        "\n",
        "# a) Write a program to print each line of a file in reverse order."
      ]
    },
    {
      "cell_type": "markdown",
      "metadata": {
        "id": "93ql4RbYkXqi"
      },
      "source": [
        "**DESCRIPTION:**\n",
        "\n",
        "The file handling plays an important role when the data needs to be stored permanently into the\n",
        "file. A file is a named location on disk to store related information. We can access the stored\n",
        "information (non-volatile) after the program termination.\n",
        "In Python, files are treated in two modes as text or binary. The file may be in the text or binary\n",
        "format, and each line of a file is ended with the special character.\n",
        "Hence, a file operation can be done in the following order.\n",
        "\n",
        " Open a file\n",
        "\n",
        " Read or write - Performing operation\n",
        "\n",
        " Close the file"
      ]
    },
    {
      "cell_type": "markdown",
      "metadata": {
        "id": "W6LCiZv1M31g"
      },
      "source": [
        "# CODE"
      ]
    },
    {
      "cell_type": "code",
      "metadata": {
        "colab": {
          "base_uri": "https://localhost:8080/",
          "height": 229
        },
        "id": "FU6uF-8iIlBB",
        "outputId": "25949f16-b2ad-46d0-b95f-b28e7873c277"
      },
      "source": [
        "obj=open(\"abc.txt\",\"r\")\n",
        "if obj:\n",
        "  st=obj.read()\n",
        "  print(\"File content is:\\n\",st)\n",
        "obj.close() \n",
        "\n",
        "print()\n",
        "lines=st.split('\\n')\n",
        "\n",
        "for ln in lines:\n",
        "   i=lcn(ln)-1\n",
        "   while(i>=0):\n",
        "    print(ln[i],end='')\n",
        "    i=i-1\n",
        "print()     \n"
      ],
      "execution_count": null,
      "outputs": [
        {
          "output_type": "error",
          "ename": "FileNotFoundError",
          "evalue": "ignored",
          "traceback": [
            "\u001b[0;31m---------------------------------------------------------------------------\u001b[0m",
            "\u001b[0;31mFileNotFoundError\u001b[0m                         Traceback (most recent call last)",
            "\u001b[0;32m<ipython-input-11-eb9dad510916>\u001b[0m in \u001b[0;36m<module>\u001b[0;34m()\u001b[0m\n\u001b[0;32m----> 1\u001b[0;31m \u001b[0mobj\u001b[0m\u001b[0;34m=\u001b[0m\u001b[0mopen\u001b[0m\u001b[0;34m(\u001b[0m\u001b[0;34m\"abc.txt\"\u001b[0m\u001b[0;34m,\u001b[0m\u001b[0;34m\"r\"\u001b[0m\u001b[0;34m)\u001b[0m\u001b[0;34m\u001b[0m\u001b[0;34m\u001b[0m\u001b[0m\n\u001b[0m\u001b[1;32m      2\u001b[0m \u001b[0;32mif\u001b[0m \u001b[0mobj\u001b[0m\u001b[0;34m:\u001b[0m\u001b[0;34m\u001b[0m\u001b[0;34m\u001b[0m\u001b[0m\n\u001b[1;32m      3\u001b[0m   \u001b[0mst\u001b[0m\u001b[0;34m=\u001b[0m\u001b[0mobj\u001b[0m\u001b[0;34m.\u001b[0m\u001b[0mread\u001b[0m\u001b[0;34m(\u001b[0m\u001b[0;34m)\u001b[0m\u001b[0;34m\u001b[0m\u001b[0;34m\u001b[0m\u001b[0m\n\u001b[1;32m      4\u001b[0m   \u001b[0mprint\u001b[0m\u001b[0;34m(\u001b[0m\u001b[0;34m\"File content is:\\n\"\u001b[0m\u001b[0;34m,\u001b[0m\u001b[0mst\u001b[0m\u001b[0;34m)\u001b[0m\u001b[0;34m\u001b[0m\u001b[0;34m\u001b[0m\u001b[0m\n\u001b[1;32m      5\u001b[0m \u001b[0mobj\u001b[0m\u001b[0;34m.\u001b[0m\u001b[0mclose\u001b[0m\u001b[0;34m(\u001b[0m\u001b[0;34m)\u001b[0m\u001b[0;34m\u001b[0m\u001b[0;34m\u001b[0m\u001b[0m\n",
            "\u001b[0;31mFileNotFoundError\u001b[0m: [Errno 2] No such file or directory: 'abc.txt'"
          ]
        }
      ]
    },
    {
      "cell_type": "markdown",
      "metadata": {
        "id": "8LUQo4Q0KiSD"
      },
      "source": [
        "#AIM\n",
        "# 7b.write a program to compute the number of characters ,words,and lines in a file"
      ]
    },
    {
      "cell_type": "markdown",
      "metadata": {
        "id": "XcS_7Sf2nwL2"
      },
      "source": [
        "# DESCRIPTION\n",
        "Given a text file fname, the task is to count the total number of characters, words, spaces and lines in the file.\n",
        "\n",
        "As we know, Python provides multiple in-built features and modules for handling files. Let’s discuss different ways to calculate total number of characters, words, spaces and lines in a file using Python.\n",
        "\n",
        "Method #1: Naive approach\n",
        "\n",
        "In this approach, the idea is to solve the task by developing our own logic. Without using any built-in function of Python, the total number of characters, words, spaces and lines of the file will be calculated.\n",
        "\n",
        "Method #2: Using some built-in functions and OS module functions\n",
        "\n",
        "In this approach, the idea is to use the os.linesep() method of OS module to separate the lines on the current platform. When the interpreter’s scanner encounter os.linesep it replaces it with \\n character. After that strip() and split() functions will be used to carry out the task."
      ]
    },
    {
      "cell_type": "markdown",
      "metadata": {
        "id": "9guNZES7NU3F"
      },
      "source": [
        "# CODE"
      ]
    },
    {
      "cell_type": "code",
      "metadata": {
        "colab": {
          "base_uri": "https://localhost:8080/",
          "height": 642
        },
        "id": "H1V3ukHHK-9F",
        "outputId": "81b633e9-4588-4530-d1df-03bc0960f3c6"
      },
      "source": [
        "nc=nw=nc=0\n",
        "file=open(\"abc.txt\",\"r\")\n",
        "\n",
        "nl=nw=nc=0\n",
        "print(\"File content:\\n\")\n",
        "for line in file:\n",
        "  ln=line.strip(\"\\n\") \n",
        "  print(ln)\n",
        "  words=ln.split()\n",
        "  nl+=1\n",
        "  nw+=len(words)\n",
        "  nc+=len(line)\n",
        "  file.close()\n",
        "\n",
        "print(\"\\n No.of lines:\",nl,\"words\",nw,\"characters\",nc)  \n",
        "   "
      ],
      "execution_count": null,
      "outputs": [
        {
          "output_type": "error",
          "ename": "FileNotFoundError",
          "evalue": "ignored",
          "traceback": [
            "\u001b[0;31m---------------------------------------------------------------------------\u001b[0m",
            "\u001b[0;31mFileNotFoundError\u001b[0m                         Traceback (most recent call last)",
            "\u001b[0;32m<ipython-input-32-d5b5cbdd359d>\u001b[0m in \u001b[0;36m<module>\u001b[0;34m()\u001b[0m\n\u001b[1;32m      1\u001b[0m \u001b[0mnc\u001b[0m\u001b[0;34m=\u001b[0m\u001b[0mnw\u001b[0m\u001b[0;34m=\u001b[0m\u001b[0mnc\u001b[0m\u001b[0;34m=\u001b[0m\u001b[0;36m0\u001b[0m\u001b[0;34m\u001b[0m\u001b[0;34m\u001b[0m\u001b[0m\n\u001b[0;32m----> 2\u001b[0;31m \u001b[0mfile\u001b[0m\u001b[0;34m=\u001b[0m\u001b[0mopen\u001b[0m\u001b[0;34m(\u001b[0m\u001b[0;34m\"abc.txt\"\u001b[0m\u001b[0;34m,\u001b[0m\u001b[0;34m\"r\"\u001b[0m\u001b[0;34m)\u001b[0m\u001b[0;34m\u001b[0m\u001b[0;34m\u001b[0m\u001b[0m\n\u001b[0m\u001b[1;32m      3\u001b[0m \u001b[0;34m\u001b[0m\u001b[0m\n\u001b[1;32m      4\u001b[0m \u001b[0mnl\u001b[0m\u001b[0;34m=\u001b[0m\u001b[0mnw\u001b[0m\u001b[0;34m=\u001b[0m\u001b[0mnc\u001b[0m\u001b[0;34m=\u001b[0m\u001b[0;36m0\u001b[0m\u001b[0;34m\u001b[0m\u001b[0;34m\u001b[0m\u001b[0m\n\u001b[1;32m      5\u001b[0m \u001b[0mprint\u001b[0m\u001b[0;34m(\u001b[0m\u001b[0;34m\"File content:\\n\"\u001b[0m\u001b[0;34m)\u001b[0m\u001b[0;34m\u001b[0m\u001b[0;34m\u001b[0m\u001b[0m\n",
            "\u001b[0;31mFileNotFoundError\u001b[0m: [Errno 2] No such file or directory: 'abc.txt'"
          ]
        }
      ]
    },
    {
      "cell_type": "markdown",
      "metadata": {
        "id": "UGInG1Th-1sa"
      },
      "source": [
        "## **Exercise - 8 Functions**\n",
        "\n",
        "**AIM:**\n",
        "\n",
        "# a) Write a function ball collide that takes two balls as parameters and computes if they arecolliding.\n",
        "Your function should return a Boolean representing whether or not the balls arecolliding.\n",
        "\n",
        "\n",
        "\n",
        "\n",
        "*Hint: Represent a ball on a plane as a tuple of (x, y, r), r being the radius\n",
        "If (distance between two balls centers) <= (sum of their radii) then (they are colliding)*"
      ]
    },
    {
      "cell_type": "markdown",
      "metadata": {
        "id": "8wTkE7Zjo4vg"
      },
      "source": [
        "**DESCRIPTION**\n",
        "\n",
        "**Functions**\n",
        "A function in python is a block of code that is defined for doing frequent operations in a\n",
        "particular task. The general format is\n",
        "\n",
        "def  Functionname(arguments):\n",
        "\n",
        "      Statements\n",
        "\n",
        "**Calling a Function:**\n",
        "\n",
        "A function can be called by its name followed by arguments within parenthesis.\n",
        "\n",
        "function()\n",
        "\n"
      ]
    },
    {
      "cell_type": "markdown",
      "metadata": {
        "id": "P-s4VIVTNivf"
      },
      "source": [
        "# CODE"
      ]
    },
    {
      "cell_type": "code",
      "metadata": {
        "colab": {
          "base_uri": "https://localhost:8080/"
        },
        "id": "C1Tufp6lM1Zh",
        "outputId": "2634748c-514f-46dd-ffff-75b82e4900d5"
      },
      "source": [
        "import math\n",
        "def collide(ball_tup1,ball_tup2):\n",
        "  x1,y1,r1=ball_tup1\n",
        "  x2,y2,r2=ball_tup2\n",
        "\n",
        "  print(\"Ball-01:\",ball_tup1)\n",
        "  print(\"Ball_02:\",ball_tup2)\n",
        "\n",
        "  d=math.sqrt((x2-x1)**2+(y2-y1)**2)\n",
        "  print(\"Centroid distance of two balls:\",d)\n",
        "  print(\"Sum of Radius Ball-01& ball-02 is:{}+{}={} \".format(r1,r2,r1+r2))\n",
        "\n",
        "  if d<=r1+r2:\n",
        "    return True\n",
        "  else:\n",
        "    return False\n",
        "\n",
        "b1=(-2,-4,3)     \n",
        "b2=(4,6,3) \n",
        "\n",
        "if collide(b1,b2):\n",
        "  print(\"Balls are  collide......\")\n",
        "else:\n",
        "  print(\"Balls are Not Collide...... \")  "
      ],
      "execution_count": null,
      "outputs": [
        {
          "output_type": "stream",
          "text": [
            "Ball-01: (-2, -4, 3)\n",
            "Ball_02: (4, 6, 3)\n",
            "Centroid distance of two balls: 11.661903789690601\n",
            "Sum of Radius Ball-01& ball-02 is:3+3=6 \n",
            "Balls are Not Collide...... \n"
          ],
          "name": "stdout"
        }
      ]
    },
    {
      "cell_type": "markdown",
      "metadata": {
        "id": "i3F45-y_qjgr"
      },
      "source": [
        "#AIM \n",
        "# 8b. find mean,median,mode for the given set of numbers ina list"
      ]
    },
    {
      "cell_type": "markdown",
      "metadata": {
        "id": "GUpEEjbrqOa_"
      },
      "source": [
        "**DESCRIPTION**\n",
        "\n",
        "Mean : The mean is the average of all numbers and is sometimes called the arithmetic mean. This code calculates Mean or Average of a list containing numbers:\n",
        "\n",
        "Median : The median is the middle number in a group of numbers. This code calculates Median of a list containing numbers:\n",
        "\n",
        "Mode : The mode is the number that occurs most often within a set of numbers. This code calculates Mode of a list containing numbers:\n",
        "\n",
        "We will import Counter from collections library which is a built-in module in Python 2 and 3. This module will help us count duplicate elements in a list.\n",
        "We define a list of numbers and calculate the length of the list. We then call Counter (a dict subclass) which helps to count hashable objects, and we then convert it to dict object. We then initialize a list with a For Loop to compare all the dict values (Number of elements) to the max of all dict values (count of most occurring element) and it returns all the elements equal to max count. If the elements returned are equal to the number of total elements in a list then we print out ‘No mode’, else we print out the modes returned.\n",
        "\n"
      ]
    },
    {
      "cell_type": "markdown",
      "metadata": {
        "id": "XFxnqKjsNuZw"
      },
      "source": [
        "# CODE"
      ]
    },
    {
      "cell_type": "code",
      "metadata": {
        "colab": {
          "base_uri": "https://localhost:8080/",
          "height": 363
        },
        "id": "fzzOqVJr4zPY",
        "outputId": "7c25d8e3-9045-49de-a761-04c6d08472dd"
      },
      "source": [
        "def list_mean(num_list):\n",
        "    return sum(num_list)/len(num_list)\n",
        "\n",
        "def list_median(num_list):\n",
        "    num_list.sort()\n",
        "    n=len(num_list)\n",
        "    mid=n//2\n",
        "    if(n%2==1):\n",
        "        return num_list[mid]\n",
        "    else:\n",
        "        mid\n",
        "        return(num_list[mid+1]+num_list[mid])/2\n",
        "\n",
        "def list_mode(num_list):\n",
        "    num_list.sort()\n",
        "    temp=[]\n",
        "\n",
        "    i=0\n",
        "    while i<len(num_list):\n",
        "        temp.append(num_list.count(num_list[i]))\n",
        "        i+=1\n",
        "\n",
        "    dic=dict(zip(num_list,temp))\n",
        "    mode={k for(k,v) in dic.items() if v==max(temp)}\n",
        "    return mode\n",
        "\n",
        "\n",
        "    \n",
        "lst=[1,1,2,2,2,3,4,5,3]\n",
        "\n",
        "print(\"Given list is; \",lst)\n",
        "print(\"Mean of the given list: \",list_mean(lst))\n",
        "print(\"Median of the given list: \",list_median(lst))\n",
        "print(\"Mode of the given list: \",list_mode(lst))\n"
      ],
      "execution_count": null,
      "outputs": [
        {
          "output_type": "stream",
          "name": "stdout",
          "text": [
            "Given list is;  [1, 1, 2, 2, 2, 3, 4, 5, 3]\n"
          ]
        },
        {
          "output_type": "error",
          "ename": "TypeError",
          "evalue": "ignored",
          "traceback": [
            "\u001b[0;31m---------------------------------------------------------------------------\u001b[0m",
            "\u001b[0;31mTypeError\u001b[0m                                 Traceback (most recent call last)",
            "\u001b[0;32m<ipython-input-14-5c5d558e7dd3>\u001b[0m in \u001b[0;36m<module>\u001b[0;34m()\u001b[0m\n\u001b[1;32m     30\u001b[0m \u001b[0;34m\u001b[0m\u001b[0m\n\u001b[1;32m     31\u001b[0m \u001b[0mprint\u001b[0m\u001b[0;34m(\u001b[0m\u001b[0;34m\"Given list is; \"\u001b[0m\u001b[0;34m,\u001b[0m\u001b[0mlst\u001b[0m\u001b[0;34m)\u001b[0m\u001b[0;34m\u001b[0m\u001b[0;34m\u001b[0m\u001b[0m\n\u001b[0;32m---> 32\u001b[0;31m \u001b[0mprint\u001b[0m\u001b[0;34m(\u001b[0m\u001b[0;34m\"Mean of the given list: \"\u001b[0m\u001b[0;34m,\u001b[0m\u001b[0mlist_mean\u001b[0m\u001b[0;34m(\u001b[0m\u001b[0mlst\u001b[0m\u001b[0;34m)\u001b[0m\u001b[0;34m)\u001b[0m\u001b[0;34m\u001b[0m\u001b[0;34m\u001b[0m\u001b[0m\n\u001b[0m\u001b[1;32m     33\u001b[0m \u001b[0mprint\u001b[0m\u001b[0;34m(\u001b[0m\u001b[0;34m\"Median of the given list: \"\u001b[0m\u001b[0;34m,\u001b[0m\u001b[0mlist_median\u001b[0m\u001b[0;34m(\u001b[0m\u001b[0mlst\u001b[0m\u001b[0;34m)\u001b[0m\u001b[0;34m)\u001b[0m\u001b[0;34m\u001b[0m\u001b[0;34m\u001b[0m\u001b[0m\n\u001b[1;32m     34\u001b[0m \u001b[0mprint\u001b[0m\u001b[0;34m(\u001b[0m\u001b[0;34m\"Mode of the given list: \"\u001b[0m\u001b[0;34m,\u001b[0m\u001b[0mlist_mode\u001b[0m\u001b[0;34m(\u001b[0m\u001b[0mlst\u001b[0m\u001b[0;34m)\u001b[0m\u001b[0;34m)\u001b[0m\u001b[0;34m\u001b[0m\u001b[0;34m\u001b[0m\u001b[0m\n",
            "\u001b[0;32m<ipython-input-14-5c5d558e7dd3>\u001b[0m in \u001b[0;36mlist_mean\u001b[0;34m(num_list)\u001b[0m\n\u001b[1;32m      1\u001b[0m \u001b[0;32mdef\u001b[0m \u001b[0mlist_mean\u001b[0m\u001b[0;34m(\u001b[0m\u001b[0mnum_list\u001b[0m\u001b[0;34m)\u001b[0m\u001b[0;34m:\u001b[0m\u001b[0;34m\u001b[0m\u001b[0;34m\u001b[0m\u001b[0m\n\u001b[0;32m----> 2\u001b[0;31m     \u001b[0;32mreturn\u001b[0m \u001b[0msum\u001b[0m\u001b[0;34m(\u001b[0m\u001b[0mnum_list\u001b[0m\u001b[0;34m)\u001b[0m\u001b[0;34m/\u001b[0m\u001b[0mlen\u001b[0m\u001b[0;34m(\u001b[0m\u001b[0mnum_list\u001b[0m\u001b[0;34m)\u001b[0m\u001b[0;34m\u001b[0m\u001b[0;34m\u001b[0m\u001b[0m\n\u001b[0m\u001b[1;32m      3\u001b[0m \u001b[0;34m\u001b[0m\u001b[0m\n\u001b[1;32m      4\u001b[0m \u001b[0;32mdef\u001b[0m \u001b[0mlist_median\u001b[0m\u001b[0;34m(\u001b[0m\u001b[0mnum_list\u001b[0m\u001b[0;34m)\u001b[0m\u001b[0;34m:\u001b[0m\u001b[0;34m\u001b[0m\u001b[0;34m\u001b[0m\u001b[0m\n\u001b[1;32m      5\u001b[0m     \u001b[0mnum_list\u001b[0m\u001b[0;34m.\u001b[0m\u001b[0msort\u001b[0m\u001b[0;34m(\u001b[0m\u001b[0;34m)\u001b[0m\u001b[0;34m\u001b[0m\u001b[0;34m\u001b[0m\u001b[0m\n",
            "\u001b[0;31mTypeError\u001b[0m: 'int' object is not callable"
          ]
        }
      ]
    },
    {
      "cell_type": "markdown",
      "metadata": {
        "id": "E4sWIbk3-Ek0"
      },
      "source": [
        "# **Exercise - 9 Functions - Continued**\n",
        "\n",
        "**AIM:**\n",
        "\n",
        "# a) Write a function nearly equal to test whether two strings are nearly"
      ]
    },
    {
      "cell_type": "markdown",
      "metadata": {
        "id": "36o7CtjHrMGB"
      },
      "source": [
        "**DESCRIPTION:**\n",
        "\n",
        "strlen() function is used to check wether the two string are nearly equal or not by basis of the Length of those Strings\n",
        "\n",
        "len() function is an inbuilt function in Python programming language that returns the length of the string.\n",
        "\n",
        "len() is a built-in function in python.You can use the len() to get the length of the given string, array, list, tuple, dictionary, etc.\n",
        "\n",
        "Value: the given value you want the length of.\n",
        "\n",
        "Return value a return an integer value i.e. the length of the given string, or array, or list, or collections.\n",
        "\n",
        "Syntax:\n",
        "\n",
        "len(string)\n"
      ]
    },
    {
      "cell_type": "markdown",
      "metadata": {
        "id": "ENIwNqcxPTe9"
      },
      "source": [
        "# CODE"
      ]
    },
    {
      "cell_type": "code",
      "metadata": {
        "id": "e6RDDH-8-ODJ",
        "colab": {
          "base_uri": "https://localhost:8080/"
        },
        "outputId": "dd3e0553-efd8-4faf-d503-4fae4baac641"
      },
      "source": [
        "def nearly_eq(str1,str2):\n",
        "    count=0\n",
        "    i=j=0\n",
        "    while(i<len(str1) and j<len(str2)):\n",
        "        if(str1[i]!=str2[j]):\n",
        "            count+=1\n",
        "            if(len(str1)>len(str2)):\n",
        "                i+=1\n",
        "            elif(len(str1)==len(str2)):\n",
        "                pass\n",
        "            else:\n",
        "                i-=1\n",
        "        if(count>1):\n",
        "            return False\n",
        "        i+=1\n",
        "        j+=1\n",
        "    if(count<2):\n",
        "        return True\n",
        "s1=input(\"Enter String1: \")\n",
        "s2=input(\"Enter String2: \")\n",
        "bln=nearly_eq(s1,s2)\n",
        "if(bln):\n",
        "    print(\"Strings are nearly equal.\")\n",
        "else:\n",
        "    print(\"Strings are Not Equal.\")\n"
      ],
      "execution_count": null,
      "outputs": [
        {
          "output_type": "stream",
          "name": "stdout",
          "text": [
            "Enter String1: myname\n",
            "Enter String2: myname\n",
            "Strings are nearly equal.\n"
          ]
        }
      ]
    },
    {
      "cell_type": "markdown",
      "metadata": {
        "id": "5Dc6AeMg6V6f"
      },
      "source": [
        "#Aim\n",
        "# 9b.write a function dup to find all dupliacates in the list"
      ]
    },
    {
      "cell_type": "markdown",
      "metadata": {
        "id": "hsHUZhLiukIl"
      },
      "source": [
        "**DESCRIPTION:**\n",
        "\n",
        "To check if a list contains any duplicate element follow the following steps,\n",
        "\n",
        "1. Add the contents of list in a set.\n",
        "\n",
        "        As set contains only unique elements, so no duplicates will be added   the the set.\n",
        "\n",
        "2. Compare the size of set and list.\n",
        "\n",
        "            If size of list & set is equal then it means no duplicates in list.\n",
        "\n",
        "3. If size of list & set are different then it means yes, there are duplicates in list."
      ]
    },
    {
      "cell_type": "markdown",
      "metadata": {
        "id": "9TP0OUUgPaKH"
      },
      "source": [
        "# CODE"
      ]
    },
    {
      "cell_type": "code",
      "metadata": {
        "colab": {
          "base_uri": "https://localhost:8080/"
        },
        "id": "rUo2rSyg6jWe",
        "outputId": "ddd61c60-c25c-40b4-8b60-01128d462035"
      },
      "source": [
        "def dups(numlist):\n",
        "  temp=[]\n",
        "  for i in numlist:\n",
        "    cnt=numlist.count(i)\n",
        "    if(cnt>1 and (i not in temp)):\n",
        "      temp.append(i)\n",
        "  print(\"Duplicates in the list:\",temp)\n",
        "lst=[1,2,6,9,1,3,5,2,1] \n",
        "print(\"given elements in the list:\",lst)  \n",
        "dups(lst)\n",
        "  "
      ],
      "execution_count": null,
      "outputs": [
        {
          "output_type": "stream",
          "text": [
            "given elements in the list: [1, 2, 6, 9, 1, 3, 5, 2, 1]\n",
            "Duplicates in the list: [1, 2]\n"
          ],
          "name": "stdout"
        }
      ]
    },
    {
      "cell_type": "markdown",
      "metadata": {
        "id": "bhpgOa5j7uQP"
      },
      "source": [
        "#AIM\n",
        "# 9c.write a function unique to find all the unique elememts of a list"
      ]
    },
    {
      "cell_type": "markdown",
      "metadata": {
        "id": "lUeB2j4kvt0P"
      },
      "source": [
        "**DESCRIPTION:**\n",
        "\n",
        "To find the unique in the list .There is a Specific Method i.e.,\n",
        "\n",
        "Method  : Traversal of list\n",
        "\n",
        "Using traversal, we can traverse for every element in the list and check if the element is in the unique_list already if it is not over there, then we can append it in the unique_list. \n",
        "\n",
        "This is done using one for loop and other if statement which check if the value is in the unique list or not which is equivalent to another for loop.  "
      ]
    },
    {
      "cell_type": "code",
      "metadata": {
        "colab": {
          "base_uri": "https://localhost:8080/"
        },
        "id": "dG7nFzvL7_UM",
        "outputId": "f063f432-eb94-44d0-dd8a-0f673bdac682"
      },
      "source": [
        "def unique(numlist):\n",
        "  temp=[]\n",
        "  for i in numlist:\n",
        "    cnt=numlist.count(i)\n",
        "    if cnt==1:\n",
        "      temp.append(i)\n",
        "  print(\"unique elements in the list \",temp)\n",
        "lst=[1,2,6,9,1,3,5,2,1]  \n",
        "print(\" Given elements in the list\",lst)\n",
        "unique(lst)"
      ],
      "execution_count": null,
      "outputs": [
        {
          "output_type": "stream",
          "text": [
            " Given elements in the list [1, 2, 6, 9, 1, 3, 5, 2, 1]\n",
            "unique elements in the list  [6, 9, 3, 5]\n"
          ],
          "name": "stdout"
        }
      ]
    },
    {
      "cell_type": "markdown",
      "metadata": {
        "id": "v2ImpJrYHhHd"
      },
      "source": [
        "## **Exercise - 10 - Functions - Problem Solving**\n",
        "\n",
        "**AIM**:\n",
        "\n",
        "# a) Write a function cumulative product to compute cumulative product of a list of numbers."
      ]
    },
    {
      "cell_type": "markdown",
      "metadata": {
        "id": "63Hk_KW_wwAP"
      },
      "source": [
        "**DESCRIPTION:**\n",
        "\n",
        "A cumulative product is a sequence of partial products of a given sequence. For example, the cumulative products of the sequence. , are , , .. Cumulative products can be implemented in the Wolfram Language as Rest[FoldList[Times, 1, list]]\n",
        "\n",
        "cumprod(A,1) works on successive elements in the columns of A and returns the cumulative products of each column. cumprod(A,2) works on successive elements in the rows of A and returns the cumulative products of each row.\n",
        "\n",
        "umprod() function is used when we want to compute the cumulative product of array elements over a given axis. Syntax : numpy.cumprod(arr, axis=None, dtype=None, out=None) Parameters : arr : [array_like] Array containing numbers whose cumulative product is desired."
      ]
    },
    {
      "cell_type": "markdown",
      "metadata": {
        "id": "1QW4WltxPrgX"
      },
      "source": [
        "# CODE"
      ]
    },
    {
      "cell_type": "code",
      "metadata": {
        "colab": {
          "base_uri": "https://localhost:8080/"
        },
        "id": "_5eLIUZX9vgz",
        "outputId": "c0978044-f5a8-47ae-e428-c37514e70255"
      },
      "source": [
        "def cum_prod(numlist):\n",
        " prod=1\n",
        " temp=[]\n",
        " for i in numlist:\n",
        "   prod*=i\n",
        "   temp.append(prod)\n",
        " return temp\n",
        "\n",
        "lst=[1,2,4,5,3 ] \n",
        "print(\"given list is:\",lst)\n",
        "print(\"cumulative product list is\",cum_prod(lst))\n"
      ],
      "execution_count": null,
      "outputs": [
        {
          "output_type": "stream",
          "text": [
            "given list is: [1, 2, 4, 5, 3]\n",
            "cumulative product list is [1, 2, 8, 40, 120]\n"
          ],
          "name": "stdout"
        }
      ]
    },
    {
      "cell_type": "markdown",
      "metadata": {
        "id": "mq5Pmat3DjJS"
      },
      "source": [
        "#AIM\n",
        "# 10b . write a function reverse to reverse a list.without using a reverse function."
      ]
    },
    {
      "cell_type": "markdown",
      "metadata": {
        "id": "_tOdMx__zECn"
      },
      "source": [
        "**DESCRIPTION:**\n",
        "\n",
        "In this Python code snippet post, we are going to implement a list reverse function from the scratch without using any builtin functions.\n",
        "\n",
        "Let us see how…\n",
        "\n",
        "Iterative solution\n",
        "\n",
        "We can use a for loop to swap the first and last items, the second and the one before the last item and so on until the list is reversed in place. The number of iterations needed is half the list size. If the list has an odd number of items then the middle item will stay in its place.\n"
      ]
    },
    {
      "cell_type": "markdown",
      "metadata": {
        "id": "OGFJYxRmP2CH"
      },
      "source": [
        "# CODE"
      ]
    },
    {
      "cell_type": "code",
      "metadata": {
        "colab": {
          "base_uri": "https://localhost:8080/"
        },
        "id": "z5l5ksK9Duv9",
        "outputId": "8ae486fb-f53b-43de-8bbf-16675d7b44c6"
      },
      "source": [
        "def reverse_list(numlist):\n",
        "  i=0\n",
        "  j=len(numlist)-1\n",
        "  while(i<=j):\n",
        "    temp=numlist[i]\n",
        "    numlist[i]=numlist[j]\n",
        "    numlist[j]=temp\n",
        "    j-=1\n",
        "    i+=1\n",
        "  return numlist\n",
        "lst=[1,2,3,4]  \n",
        "print(\"Given list is:\",lst)\n",
        "reverse_list(lst)\n",
        "print(\"reverse of the given list:\",lst)"
      ],
      "execution_count": null,
      "outputs": [
        {
          "output_type": "stream",
          "text": [
            "Given list is: [1, 2, 3, 4]\n",
            "reverse of the given list: [4, 3, 2, 1]\n"
          ],
          "name": "stdout"
        }
      ]
    },
    {
      "cell_type": "markdown",
      "metadata": {
        "id": "_jbEtjcGQWEk"
      },
      "source": [
        "# AIM\n",
        "# 10c.write function to compute gcd of two numbers ,each function should not exceed one line"
      ]
    },
    {
      "cell_type": "markdown",
      "metadata": {
        "id": "CXHy-5KD0HVd"
      },
      "source": [
        "**DESCRIPTION:**\n",
        "\n",
        "Python provides you an anonymous function called lambda. It can take any number of\n",
        "arguments, but can only have one expression. It can be used to find LCM and GCD values without exceeding each from from one line.\n",
        "\n",
        "The general format is\n",
        "\n",
        "**lambda arguments: expression**\n",
        "\n",
        "The expression is executed during the function call and the result is returned. \n",
        "\n",
        "**Lambda as a Function**\n",
        "\n",
        "The power of using a lambda expression is implementing it using a function"
      ]
    },
    {
      "cell_type": "markdown",
      "metadata": {
        "id": "lXwta26JQAbK"
      },
      "source": [
        "# CODE"
      ]
    },
    {
      "cell_type": "code",
      "metadata": {
        "colab": {
          "base_uri": "https://localhost:8080/"
        },
        "id": "GiAqkc_PSA1G",
        "outputId": "715b8a58-10ec-47a2-bcce-fe336868fcb7"
      },
      "source": [
        "gcd=lambda a,b: a if b==0 else gcd(a,a%b)\n",
        "lcm=lambda a,b: (a*b)/gcd(a,b)\n",
        "\n",
        "x=3\n",
        "y=24\n",
        "print(\"the given numbers :\",x,y)\n",
        "print(\"gcd is\",gcd(x,y))\n",
        "print(\"lcm is\",lcm(x,y))"
      ],
      "execution_count": null,
      "outputs": [
        {
          "output_type": "stream",
          "text": [
            "the given numbers : 3 24\n",
            "gcd is 3\n",
            "lcm is 24.0\n"
          ],
          "name": "stdout"
        }
      ]
    },
    {
      "cell_type": "markdown",
      "metadata": {
        "id": "L2KXx2_7Ny88"
      },
      "source": [
        "# **Exercise 11 - Multi-D Lists**\n",
        "**AIM**:\n",
        "\n",
        "# a) Write a program that defines a matrix and prints"
      ]
    },
    {
      "cell_type": "markdown",
      "metadata": {
        "id": "DtKVfepz1d7z"
      },
      "source": [
        "**DESCRIPTION:**\n",
        "\n",
        "Lists are a very widely use data structure in python. They contain a list of elements separated by comma. But sometimes lists can also contain lists within them. These are called nested lists or multidimensional lists. In this article we will see how to create and access elements in a multidimensional list.\n",
        "\n",
        "**Methods on Multidimensional lists**\n",
        "\n",
        "1. append(): Adds an element at the end of the list.\n",
        "\n",
        "2. extend(): Add the elements of a list (or any iterable), to the end of the current list.\n",
        "\n",
        "3. reverse(): Reverses the order of the list."
      ]
    },
    {
      "cell_type": "markdown",
      "metadata": {
        "id": "6uQ9qCaSQKqK"
      },
      "source": [
        "# CODE"
      ]
    },
    {
      "cell_type": "code",
      "metadata": {
        "id": "RZQ196VoSu_e",
        "colab": {
          "base_uri": "https://localhost:8080/"
        },
        "outputId": "be78e922-7ad9-46a9-a0af-396174e73c82"
      },
      "source": [
        "matA=[[]]\n",
        "rows=int(input(\"enter row size of matrix:\"))\n",
        "cols=int(input(\"enter colomn size of matrix:\"))\n",
        "\n",
        "matA=[[int(input(\"enter[%d,%d]value:\"%(i,j)))for j in range (cols)]for i in range(rows)]\n",
        "print(\"matrix is:\")\n",
        "for i in range(rows):\n",
        "  for j in range(cols):\n",
        "    print(matA[i][j],end='\\t')\n",
        "  print()  "
      ],
      "execution_count": null,
      "outputs": [
        {
          "output_type": "stream",
          "name": "stdout",
          "text": [
            "enter row size of matrix:2\n",
            "enter colomn size of matrix:2\n",
            "enter[0,0]value:1\n",
            "enter[0,1]value:2\n",
            "enter[1,0]value:1\n",
            "enter[1,1]value:2\n",
            "matrix is:\n",
            "1\t2\t\n",
            "1\t2\t\n"
          ]
        }
      ]
    },
    {
      "cell_type": "markdown",
      "metadata": {
        "id": "nUhW41nVUvmA"
      },
      "source": [
        "# AIM \n",
        "# 11b. write a program to perform addition of two Square matrices"
      ]
    },
    {
      "cell_type": "markdown",
      "metadata": {
        "id": "mKoxGh1z2imX"
      },
      "source": [
        "**DESCRIPTION:**\n",
        "\n",
        "We can perform matrix addition in following ways in Python.  \n",
        "\n",
        "1. Using for loop: \n",
        "\n",
        "**Explanation** :- \n",
        "In this program we have used nested for loops to iterate through each row and each column. At each point we add the corresponding elements in the two matrices and store it in the result.\n",
        "\n",
        "2. Using nested list comprehension :\n",
        "\n",
        " In Python, we can implement a matrix as nested list (list inside a list). We can treat each element as a row of the matrix. \n",
        "\n",
        "**Explanation :-**\n",
        "\n",
        "The output of this program is the same as above. We have used nested list comprehension to iterate through each element in the matrix. List comprehension allows us to write concise codes and we must try to use them frequently in Python. They are very helpful.\n",
        "\n",
        "3. uising zip function\n",
        "\n",
        "**Explanation :**\n",
        "\n",
        "The zip function accepts iterator i of each element(list) of matrix, mapping them, adding them using sum() and storing them in the map form."
      ]
    },
    {
      "cell_type": "markdown",
      "metadata": {
        "id": "hz_rX4bvRDIE"
      },
      "source": [
        "# CODE"
      ]
    },
    {
      "cell_type": "code",
      "metadata": {
        "colab": {
          "base_uri": "https://localhost:8080/"
        },
        "id": "ImOfeDfciYr8",
        "outputId": "c0ad68fa-ae47-4bd7-afee-83cc200801f1"
      },
      "source": [
        "def matRead(r,c):\n",
        "  return [[int(input(\"[%d,%d]value:\"%(i,j)))for j in range(c)]for i in range(r)]\n",
        "\n",
        "def matDisp(mat,r,c):\n",
        "  for  i in range(r):\n",
        "    for j in range(c):\n",
        "      print(mat[i][j],end='\\t')  \n",
        "    print()  \n",
        "\n",
        "matA=[[]]\n",
        "matB=[[]]\n",
        "matSum=[[]]\n",
        "rows=int(input(\"enter row size of the matrix\"))\n",
        "cols=int(input(\"enter column size of the matrix\"))\n",
        "if rows==cols:\n",
        "  print(\"enter matrix A elements\")\n",
        "  matA=matRead(rows,cols)\n",
        "  print(\"enter matrix b elements\")\n",
        "  matB=matRead(rows,cols)\n",
        "  print(\"matrix A is:\")\n",
        "  matDisp(matA,rows,cols)\n",
        "  print(\"matrix B is':\")\n",
        "\n",
        "  matDisp(matB,rows,cols)\n",
        "  matSum=[[matA[i][j]+matB[i][j]for j in range(cols)]for i in range(rows)]\n",
        "  print(\"Sum of matrices is :\")\n",
        "  matDisp(matSum,rows,cols)\n",
        "else:\n",
        "  print(\"Matrices Additom is not possible\")\n"
      ],
      "execution_count": null,
      "outputs": [
        {
          "output_type": "stream",
          "text": [
            "enter row size of the matrix2\n",
            "enter column size of the matrix2\n",
            "enter matrix A elements\n",
            "[0,0]value:1\n",
            "[0,1]value:2\n",
            "[1,0]value:3\n",
            "[1,1]value:4\n",
            "enter matrix b elements\n",
            "[0,0]value:1\n",
            "[0,1]value:2\n",
            "[1,0]value:3\n",
            "[1,1]value:4\n",
            "matrix A is:\n",
            "1\t2\t\n",
            "3\t4\t\n",
            "matrix B is':\n",
            "1\t2\t\n",
            "3\t4\t\n",
            "Sum of matrices is :\n",
            "2\t4\t\n",
            "6\t8\t\n"
          ],
          "name": "stdout"
        }
      ]
    },
    {
      "cell_type": "markdown",
      "metadata": {
        "id": "nDgk3gwfeXSa"
      },
      "source": [
        "#AIM\n",
        "# 11 c.Write a program to perform multiplication of two square matrices "
      ]
    },
    {
      "cell_type": "markdown",
      "metadata": {
        "id": "vetaWQVl4cCV"
      },
      "source": [
        "**DESCRIPTION:**\n",
        "\n",
        "In Python, we can implement a matrix as nested list (list inside a list).\n",
        "\n",
        "We can treat each element as a row of the matrix.\n",
        "\n",
        "For example X = [[1, 2], [4, 5], [3, 6]] would represent a 3x2 matrix.\n",
        "\n",
        "The first row can be selected as X[0]. And, the element in first row, first column can be selected as X[0][0].\n",
        "\n",
        "Multiplication of two matrices X and Y is defined only if the number of columns in X is equal to the number of rows Y.\n",
        "\n",
        "If X is a n x m matrix and Y is a m x l matrix then, XY is defined and has the dimension n x l (but YX is not defined). Here are a couple of ways to implement matrix multiplication in Python."
      ]
    },
    {
      "cell_type": "markdown",
      "metadata": {
        "id": "zzRM-q_ERPt5"
      },
      "source": [
        "# CODE"
      ]
    },
    {
      "cell_type": "code",
      "metadata": {
        "id": "0eDjR1AwmrmH",
        "colab": {
          "base_uri": "https://localhost:8080/"
        },
        "outputId": "10c81d8f-9534-4bb7-ca29-89af04a83f9d"
      },
      "source": [
        "def matRead(r,c):      \n",
        "  return[[int(input(\"[%d,%d]value:\"%(i,j)))for j in range(c)]for i in range(r)]\n",
        "\n",
        "def matDisp(mat,r,c):\n",
        "  for i in range(r):\n",
        "    for j in range(c): \n",
        "      print(mat[i][j],end='\\t') \n",
        "    print()  \n",
        "\n",
        "matA=[[]] \n",
        "matB=[[]]  \n",
        "matMul=[[]] \n",
        "rows=int(input(\"enter row size of the matrix\"))\n",
        "cols=int(input(\"enter columns size of the matrix\"))\n",
        "\n",
        "if rows==cols:\n",
        "  print(\"enter matrix A\")\n",
        "  matA=matRead(rows,cols)\n",
        "  print(\"enter matrix B\")\n",
        "  matB=matRead(rows,cols)\n",
        "   \n",
        "  matMul=[[0 for j in range(cols)]for i in range(rows)]\n",
        "  for i in range(rows):\n",
        "    for j in range(cols):\n",
        "      for k in range(cols):\n",
        "        matMul[i][j]+=matA[i][k]*matB[k][j]\n",
        "\n",
        "  print(\"matrix a is:\")        \n",
        "  matDisp(matA,rows,cols)\n",
        "  print(\"matrix B is:\")   \n",
        "  matDisp(matB,rows,cols)  \n",
        "  print(\"Multiplication of matrices is: \")   \n",
        "  matDisp(matMul,rows,cols)    \n",
        "else:\n",
        "  print(\" Matrices Multiplication is Not Possible\")\n",
        "\n",
        "\n"
      ],
      "execution_count": null,
      "outputs": [
        {
          "output_type": "stream",
          "text": [
            "enter row size of the matrix2\n",
            "enter columns size of the matrix2\n",
            "enter matrix A\n",
            "[0,0]value:1\n",
            "[0,1]value:1\n",
            "[1,0]value:2\n",
            "[1,1]value:2\n",
            "enter matrix B\n",
            "[0,0]value:2\n",
            "[0,1]value:2\n",
            "[1,0]value:1\n",
            "[1,1]value:1\n",
            "matrix a is:\n",
            "1\t1\t\n",
            "2\t2\t\n",
            "matrix B is:\n",
            "2\t2\t\n",
            "1\t1\t\n",
            "Multiplication of matrices is: \n",
            "3\t3\t\n",
            "6\t6\t\n"
          ],
          "name": "stdout"
        }
      ]
    },
    {
      "cell_type": "markdown",
      "metadata": {
        "id": "IIpb3riQYWSq"
      },
      "source": [
        "# **Exercise-12-Modules**"
      ]
    },
    {
      "cell_type": "markdown",
      "metadata": {
        "id": "hagVntG5YwdG"
      },
      "source": [
        "#AIM \n",
        "# a) Install packages requests,flask and explore them using(pip)"
      ]
    },
    {
      "cell_type": "markdown",
      "metadata": {
        "id": "IaCx0009OFFB"
      },
      "source": [
        "**DESCRIPTION:**\n",
        "\n",
        "Installing the pip Python package manager on Windows\n",
        "If you are on Windows, and your installed Python the current version, you already have pip! If your Python installation is not the most recent, the easiest thing to do is to simply reinstall it. Download the Python Windows installer at https://www.python.org/downloads/.\n",
        "\n",
        "In Windows, the variable that controls which programs are accessible from the command line is path. To modify your path to include Python and pip, we have to add C:\\Python27 and C:\\Python27\\Tools. Edit the Windows path by opening the Windows menu, right-clicking on Computer and clicking on Properties. Under Advanced system settings, click Environment Variables.... Scroll down until you find Path, double-click it, and add ;C:\\Python27;C:\\Python27\\Tools to the end.\n",
        "\n",
        "**Installing packages:**\n",
        "\n",
        "Suppose you want to install a package called requests (which is used to make HTTP requests). You need to issue the following command.\n",
        "\n",
        "pip install requests\n",
        "\n",
        "**show installed packages**\n",
        "\n",
        "You can use the following command to get information about a installed package, i.e Package name, version, location, dependencies.\n",
        "\n",
        "pip show package_name\n",
        "\n",
        "**install flask**\n",
        "\n",
        "On Mac and Linux, because you are installing programs outside the user-owned folders, you might have to prepend sudo to the install commands. To install Flask, simply run this:\n",
        "\n",
        "$ pip install flask\n",
        "\n",
        "**show installed flask**\n",
        "\n",
        "You can use the following command to get information about a installed flask, i.e Package name, version, location, dependencies\n",
        "\n",
        "$ pip show flask\n",
        "\n"
      ]
    },
    {
      "cell_type": "markdown",
      "metadata": {
        "id": "-cMBp0mqTurr"
      },
      "source": [
        "**PROGRAM:**"
      ]
    },
    {
      "cell_type": "markdown",
      "metadata": {
        "id": "LCBAojP6ZAhd"
      },
      "source": [
        "The requests and flask packages are downloaded from internet using the following commands."
      ]
    },
    {
      "cell_type": "markdown",
      "metadata": {
        "id": "gRTViQJm_XQO"
      },
      "source": [
        "c:\\phython3.9\\scripts>pip install requests"
      ]
    },
    {
      "cell_type": "markdown",
      "metadata": {
        "id": "XVo51MUtAcxx"
      },
      "source": [
        "c:\\phython3.9\\scripts>pip show requests"
      ]
    },
    {
      "cell_type": "markdown",
      "metadata": {
        "id": "PYV8BTnRAgWm"
      },
      "source": [
        "c:\\phython3.9\\scripts>pip install flask"
      ]
    },
    {
      "cell_type": "markdown",
      "metadata": {
        "id": "jPoq_KQOAjyX"
      },
      "source": [
        "c:\\phython3.9\\scripts>pip show flask"
      ]
    },
    {
      "cell_type": "markdown",
      "metadata": {
        "id": "idDOQ27sDHcB"
      },
      "source": [
        "# AIM\n",
        "# 12b. write a script that imports requests and fetch content from the page"
      ]
    },
    {
      "cell_type": "markdown",
      "metadata": {
        "id": "Wi7uKYU_xYt_"
      },
      "source": [
        "**DESCRIPTION:**\n",
        "\n",
        "The Hypertext Transfer Protocol (HTTP) is an application protocol for distributed, collaborative, hypermedia information systems. HTTP is the foundation of data communication for the World Wide Web.\n",
        "\n",
        "**Python requests**\n",
        "\n",
        "Requests is a simple and elegant Python HTTP library. It provides methods for accessing Web resources via HTTP.\n",
        "\n",
        "**Python requests reading a web page**\n",
        "\n",
        "The **get()** method issues a GET request; it fetches documents identified by the given URL."
      ]
    },
    {
      "cell_type": "markdown",
      "metadata": {
        "id": "etgYS1xjST0K"
      },
      "source": [
        "# CODE"
      ]
    },
    {
      "cell_type": "code",
      "metadata": {
        "colab": {
          "base_uri": "https://localhost:8080/"
        },
        "id": "ap3PO3msDYNl",
        "outputId": "785d386c-e60e-48e2-bc13-fe1e6c3e08dc"
      },
      "source": [
        "import requests\n",
        "r=requests.get('https://www.google.com')\n",
        "print(\"Statuscode:\",r.status_code)\n",
        "print(\"Header Content:\",r.headers['content-type'])\n",
        "print(r.text)"
      ],
      "execution_count": null,
      "outputs": [
        {
          "output_type": "stream",
          "text": [
            "Statuscode: 200\n",
            "Header Content: text/html; charset=ISO-8859-1\n",
            "<!doctype html><html itemscope=\"\" itemtype=\"http://schema.org/WebPage\" lang=\"zh-TW\"><head><meta content=\"text/html; charset=UTF-8\" http-equiv=\"Content-Type\"><meta content=\"/images/branding/googleg/1x/googleg_standard_color_128dp.png\" itemprop=\"image\"><title>Google</title><script nonce=\"b6FRBTP60tj5emzpiTG2xA==\">(function(){window.google={kEI:'J1DXYKKuCpL50ATFgb1I',kEXPI:'0,772215,1,530320,56873,954,5105,206,3264,1540,2316,383,246,5,1354,5251,16231,10,1106274,1197719,533,30,328985,51223,16115,19397,9287,17572,4858,1362,9290,3029,17580,4998,13228,1838,2009,4192,6430,14527,4520,2775,919,5081,1593,1279,2212,530,149,1103,840,1983,213,4101,108,3406,606,2023,1777,520,14670,3227,2845,9,4771,826,6755,5096,7539,338,4928,108,3407,908,2,940,2615,2397,10745,3,576,6460,148,5991,7984,4,1528,2304,1236,10486,2015,4067,9544,4764,2658,4243,2458,656,30,13628,2305,638,2113,4967,5545,4990,665,2271,3535,2551,992,3102,3138,8,612,294,3,3541,1,11942,2768,1814,283,38,874,5992,6754,432,552,4788,2,1394,2806,1715,2,3057,2017,521,2,1,3,4953,666,663,2139,1128,2,801,626,906,1454,923,93,1713,618,1274,1536,2636,406,1576,3,516,1602,1173,1736,17,833,1417,453,95,2,364,78,598,1160,1269,1249,545,419,1213,2,2002,1441,937,1401,176,4818,668,204,3,56,847,701,783,390,1010,1630,56,13,1447,321,1740,326,447,341,586,235,227,120,6,1041,1118,2,1,238,48,2,6,29,2,6,42,2356,343,1015,981,8,168,3,82,46,747,874,612,671,760,330,70,717,134,5625322,99,95,32,63,155,2,59,31,5996778,46,2800651,882,444,1,2,80,1,1796,1,9,2,2551,1,748,141,795,563,1,4265,1,1,2,1331,3299,843,2609,155,17,13,72,139,4,2,20,2,169,13,19,46,5,39,96,548,29,2,2,1,2,1,2,2,7,4,1,2,2,2,2,2,2,353,513,199,17,16,2,4,2,2,14,15,2,2,16,5,8,16,1,2,59,7,23954973,2857454,1152820,268,1835,26467,2,865,1509,3,120,3,6,338,3,2340,74,803,393,461,123',kBL:'agTH'};google.sn='webhp';google.kHL='zh-TW';})();(function(){\n",
            "var f=this||self;var h,k=[];function l(a){for(var b;a&&(!a.getAttribute||!(b=a.getAttribute(\"eid\")));)a=a.parentNode;return b||h}function m(a){for(var b=null;a&&(!a.getAttribute||!(b=a.getAttribute(\"leid\")));)a=a.parentNode;return b}\n",
            "function n(a,b,c,d,g){var e=\"\";c||-1!==b.search(\"&ei=\")||(e=\"&ei=\"+l(d),-1===b.search(\"&lei=\")&&(d=m(d))&&(e+=\"&lei=\"+d));d=\"\";!c&&f._cshid&&-1===b.search(\"&cshid=\")&&\"slh\"!==a&&(d=\"&cshid=\"+f._cshid);c=c||\"/\"+(g||\"gen_204\")+\"?atyp=i&ct=\"+a+\"&cad=\"+b+e+\"&zx=\"+Date.now()+d;/^http:/i.test(c)&&\"https:\"===window.location.protocol&&(google.ml&&google.ml(Error(\"a\"),!1,{src:c,glmm:1}),c=\"\");return c};h=google.kEI;google.getEI=l;google.getLEI=m;google.ml=function(){return null};google.log=function(a,b,c,d,g){if(c=n(a,b,c,d,g)){a=new Image;var e=k.length;k[e]=a;a.onerror=a.onload=a.onabort=function(){delete k[e]};a.src=c}};google.logUrl=n;}).call(this);(function(){\n",
            "google.y={};google.sy=[];google.x=function(a,b){if(a)var c=a.id;else{do c=Math.random();while(google.y[c])}google.y[c]=[a,b];return!1};google.sx=function(a){google.sy.push(a)};google.lm=[];google.plm=function(a){google.lm.push.apply(google.lm,a)};google.lq=[];google.load=function(a,b,c){google.lq.push([[a],b,c])};google.loadAll=function(a,b){google.lq.push([a,b])};google.bx=!1;google.lx=function(){};}).call(this);google.f={};(function(){\n",
            "document.documentElement.addEventListener(\"submit\",function(b){var a;if(a=b.target){var c=a.getAttribute(\"data-submitfalse\");a=\"1\"==c||\"q\"==c&&!a.elements.q.value?!0:!1}else a=!1;a&&(b.preventDefault(),b.stopPropagation())},!0);document.documentElement.addEventListener(\"click\",function(b){var a;a:{for(a=b.target;a&&a!=document.documentElement;a=a.parentElement)if(\"A\"==a.tagName){a=\"1\"==a.getAttribute(\"data-nohref\");break a}a=!1}a&&b.preventDefault()},!0);}).call(this);</script><style>#gbar,#guser{font-size:13px;padding-top:1px !important;}#gbar{height:22px}#guser{padding-bottom:7px !important;text-align:right}.gbh,.gbd{border-top:1px solid #c9d7f1;font-size:1px}.gbh{height:0;position:absolute;top:24px;width:100%}@media all{.gb1{height:22px;margin-right:.5em;vertical-align:top}#gbar{float:left}}a.gb1,a.gb4{text-decoration:underline !important}a.gb1,a.gb4{color:#00c !important}.gbi .gb4{color:#dd8e27 !important}.gbf .gb4{color:#900 !important}\n",
            "</style><style>body,td,a,p,.h{font-family:arial,sans-serif}body{margin:0;overflow-y:scroll}#gog{padding:3px 8px 0}td{line-height:.8em}.gac_m td{line-height:17px}form{margin-bottom:20px}.h{color:#1558d6}em{color:#c5221f;font-style:normal;font-weight:normal}a em{text-decoration:underline}.lst{height:25px;width:496px}.gsfi,.lst{font:18px arial,sans-serif}.gsfs{font:17px arial,sans-serif}.ds{display:inline-box;display:inline-block;margin:3px 0 4px;margin-left:4px}input{font-family:inherit}body{background:#fff;color:#000}a{color:#4b11a8;text-decoration:none}a:hover,a:active{text-decoration:underline}.fl a{color:#1558d6}a:visited{color:#4b11a8}.sblc{padding-top:5px}.sblc a{display:block;margin:2px 0;margin-left:13px;font-size:11px}.lsbb{background:#f8f9fa;border:solid 1px;border-color:#dadce0 #70757a #70757a #dadce0;height:30px}.lsbb{display:block}#WqQANb a{display:inline-block;margin:0 12px}.lsb{background:url(/images/nav_logo229.png) 0 -261px repeat-x;border:none;color:#000;cursor:pointer;height:30px;margin:0;outline:0;font:15px arial,sans-serif;vertical-align:top}.lsb:active{background:#dadce0}.lst:focus{outline:none}</style><script nonce=\"b6FRBTP60tj5emzpiTG2xA==\"></script></head><body bgcolor=\"#fff\"><script nonce=\"b6FRBTP60tj5emzpiTG2xA==\">(function(){var src='/images/nav_logo229.png';var iesg=false;document.body.onload = function(){window.n && window.n();if (document.images){new Image().src=src;}\n",
            "if (!iesg){document.f&&document.f.q.focus();document.gbqf&&document.gbqf.q.focus();}\n",
            "}\n",
            "})();</script><div id=\"mngb\"><div id=gbar><nobr><b class=gb1>&#25628;&#23563;</b> <a class=gb1 href=\"https://www.google.com.tw/imghp?hl=zh-TW&tab=wi\">&#22294;&#29255;</a> <a class=gb1 href=\"https://maps.google.com.tw/maps?hl=zh-TW&tab=wl\">&#22320;&#22294;</a> <a class=gb1 href=\"https://play.google.com/?hl=zh-TW&tab=w8\">Play</a> <a class=gb1 href=\"https://www.youtube.com/?gl=TW&tab=w1\">YouTube</a> <a class=gb1 href=\"https://news.google.com/?tab=wn\">&#26032;&#32862;</a> <a class=gb1 href=\"https://mail.google.com/mail/?tab=wm\">Gmail</a> <a class=gb1 href=\"https://drive.google.com/?tab=wo\">&#38642;&#31471;&#30828;&#30879;</a> <a class=gb1 style=\"text-decoration:none\" href=\"https://www.google.com.tw/intl/zh-TW/about/products?tab=wh\"><u>&#26356;&#22810;</u> &raquo;</a></nobr></div><div id=guser width=100%><nobr><span id=gbn class=gbi></span><span id=gbf class=gbf></span><span id=gbe></span><a href=\"http://www.google.com.tw/history/optout?hl=zh-TW\" class=gb4>&#32178;&#38913;&#35352;&#37636;</a> | <a  href=\"/preferences?hl=zh-TW\" class=gb4>&#35373;&#23450;</a> | <a target=_top id=gb_70 href=\"https://accounts.google.com/ServiceLogin?hl=zh-TW&passive=true&continue=https://www.google.com/&ec=GAZAAQ\" class=gb4>&#30331;&#20837;</a></nobr></div><div class=gbh style=left:0></div><div class=gbh style=right:0></div></div><center><br clear=\"all\" id=\"lgpd\"><div id=\"lga\"><img alt=\"Google\" height=\"92\" src=\"/images/branding/googlelogo/1x/googlelogo_white_background_color_272x92dp.png\" style=\"padding:28px 0 14px\" width=\"272\" id=\"hplogo\"><br><br></div><form action=\"/search\" name=\"f\"><table cellpadding=\"0\" cellspacing=\"0\"><tr valign=\"top\"><td width=\"25%\">&nbsp;</td><td align=\"center\" nowrap=\"\"><input name=\"ie\" value=\"ISO-8859-1\" type=\"hidden\"><input value=\"zh-TW\" name=\"hl\" type=\"hidden\"><input name=\"source\" type=\"hidden\" value=\"hp\"><input name=\"biw\" type=\"hidden\"><input name=\"bih\" type=\"hidden\"><div class=\"ds\" style=\"height:32px;margin:4px 0\"><input class=\"lst\" style=\"margin:0;padding:5px 8px 0 6px;vertical-align:top;color:#000\" autocomplete=\"off\" value=\"\" title=\"Google &#25628;&#23563;\" maxlength=\"2048\" name=\"q\" size=\"57\"></div><br style=\"line-height:0\"><span class=\"ds\"><span class=\"lsbb\"><input class=\"lsb\" value=\"Google &#25628;&#23563;\" name=\"btnG\" type=\"submit\"></span></span><span class=\"ds\"><span class=\"lsbb\"><input class=\"lsb\" id=\"tsuid1\" value=\"&#22909;&#25163;&#27683;\" name=\"btnI\" type=\"submit\"><script nonce=\"b6FRBTP60tj5emzpiTG2xA==\">(function(){var id='tsuid1';document.getElementById(id).onclick = function(){if (this.form.q.value){this.checked = 1;if (this.form.iflsig)this.form.iflsig.disabled = false;}\n",
            "else top.location='/doodles/';};})();</script><input value=\"AINFCbYAAAAAYNdeNzLJ7FuttJJZrwrOO5xZhSIff6mN\" name=\"iflsig\" type=\"hidden\"></span></span></td><td class=\"fl sblc\" align=\"left\" nowrap=\"\" width=\"25%\"><a href=\"/advanced_search?hl=zh-TW&amp;authuser=0\">&#36914;&#38542;&#25628;&#23563;</a></td></tr></table><input id=\"gbv\" name=\"gbv\" type=\"hidden\" value=\"1\"><script nonce=\"b6FRBTP60tj5emzpiTG2xA==\">(function(){\n",
            "var a,b=\"1\";if(document&&document.getElementById)if(\"undefined\"!=typeof XMLHttpRequest)b=\"2\";else if(\"undefined\"!=typeof ActiveXObject){var c,d,e=[\"MSXML2.XMLHTTP.6.0\",\"MSXML2.XMLHTTP.3.0\",\"MSXML2.XMLHTTP\",\"Microsoft.XMLHTTP\"];for(c=0;d=e[c++];)try{new ActiveXObject(d),b=\"2\"}catch(h){}}a=b;if(\"2\"==a&&-1==location.search.indexOf(\"&gbv=2\")){var f=google.gbvu,g=document.getElementById(\"gbv\");g&&(g.value=a);f&&window.setTimeout(function(){location.href=f},0)};}).call(this);</script></form><div id=\"gac_scont\"></div><div style=\"font-size:83%;min-height:3.5em\"><br></div><span id=\"footer\"><div style=\"font-size:10pt\"><div style=\"margin:19px auto;text-align:center\" id=\"WqQANb\"><a href=\"/intl/zh-TW/ads/\">&#24291;&#21578;&#26381;&#21209;</a><a href=\"http://www.google.com.tw/intl/zh-TW/services/\">&#21830;&#26989;&#35299;&#27770;&#26041;&#26696;</a><a href=\"/intl/zh-TW/about.html\">&#38364;&#26044; Google</a><a href=\"https://www.google.com/setprefdomain?prefdom=TW&amp;prev=https://www.google.com.tw/&amp;sig=K_wZyOTLc8pGCnu3pbZHt_xxPKMUI%3D\">Google.com.tw</a></div></div><p style=\"font-size:8pt;color:#70757a\">&copy; 2021 - <a href=\"/intl/zh-TW/policies/privacy/\">&#38577;&#31169;&#27402;</a> - <a href=\"/intl/zh-TW/policies/terms/\">&#26381;&#21209;&#26781;&#27454;</a></p></span></center><script nonce=\"b6FRBTP60tj5emzpiTG2xA==\">(function(){window.google.cdo={height:0,width:0};(function(){\n",
            "var a=window.innerWidth,b=window.innerHeight;if(!a||!b){var c=window.document,d=\"CSS1Compat\"==c.compatMode?c.documentElement:c.body;a=d.clientWidth;b=d.clientHeight}a&&b&&(a!=google.cdo.width||b!=google.cdo.height)&&google.log(\"\",\"\",\"/client_204?&atyp=i&biw=\"+a+\"&bih=\"+b+\"&ei=\"+google.kEI);}).call(this);})();</script> <script nonce=\"b6FRBTP60tj5emzpiTG2xA==\">(function(){google.xjs={ck:'',cs:'',excm:[],pml:false};})();</script>  <script nonce=\"b6FRBTP60tj5emzpiTG2xA==\">(function(){var u='/xjs/_/js/k\\x3dxjs.hp.en.JRh4tN6N9QQ.O/m\\x3dsb_he,d/am\\x3dAHgCLA/d\\x3d1/ed\\x3d1/rs\\x3dACT90oGYDOHwsB3rPn3m-ZHj8pe2l1LEYg';\n",
            "var e=this||self,f=function(a){return a};var g;var l=function(a,b){this.g=b===h?a:\"\"};l.prototype.toString=function(){return this.g+\"\"};var h={};function m(){var a=u;google.lx=function(){n(a);google.lx=function(){}};google.bx||google.lx()}\n",
            "function n(a){google.timers&&google.timers.load&&google.tick&&google.tick(\"load\",\"xjsls\");var b=document;var c=\"SCRIPT\";\"application/xhtml+xml\"===b.contentType&&(c=c.toLowerCase());c=b.createElement(c);if(void 0===g){b=null;var k=e.trustedTypes;if(k&&k.createPolicy){try{b=k.createPolicy(\"goog#html\",{createHTML:f,createScript:f,createScriptURL:f})}catch(p){e.console&&e.console.error(p.message)}g=b}else g=b}a=(b=g)?b.createScriptURL(a):a;a=new l(a,h);c.src=a instanceof l&&a.constructor===l?a.g:\"type_error:TrustedResourceUrl\";var d;a=(c.ownerDocument&&c.ownerDocument.defaultView||window).document;(d=(a=null===(d=a.querySelector)||void 0===d?void 0:d.call(a,\"script[nonce]\"))?a.nonce||a.getAttribute(\"nonce\")||\"\":\"\")&&c.setAttribute(\"nonce\",d);document.body.appendChild(c);google.psa=!0};setTimeout(function(){m()},0);})();(function(){window.google.xjsu='/xjs/_/js/k\\x3dxjs.hp.en.JRh4tN6N9QQ.O/m\\x3dsb_he,d/am\\x3dAHgCLA/d\\x3d1/ed\\x3d1/rs\\x3dACT90oGYDOHwsB3rPn3m-ZHj8pe2l1LEYg';})();function _DumpException(e){throw e;}\n",
            "function _F_installCss(c){}\n",
            "(function(){google.jl={attn:false,blt:'none',dw:false,emtn:0,ine:false,lls:'default',pdt:0,snet:true,ubm:false,uwp:true};})();(function(){var pmc='{\\x22d\\x22:{},\\x22sb_he\\x22:{\\x22agen\\x22:true,\\x22cgen\\x22:true,\\x22client\\x22:\\x22heirloom-hp\\x22,\\x22dh\\x22:true,\\x22dhqt\\x22:true,\\x22ds\\x22:\\x22\\x22,\\x22ffql\\x22:\\x22zh-TW\\x22,\\x22fl\\x22:true,\\x22host\\x22:\\x22google.com\\x22,\\x22isbh\\x22:28,\\x22jsonp\\x22:true,\\x22msgs\\x22:{\\x22cibl\\x22:\\x22&#28165;&#38500;&#25628;&#23563;\\x22,\\x22dym\\x22:\\x22&#24744;&#26159;&#19981;&#26159;&#35201;&#26597;&#65306;\\x22,\\x22lcky\\x22:\\x22&#22909;&#25163;&#27683;\\x22,\\x22lml\\x22:\\x22&#30637;&#35299;&#35443;&#24773;\\x22,\\x22oskt\\x22:\\x22&#36664;&#20837;&#24037;&#20855;\\x22,\\x22psrc\\x22:\\x22&#24050;&#24478;&#24744;&#30340;&#12300;\\\\u003Ca href\\x3d\\\\\\x22/history\\\\\\x22\\\\u003E&#32178;&#38913;&#35352;&#37636;\\\\u003C/a\\\\u003E&#12301;&#20013;&#31227;&#38500;&#36889;&#31558;&#25628;&#23563;&#35352;&#37636;\\x22,\\x22psrl\\x22:\\x22&#31227;&#38500;\\x22,\\x22sbit\\x22:\\x22&#20197;&#22294;&#25628;&#23563;\\x22,\\x22srch\\x22:\\x22Google &#25628;&#23563;\\x22},\\x22nrft\\x22:false,\\x22ovr\\x22:{},\\x22pq\\x22:\\x22\\x22,\\x22refpd\\x22:true,\\x22refspre\\x22:true,\\x22rfs\\x22:[],\\x22sbas\\x22:\\x220 3px 8px 0 rgba(0,0,0,0.2),0 0 0 1px rgba(0,0,0,0.08)\\x22,\\x22sbpl\\x22:16,\\x22sbpr\\x22:16,\\x22scd\\x22:10,\\x22stok\\x22:\\x22w3J51a03AylWWzeDf3Csh0AO56Y\\x22,\\x22uhde\\x22:false}}';google.pmc=JSON.parse(pmc);})();</script>        </body></html>\n"
          ],
          "name": "stdout"
        }
      ]
    },
    {
      "cell_type": "markdown",
      "metadata": {
        "id": "fucqRlx5ET6-"
      },
      "source": [
        "#AIM\n",
        "# 12 c. write a simple script that serves a simple HTTPResponse and a simple Html"
      ]
    },
    {
      "cell_type": "markdown",
      "metadata": {
        "id": "59H5hq-CXeRi"
      },
      "source": [
        "**DESCRIPTION:**\n",
        "\n",
        "  **HTTP Protocol**\n",
        "\n",
        "The most important part of a web server is HTTP protocol.So now we will see what exactly this is –\n",
        "\n",
        "It stands for Hyper Text Transfer Protocol.\n",
        "\n",
        "It is an application layer protocol that allows web based applications to \n",
        "communicate and exchange data.\n",
        "\n",
        "The HTTP is the messenger of web.\n",
        "\n",
        "The computer that communicate via the HTTP must speak the HTTP protocol.\n",
        "\n",
        "It is a TCP/IP based protocol.\n",
        "\n",
        "It is used to deliver contents, for eg. images, audios, videos, documents etc.\n",
        "\n",
        "Using HTTP is the most convenient way to quickly and reliably move data on the web.\n",
        "\n",
        "HTML stands for hypertext markup language. It is the standard markup language for web pages that define the structure of the content. These elements are the building blocks of any website"
      ]
    },
    {
      "cell_type": "markdown",
      "metadata": {
        "id": "8fbIEbsTSdlt"
      },
      "source": [
        "# CODE"
      ]
    },
    {
      "cell_type": "code",
      "metadata": {
        "colab": {
          "base_uri": "https://localhost:8080/",
          "height": 642
        },
        "id": "5a-T9PJjEgLh",
        "outputId": "0f136f18-1479-481e-b7eb-fbb5016c3592"
      },
      "source": [
        "from flask import Flask,render_template\n",
        "app=Flask(_name_)\n",
        "print(app)\n",
        "@app.route(\"/\")\n",
        "def main():\n",
        "  return render_template('login.html') \n",
        "\n",
        "if _name_==\"_main_\":\n",
        "  app.run(host=\"127.0.0.1\",port=2500)\n"
      ],
      "execution_count": null,
      "outputs": [
        {
          "output_type": "error",
          "ename": "NameError",
          "evalue": "ignored",
          "traceback": [
            "\u001b[0;31m---------------------------------------------------------------------------\u001b[0m",
            "\u001b[0;31mNameError\u001b[0m                                 Traceback (most recent call last)",
            "\u001b[0;32m<ipython-input-13-e57cd8f84b0e>\u001b[0m in \u001b[0;36m<module>\u001b[0;34m()\u001b[0m\n\u001b[1;32m      1\u001b[0m \u001b[0;32mfrom\u001b[0m \u001b[0mflask\u001b[0m \u001b[0;32mimport\u001b[0m \u001b[0mFlask\u001b[0m\u001b[0;34m,\u001b[0m\u001b[0mrender_template\u001b[0m\u001b[0;34m\u001b[0m\u001b[0;34m\u001b[0m\u001b[0m\n\u001b[0;32m----> 2\u001b[0;31m \u001b[0mapp\u001b[0m\u001b[0;34m=\u001b[0m\u001b[0mFlask\u001b[0m\u001b[0;34m(\u001b[0m\u001b[0m_name_\u001b[0m\u001b[0;34m)\u001b[0m\u001b[0;34m\u001b[0m\u001b[0;34m\u001b[0m\u001b[0m\n\u001b[0m\u001b[1;32m      3\u001b[0m \u001b[0mprint\u001b[0m\u001b[0;34m(\u001b[0m\u001b[0mapp\u001b[0m\u001b[0;34m)\u001b[0m\u001b[0;34m\u001b[0m\u001b[0;34m\u001b[0m\u001b[0m\n\u001b[1;32m      4\u001b[0m \u001b[0;34m@\u001b[0m\u001b[0mapp\u001b[0m\u001b[0;34m.\u001b[0m\u001b[0mroute\u001b[0m\u001b[0;34m(\u001b[0m\u001b[0;34m\"/\"\u001b[0m\u001b[0;34m)\u001b[0m\u001b[0;34m\u001b[0m\u001b[0;34m\u001b[0m\u001b[0m\n\u001b[1;32m      5\u001b[0m \u001b[0;32mdef\u001b[0m \u001b[0mmain\u001b[0m\u001b[0;34m(\u001b[0m\u001b[0;34m)\u001b[0m\u001b[0;34m:\u001b[0m\u001b[0;34m\u001b[0m\u001b[0;34m\u001b[0m\u001b[0m\n",
            "\u001b[0;31mNameError\u001b[0m: name '_name_' is not defined"
          ]
        }
      ]
    },
    {
      "cell_type": "markdown",
      "metadata": {
        "id": "VqF1S1lyN8YN"
      },
      "source": [
        "# **Exercise-13 OOP**"
      ]
    },
    {
      "cell_type": "markdown",
      "metadata": {
        "id": "cwKFeaxaHEv8"
      },
      "source": [
        "# AIM "
      ]
    },
    {
      "cell_type": "markdown",
      "metadata": {
        "id": "qmkjBTG7dTxc"
      },
      "source": [
        "# a)class variables and instance variable and illustration of the self -variable\n",
        "\n",
        "**DESCRIPTION:**\n",
        "\n",
        "Variables are named storage location. In python variables are not defined by its type instead it\n",
        "will be automatically determined by the value assigned to it.\n",
        "To determine the type of a variable a function called type () is used.\n",
        "\n",
        "**class variable**is shared by all object instances of a class. ... They are not defined inside any methods of a class. Because a class variable is shared by instances of a class, the Python class owns the variable. As a result, all instances of the class will be able to access that variable\n",
        "\n",
        "**Instance variables** are owned by instances of the class. This means that for each object or instance of a class, the instance variables are different. ... Instance variables, owned by objects of the class, allow for each object or instance to have different values assigned to those variables\n",
        "\n",
        "**self variable** is used to bind the instance of the class to the instance method. We have to explicitly declare it as the first method argument to access the instance variables and methods. This variable is used only with the instance methods.\n",
        "\n",
        "**PROGRAM:**\n",
        "\n",
        "**i)Robot**"
      ]
    },
    {
      "cell_type": "code",
      "metadata": {
        "id": "7zklj0b5HgXe"
      },
      "source": [
        "class Robot:\n",
        "  what=\"Machine\"\n",
        "  name=\"chitti\"\n",
        "  version=1.0\n",
        "  speed=\"1THZ\" \n",
        "  memory=\"1ZB\"\n",
        "\n",
        "  def update(upd):\n",
        "    upd.version=2.0\n",
        "    upd.speed=\"2THz\"\n",
        "    upd.memory=\"2ZB\"\n",
        "  def disp(self):\n",
        "    print(\"myself is a \",robj.what)  \n",
        "    print(\" myname is a \",robj.name)\n",
        "    print(\" Version:\",robj.version)\n",
        "    print(\"Speed:\",robj.speed)\n",
        "    print(\"Memory:\",robj.memory)\n",
        "robj=Robot()\n",
        "robj.disp()\n",
        "\n",
        "print(\"_______update_____\")\n",
        "robj.update()\n",
        "robj.disp()"
      ],
      "execution_count": null,
      "outputs": []
    },
    {
      "cell_type": "markdown",
      "metadata": {
        "id": "A8h4WmohJZpX"
      },
      "source": [
        "# 13 .a.ii) A.T.M.MACHINE"
      ]
    },
    {
      "cell_type": "code",
      "metadata": {
        "colab": {
          "base_uri": "https://localhost:8080/"
        },
        "id": "LpSG0aVPJvMJ",
        "outputId": "a3a98531-1c04-47e2-f053-a2fc59b11815"
      },
      "source": [
        "class ATM:\n",
        "  def _init_(self):\n",
        "    self.balance=0\n",
        "\n",
        "  def enquire(self):\n",
        "    print(\"Balance:\",self.balance) \n",
        "\n",
        "  def deposit(self):\n",
        "    amount=int(input(\"enter the deposite Amount:\"))\n",
        "    self.balance+=amount\n",
        "    self.enquire()\n",
        "\n",
        "  def withdraw(self):\n",
        "    amount=int(input(\"enter the withdraw amount\"))  \n",
        "    if self.balance<amount:\n",
        "      print(\"insufficient balance...!\")\n",
        "    else:\n",
        "      self.balance-=amount \n",
        "      self.enquire() \n",
        "aobj=ATM()\n",
        "while(True):\n",
        "  print(\"***Menu***\")\n",
        "  print(\"1.Deposit\")\n",
        "  print(\"2.Withdraw\")\n",
        "  print(\"3.Balance\")\n",
        "  print(\"0.exit\")\n",
        "  ch=int(input(\"enter your choice:\"))\n",
        "  if ch==0:\n",
        "    break\n",
        "  elif ch==1:\n",
        "    aobj.deposit()  \n",
        "  elif ch==2:\n",
        "    aobj.withdraw()  \n",
        "  elif ch==3:\n",
        "    aobj.enquire()  \n",
        "  else:\n",
        "    print(\"Invalid choice:\")  \n",
        "    pass"
      ],
      "execution_count": null,
      "outputs": [
        {
          "output_type": "stream",
          "text": [
            "***Menu***\n",
            "1.Deposit\n",
            "2.Withdraw\n",
            "3.Balance\n",
            "0.exit\n",
            "enter your choice:0\n"
          ],
          "name": "stdout"
        }
      ]
    },
    {
      "cell_type": "markdown",
      "metadata": {
        "id": "naRAGOW5cRJV"
      },
      "source": [
        "# **Exercise - 14 GUI, Graphics**\n",
        "\n",
        "**AIM:**"
      ]
    },
    {
      "cell_type": "markdown",
      "metadata": {
        "id": "8e5c9-uTRoq0"
      },
      "source": [
        "\n",
        "# 14 a) Write a GUI for an Expression Calculator using tk."
      ]
    },
    {
      "cell_type": "markdown",
      "metadata": {
        "id": "6zQRoEkIaRR3"
      },
      "source": [
        "**DESCRIPTION:**\n",
        "\n",
        "Tkinter is a Python package which comes with many functions and methods that can be used to create an application. In order to create a tkinter application, we generally create an instance of tkinter frame, i.e., Tk(). It helps to display the root window and manages all the other components of the tkinter application. We can initialize the tkinter instance by assigning the variable to it."
      ]
    },
    {
      "cell_type": "markdown",
      "metadata": {
        "id": "uXjmDvF1TER7"
      },
      "source": [
        "# PROGRAM"
      ]
    },
    {
      "cell_type": "code",
      "metadata": {
        "colab": {
          "base_uri": "https://localhost:8080/"
        },
        "id": "LLSFnHimR23G",
        "outputId": "b26efb90-8e1b-4619-c26b-477a97ccffb3"
      },
      "source": [
        "from tkinter import*\n",
        "win = Tk()\n",
        "win.geometry(\"312x324\")\n",
        "win.resizable(0, 0)\n",
        "win.title(\"My Calculator\")\n",
        "\n",
        "# updates the input field whenever you enters a number \n",
        "def btn_click(item): \n",
        "  expression = expression + str(item) \n",
        "  global expression\n",
        "  input_text.set(expression)\n",
        "\n",
        "# 'bt_clear' function :This is used to clear the input field \n",
        "def bt_clear(): \n",
        "  global expression \n",
        "  expression =\"\" \n",
        "  input_text.set(\"\")\n",
        "\n",
        "# calculates the expression present in input field \n",
        "def bt_equal():\n",
        " global expression \n",
        " result = str(eval(expression))\n",
        " input_text.set(result)\n",
        " expression =\"\"\n",
        "expression =\"\" \n",
        "\n",
        "# to get the instance of input field \n",
        "input_text=StringVar()\n",
        "# a frame for the input field\n",
        "input_frame= Frame(win, width=312, height=50, bd=0, highlightbackground=\"black\", highlightcolor=\"black\", highlightthickness=2)\n",
        "input_frame.pack(side-TOP)\n",
        "\n",
        "# a input field inside the 'Frame'\n",
        "\n",
        "input_field = Entry(input_frame, font=('arial', 18 , 'bold'), textvariable=input_text, width=50, bg=\"#eee\", bd=0, justify=RIGHT)\n",
        "input_field.grid(row=0, column=0)\n",
        "input_field.pack(ipady=10) # 'ipady' is internal padding to increase the height of input field\n",
        "\n",
        "#creating another 'Frame' for the button below the 'input_frame' btns_frame=Frame(win, width=312, height=272.5, bg=\"grey\") btns_frame.pack()\n",
        "\n",
        "# first row\n",
        "\n",
        "clear = Button(btns_frame, text = \"C\", fg = \"black\", width=32, height = 3, bd = 0, bg=\"#eee\", cursor= \"hand2\", command = lambda: bt_clear()).grid(row=0, column=0, columnspan= 3, padx = 1, pady = 1)\n",
        "\n",
        "divide= Button(btns_frame, text = \"/\", fg=\"black\", width = 10, height=3, bd=0, bg=\"#cce\", cursor= \"hand2\", command = lambda: btn_click(\"/\")).grid(row=0, column=3, padx=1, pady = 1)\n",
        "\n",
        "# second \n",
        "seven= Button(btns_frame, text= \"7\", fg=\"black\", width=10, height = 3, bd=0, bg=\"#fff\", cursor= \"hand2\", command = lambda: btn_click(7)).grid(row=1, column=0, padx = 1, pady = 1   )                                                                                                                                                                                                                                                                                                                                                                                                                      \n",
        "eight = Button(btns_frame, text= \"8\", fg=\"black\", width = 10, height = 3, bd = 0, bg=\"#fff\", cursor= \"hand2\", command=lambda: btn_click(8)).grid(row=1, column=1, padx=1, pady = 1) \n",
        "nine= Button(btns_frame, text = \"9\", fg = \"black\", width= 10, height = 3, bd = 0, bg=\"#fff\", cursor= \"hand2\", command = lambda: btn_click(9)).grid(row = 1, column=2, padx = 1, pady=1) \n",
        "multiply= Button(btns_frame, text=\"\", fg=\"black\", width= 10, height=3, bd=0, bg=\"#eee\", cursor = \"hand2\", command = lambda: btn_click(\"*\")).grid(row = 1, column=3, padx = 1, pady = 1)\n",
        "# third row\n",
        "\n",
        "four =Button(btns_frame, text = \"4\", fg=\"black\", width= 10, height=3, bd = 0, bg=\"#fff\", cursor=\n",
        " \n",
        "\"hand2\", command=lambda: btn_click(4)).grid(row=2, column=0, padx = 1, pady = 1)\n",
        "five= Button(btns_frame, text = \"5\", fg= \"black\", width= 10, height = 3, bd = 0, bg=\"#fff\", cursor=\n",
        "\"hand2\", command=lambda: btn_click(5)).grid(row = 2, column= 1, padx= 1, pady=1) \n",
        "six = Button(btns_frame, text = \"6\", fg = \"black\", width= 10, height = 3, bd = 0, bg=\"#fff\", cursor=\n",
        "\"hand2\", command = lambda: btn_click(6)).grid(row=2, column=2, padx = 1, pady = 1)\n",
        "minus = Button(btns_frame, text = \"-\", fg=\"black\", width=10, height = 3, bd=0, bg=\"#ece\", cursor= \n",
        "\"hand2\", command = lambda: btn_click(\"-\")).grid(row = 2, column=3, padx = 1, pady=1)\n",
        "\n",
        "# fourth row\n",
        "\n",
        "one= Button(btns_frame, text = \"1\", fg=\"black\", width = 10, height = 3, bd = 0, bg=\"#fff\", cursor =                        \n",
        "\"hand2\", command = lambda: btn_click(1)).grid(row = 3, column=0, padx = 1, pady = 1) \n",
        "two= Button(btns_frame, text = \"2\", fg = \"black\", width= 10, height = 3, bd = 0, bg=\"#fff\", cursor= \n",
        "\"hand2\", command = lambda: btn_click(2)).grid(row=3, column= 1, padx = 1, pady = 1) \n",
        "three= Button(btns_frame, text = \"3\", fg=\"black\", width= 10, height = 3, bd = 0, bg=\"#fff\", cursor= \"hand2\", command = lambda: btn_click(3)).grid(row=3, column=2, padx = 1, pady = 1)\n",
        "\n",
        "plus= Button(btns_frame, text = \"+\", fg = \"black\", width= 10, height = 3, bd = 0, bg=\"#cce\", cursor= \"hand2\", command = lambda: btn_click(\"+\")).grid(row = 3, column=3, padx = 1, pady = 1)\n",
        "\n",
        "# fourth row\n",
        "\n",
        "zero =Button(btns_frame, text = \"0\", fg=\"black\", width=21, height = 3, bd = 0, bg=\"#fff\", cursor=\n",
        "\"hand2\", command=lambda: btn_click(0)).grid(row = 4, column=0, columnspan=2, padx = 1, pady=1) \n",
        "point= Button(btns_frame, text = \".\", fg=\"black\", width= 10, height=3, bd = 0, bg=\"#ece\", cursor=\n",
        "\"hand2\", command = lambda: btn_click(\".\")).grid(row=4, column=2, padx = 1, pady=1)\n",
        "\n",
        "equals= Button(btns_frame, text= \"-\", fg=\"black\", width= 10, height=3, bd=0, bg=\"#ece\", cursor= \"hand2\", command = lambda: bt_equal()).grid(row=4, column=3, padx = 1, pady = 1)\n",
        "win.mainloop()"
      ],
      "execution_count": null,
      "outputs": [
        {
          "output_type": "error",
          "ename": "TclError",
          "evalue": "ignored",
          "traceback": [
            "\u001b[0;31m---------------------------------------------------------------------------\u001b[0m",
            "\u001b[0;31mTclError\u001b[0m                                  Traceback (most recent call last)",
            "\u001b[0;32m<ipython-input-20-b134b07d84a0>\u001b[0m in \u001b[0;36m<module>\u001b[0;34m()\u001b[0m\n\u001b[1;32m      1\u001b[0m \u001b[0;32mfrom\u001b[0m \u001b[0mtkinter\u001b[0m \u001b[0;32mimport\u001b[0m\u001b[0;34m*\u001b[0m\u001b[0;34m\u001b[0m\u001b[0;34m\u001b[0m\u001b[0m\n\u001b[0;32m----> 2\u001b[0;31m \u001b[0mwin\u001b[0m \u001b[0;34m=\u001b[0m \u001b[0mTk\u001b[0m\u001b[0;34m(\u001b[0m\u001b[0;34m)\u001b[0m\u001b[0;34m\u001b[0m\u001b[0;34m\u001b[0m\u001b[0m\n\u001b[0m\u001b[1;32m      3\u001b[0m \u001b[0mwin\u001b[0m\u001b[0;34m.\u001b[0m\u001b[0mgeometry\u001b[0m\u001b[0;34m(\u001b[0m\u001b[0;34m\"312x324\"\u001b[0m\u001b[0;34m)\u001b[0m\u001b[0;34m\u001b[0m\u001b[0;34m\u001b[0m\u001b[0m\n\u001b[1;32m      4\u001b[0m \u001b[0mwin\u001b[0m\u001b[0;34m.\u001b[0m\u001b[0mresizable\u001b[0m\u001b[0;34m(\u001b[0m\u001b[0;36m0\u001b[0m\u001b[0;34m,\u001b[0m \u001b[0;36m0\u001b[0m\u001b[0;34m)\u001b[0m\u001b[0;34m\u001b[0m\u001b[0;34m\u001b[0m\u001b[0m\n\u001b[1;32m      5\u001b[0m \u001b[0mwin\u001b[0m\u001b[0;34m.\u001b[0m\u001b[0mtitle\u001b[0m\u001b[0;34m(\u001b[0m\u001b[0;34m\"My Calculator\"\u001b[0m\u001b[0;34m)\u001b[0m\u001b[0;34m\u001b[0m\u001b[0;34m\u001b[0m\u001b[0m\n",
            "\u001b[0;32m/usr/lib/python3.7/tkinter/__init__.py\u001b[0m in \u001b[0;36m__init__\u001b[0;34m(self, screenName, baseName, className, useTk, sync, use)\u001b[0m\n\u001b[1;32m   2021\u001b[0m                 \u001b[0mbaseName\u001b[0m \u001b[0;34m=\u001b[0m \u001b[0mbaseName\u001b[0m \u001b[0;34m+\u001b[0m \u001b[0mext\u001b[0m\u001b[0;34m\u001b[0m\u001b[0;34m\u001b[0m\u001b[0m\n\u001b[1;32m   2022\u001b[0m         \u001b[0minteractive\u001b[0m \u001b[0;34m=\u001b[0m \u001b[0;36m0\u001b[0m\u001b[0;34m\u001b[0m\u001b[0;34m\u001b[0m\u001b[0m\n\u001b[0;32m-> 2023\u001b[0;31m         \u001b[0mself\u001b[0m\u001b[0;34m.\u001b[0m\u001b[0mtk\u001b[0m \u001b[0;34m=\u001b[0m \u001b[0m_tkinter\u001b[0m\u001b[0;34m.\u001b[0m\u001b[0mcreate\u001b[0m\u001b[0;34m(\u001b[0m\u001b[0mscreenName\u001b[0m\u001b[0;34m,\u001b[0m \u001b[0mbaseName\u001b[0m\u001b[0;34m,\u001b[0m \u001b[0mclassName\u001b[0m\u001b[0;34m,\u001b[0m \u001b[0minteractive\u001b[0m\u001b[0;34m,\u001b[0m \u001b[0mwantobjects\u001b[0m\u001b[0;34m,\u001b[0m \u001b[0museTk\u001b[0m\u001b[0;34m,\u001b[0m \u001b[0msync\u001b[0m\u001b[0;34m,\u001b[0m \u001b[0muse\u001b[0m\u001b[0;34m)\u001b[0m\u001b[0;34m\u001b[0m\u001b[0;34m\u001b[0m\u001b[0m\n\u001b[0m\u001b[1;32m   2024\u001b[0m         \u001b[0;32mif\u001b[0m \u001b[0museTk\u001b[0m\u001b[0;34m:\u001b[0m\u001b[0;34m\u001b[0m\u001b[0;34m\u001b[0m\u001b[0m\n\u001b[1;32m   2025\u001b[0m             \u001b[0mself\u001b[0m\u001b[0;34m.\u001b[0m\u001b[0m_loadtk\u001b[0m\u001b[0;34m(\u001b[0m\u001b[0;34m)\u001b[0m\u001b[0;34m\u001b[0m\u001b[0;34m\u001b[0m\u001b[0m\n",
            "\u001b[0;31mTclError\u001b[0m: no display name and no $DISPLAY environment variable"
          ]
        }
      ]
    },
    {
      "cell_type": "markdown",
      "metadata": {
        "id": "KJwV6nH_sJUa"
      },
      "source": [
        "#AIM\n",
        "# 14 b) Write a program to implement the following figures using turtle"
      ]
    },
    {
      "cell_type": "markdown",
      "metadata": {
        "id": "1rz1YLxxnHtq"
      },
      "source": [
        "**DESCRIPTION:**\n",
        "\n",
        "The turtle module is an extended reimplementation of the same-named module from the Python standard distribution up to version Python 2.5.\n",
        "\n",
        "It tries to keep the merits of the old turtle module and to be (nearly) 100% compatible with it. This means in the first place to enable the learning programmer to use all the commands, classes and methods interactively when using the module from within IDLE run with the -n switch.\n",
        "\n",
        "The turtle module provides turtle graphics primitives, in both object-oriented and procedure-oriented ways. Because it uses tkinter for the underlying graphics, it needs a version of Python installed with Tk support."
      ]
    },
    {
      "cell_type": "code",
      "metadata": {
        "id": "ptLcvDgqo09b"
      },
      "source": [
        "import turtle\n",
        "c=[\"red\",\"green\",\"blue\"]\n",
        "i=0\n",
        "turtle.pensize(5)\n",
        "\n",
        "for angle in range(0,360,30):\n",
        "    if i>2:\n",
        "        i=0\n",
        "    turtle.color(c[i])\n",
        "    turtle.seth(angle)\n",
        "    turtle.circle(50)\n",
        "    i+=1"
      ],
      "execution_count": null,
      "outputs": []
    },
    {
      "cell_type": "markdown",
      "metadata": {
        "id": "JsVEsCZBT317"
      },
      "source": [
        "# CODE"
      ]
    },
    {
      "cell_type": "code",
      "metadata": {
        "id": "7DwDJsWcsvm3"
      },
      "source": [
        "import turtle\n",
        "turtle.pensize(5)\n",
        "\n",
        "for i in range(36):\n",
        "    for j in range(4):\n",
        "        turtle.forward(70)\n",
        "        turtle.left(90)\n",
        "    turtle.left(10)"
      ],
      "execution_count": null,
      "outputs": []
    },
    {
      "cell_type": "markdown",
      "metadata": {
        "id": "BPkNOpROHieU"
      },
      "source": [
        "# **Exercise - 15 - Testing**"
      ]
    },
    {
      "cell_type": "markdown",
      "metadata": {
        "id": "hn6btOTht7xc"
      },
      "source": [
        "# AIM\n",
        "# 15 a) Write a test-case to check the function even numbers which return True on passing a list of all even numbers"
      ]
    },
    {
      "cell_type": "markdown",
      "metadata": {
        "id": "itrTr02eoLaG"
      },
      "source": [
        "**DESCRIPTION:**\n",
        "\n",
        "TestCase is used to create test cases by subclassing it. The last block of the code at the bottom allows us to run all the tests just by running the file. Basic terms used in the code : assertEqual() – This statement is used to check if the result obtained is equal to the expected result\n",
        "\n",
        "**test case:**\n",
        "\n",
        "A test case is a set of conditions which is used to determine whether a system under test works correctly."
      ]
    },
    {
      "cell_type": "markdown",
      "metadata": {
        "id": "v28BhJKRVOaD"
      },
      "source": [
        "# PROGRAM"
      ]
    },
    {
      "cell_type": "code",
      "metadata": {
        "colab": {
          "base_uri": "https://localhost:8080/"
        },
        "id": "PrUmk9ZkuhI9",
        "outputId": "3d29d6f8-851a-4dd4-d5b9-0ba29e87c55d"
      },
      "source": [
        "def evnNo(num): \n",
        "  stat=True\n",
        "\n",
        "  for i in num:\n",
        "   if i%2 ==1:      \n",
        "     stat=False\n",
        "     break\n",
        "  return stat\n",
        "\n",
        "numbers=[]\n",
        "print(\"Enter the FIVE numbers\")\n",
        "for i in range(0,5):\n",
        " numbers.append(int(input(\"Enter a value: \"))) \n",
        "print(evnNo(numbers))"
      ],
      "execution_count": null,
      "outputs": [
        {
          "output_type": "stream",
          "text": [
            "Enter the FIVE numbers\n",
            "Enter a value: 2\n",
            "Enter a value: 8\n",
            "Enter a value: 12\n",
            "Enter a value: 64\n",
            "Enter a value: 100\n",
            "True\n"
          ],
          "name": "stdout"
        }
      ]
    },
    {
      "cell_type": "markdown",
      "metadata": {
        "id": "26ATv4cmBMaX"
      },
      "source": [
        "# AIM\n",
        "# 15 b) Write a test-case to check the function reverse string which returns the reversed string"
      ]
    },
    {
      "cell_type": "markdown",
      "metadata": {
        "id": "DJ0kqiiIqeTP"
      },
      "source": [
        "**DESCRIPTION:**\n",
        "\n",
        "Python string library does’nt support the in-built “reverse()” as done by other python containers like list, hence knowing other methods to reverse string can prove to be useful. This article discusses several ways to achieve it.\n",
        "\n",
        "The reversed() returns the reversed iterator of the given string and then its elements are joined empty string separated using join(). And reversed order string is formed."
      ]
    },
    {
      "cell_type": "markdown",
      "metadata": {
        "id": "fln5sNI6VZTd"
      },
      "source": [
        "# CODE"
      ]
    },
    {
      "cell_type": "code",
      "metadata": {
        "id": "KV6vNlvNBvPP",
        "colab": {
          "base_uri": "https://localhost:8080/"
        },
        "outputId": "60cb8808-f41d-4beb-88f7-33642b4a898e"
      },
      "source": [
        "def rev_str(st): \n",
        "  return st[::-1]\n",
        "\n",
        "st=\" PUNDARI \" \n",
        "print(\"Given String is: \",st)\n",
        "\n",
        "print(\"Reverse is: \",rev_str(st))"
      ],
      "execution_count": null,
      "outputs": [
        {
          "output_type": "stream",
          "name": "stdout",
          "text": [
            "Given String is:   PUNDARI \n",
            "Reverse is:   IRADNUP \n"
          ]
        }
      ]
    },
    {
      "cell_type": "markdown",
      "metadata": {
        "id": "V4gf7AdJLNz5"
      },
      "source": [
        "# **Exercise - 16 - Advanced**"
      ]
    },
    {
      "cell_type": "markdown",
      "metadata": {
        "id": "CsBMZe-BC8Hx"
      },
      "source": [
        "#AIM\n",
        "# 16 a ) build any one classical data structure"
      ]
    },
    {
      "cell_type": "markdown",
      "metadata": {
        "id": "PGTQcBQtsXFV"
      },
      "source": [
        "**DESCRIPTION:**\n",
        "\n",
        "**What is a Data Structure?** \n",
        "\n",
        "Organizing, managing and storing data is important as it enables easier access and efficient modifications. Data Structures allows you to organize your data in such a way that enables you to store collections of data, relate them and perform operations on them accordingly. \n",
        "\n",
        "**Stack**\n",
        "Stacks are linear Data Structures which are based on the principle of Last-In-First-Out (LIFO) where data which is entered last will be the first to get accessed. It is built using the array structure and has operations namely, pushing (adding) elements, popping (deleting) elements and accessing elements only from one point in the stack called as the TOP. This TOP is the pointer to the current position of the stack. Stacks are prominently used in applications such as Recursive Programming, reversing words, undo mechanisms in word editors and so forth."
      ]
    },
    {
      "cell_type": "code",
      "metadata": {
        "colab": {
          "base_uri": "https://localhost:8080/",
          "height": 531
        },
        "id": "u99qVkGQLeNx",
        "outputId": "1e30f03c-af54-4964-d79a-e0588cfb0b20"
      },
      "source": [
        "import sys\n",
        "a=[]\n",
        "\n",
        "while True:\n",
        "    print(\"\\n1.PUSH 2.POP 3.DISPLAY 4.EXIT\")\n",
        "    ch=int(input(\"Enter Your Choice:\"))\n",
        "    if ch==1:\n",
        "        ele=int(input(\"Enter Element: \"))\n",
        "        a.append(ele)\n",
        "        print(\"Inserted\")\n",
        "    elif ch==2:\n",
        "        if len(a)==0:\n",
        "            print(\"\\t STACK IS EMPTY\")\n",
        "        else:\n",
        "            print(\"Deleted element is:\",a[len(a)-1])\n",
        "            a.remove(a[len(a)-1])\n",
        "    elif ch==3:\n",
        "        if len(a)==0:\n",
        "            print(\"\\tSTACK IS EMPTY\")\n",
        "        else:\n",
        "            print(\"\\t The Elements in Stack is: \")\n",
        "            for i in reversed(a):\n",
        "                print(i)\n",
        "    elif ch==4:\n",
        "        sys.exit()\n",
        "    else:\n",
        "        print(\"\\tINVALID CHOICE\")\n"
      ],
      "execution_count": null,
      "outputs": [
        {
          "name": "stdout",
          "output_type": "stream",
          "text": [
            "\n",
            "1.PUSH 2.POP 3.DISPLAY 4.EXIT\n",
            "Enter Your Choice:1\n",
            "Enter Element: 10\n",
            "Inserted\n",
            "\n",
            "1.PUSH 2.POP 3.DISPLAY 4.EXIT\n",
            "Enter Your Choice:1\n",
            "Enter Element: 30\n",
            "Inserted\n",
            "\n",
            "1.PUSH 2.POP 3.DISPLAY 4.EXIT\n",
            "Enter Your Choice:3\n",
            "\t The Elements in Stack is: \n",
            "30\n",
            "10\n",
            "\n",
            "1.PUSH 2.POP 3.DISPLAY 4.EXIT\n",
            "Enter Your Choice:2\n",
            "Deleted element is: 30\n",
            "\n",
            "1.PUSH 2.POP 3.DISPLAY 4.EXIT\n",
            "Enter Your Choice:4\n"
          ]
        },
        {
          "output_type": "error",
          "ename": "SystemExit",
          "evalue": "ignored",
          "traceback": [
            "An exception has occurred, use %tb to see the full traceback.\n",
            "\u001b[0;31mSystemExit\u001b[0m\n"
          ]
        },
        {
          "output_type": "stream",
          "name": "stderr",
          "text": [
            "/usr/local/lib/python3.7/dist-packages/IPython/core/interactiveshell.py:2890: UserWarning: To exit: use 'exit', 'quit', or Ctrl-D.\n",
            "  warn(\"To exit: use 'exit', 'quit', or Ctrl-D.\", stacklevel=1)\n"
          ]
        }
      ]
    },
    {
      "cell_type": "markdown",
      "metadata": {
        "id": "aSjf8MlIRAPc"
      },
      "source": [
        "#AIM\n",
        "# 16 b) write a program to solve knapsack problem"
      ]
    },
    {
      "cell_type": "markdown",
      "metadata": {
        "id": "vaYvLbR0tQgV"
      },
      "source": [
        "**DESCRIPTION:**\n",
        "\n",
        "Python Program for 0-1 Knapsack Problem\n",
        "\n",
        "Problem statement − We are given weights and values of n items, we need to put these items in a bag of capacity W up to the maximum capacity w. We need to carry a maximum number of items and return its value.\n",
        "\n",
        " Brute-force approach.\n",
        "\n",
        "dynamic approach."
      ]
    },
    {
      "cell_type": "markdown",
      "metadata": {
        "id": "0sj5ycQmWPaq"
      },
      "source": [
        "# CODE"
      ]
    },
    {
      "cell_type": "code",
      "metadata": {
        "colab": {
          "base_uri": "https://localhost:8080/"
        },
        "id": "Rar_aO0kQ7T8",
        "outputId": "46ecb8d9-5bc7-4b48-9eed-7131749fa511"
      },
      "source": [
        "def knapSack(W, wt, val, n):\n",
        "  K = [[0 for x in range(W+1)] for x in range(n+1)]\n",
        "  for i in range(n+1):\n",
        "   for w in range(W+1):     \n",
        "     if i==0 or w==0:\n",
        "      K[i][w] =0\n",
        "     elif wt[i-1] <=w:\n",
        "       K[i][w] =max(val[i-1]+ K[i-1][w-wt[i-1]],K[i-1][w]) \n",
        "     else:\n",
        "       K[i][w] = K[i-1][w]\n",
        "  return K[n][w]\n",
        "val = [5, 3, 4]\n",
        "wt = [3, 2, 1]\n",
        "W=5\n",
        "n = len(val)\n",
        "print(\"Maximum value knapsack of capacity W: \",knapSack(W, wt, val, n))"
      ],
      "execution_count": null,
      "outputs": [
        {
          "output_type": "stream",
          "text": [
            "Maximum value knapsack of capacity W:  9\n"
          ],
          "name": "stdout"
        }
      ]
    },
    {
      "cell_type": "markdown",
      "metadata": {
        "id": "cz7tUzy8UR8r"
      },
      "source": [
        "# **Exercise - 17&18–Data Analysis**"
      ]
    },
    {
      "cell_type": "markdown",
      "metadata": {
        "id": "IFOOOE5JU7W0"
      },
      "source": [
        "# AIM\n",
        "# Data analysis or manipulation using the following packages a) Numpy a) Scipy b) Pandas b) matplotlib"
      ]
    },
    {
      "cell_type": "markdown",
      "metadata": {
        "id": "T0rUdBvpWe-K"
      },
      "source": [
        "# PROGRAM"
      ]
    },
    {
      "cell_type": "code",
      "metadata": {
        "colab": {
          "base_uri": "https://localhost:8080/"
        },
        "id": "uJ2l28iHYQ40",
        "outputId": "d56abe4f-55c7-4bb0-856d-97b2a5d44080"
      },
      "source": [
        "#Python version\n",
        "import sys\n",
        "print('Python: {}'.format(sys.version))\n",
        " \n",
        " #scipy\n",
        "import scipy\n",
        "print('scipy: {}'.format(scipy.__version__))\n",
        "  \n",
        "# numpy\n",
        "import numpy\n",
        "print( 'numpy: {}'.format(numpy.__version__))\n",
        "   \n",
        "# matplotlib\n",
        "import matplotlib\n",
        "print('matplotlib: {}'.format(matplotlib.__version__))\n",
        "    \n",
        "# pandas\n",
        "import pandas\n",
        "print('pandas: {}'.format(pandas.__version__))\n",
        "\n",
        "#scikit-learn\n",
        "import sklearn\n",
        "print('sklearn: {}'.format(sklearn.__version__))\n",
        "    \n",
        "import seaborn\n",
        "print('seaborn: {}'.format(seaborn.__version__))\n",
        "    \n",
        "import urllib\n",
        "print('urlib: {}'.format(urllib.__name__))\n",
        "\n",
        "import csv\n",
        "print('csv: {}'.format(csv.__version__))"
      ],
      "execution_count": null,
      "outputs": [
        {
          "output_type": "stream",
          "text": [
            "Python: 3.7.11 (default, Jul  3 2021, 18:01:19) \n",
            "[GCC 7.5.0]\n",
            "scipy: 1.4.1\n",
            "numpy: 1.19.5\n",
            "matplotlib: 3.2.2\n",
            "pandas: 1.1.5\n",
            "sklearn: 0.22.2.post1\n",
            "seaborn: 0.11.1\n",
            "urlib: urllib\n",
            "csv: 1.0\n"
          ],
          "name": "stdout"
        }
      ]
    }
  ]
}